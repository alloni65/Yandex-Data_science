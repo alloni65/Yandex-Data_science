{
 "cells": [
  {
   "cell_type": "markdown",
   "id": "c8584d94",
   "metadata": {},
   "source": [
    "<div style=\"border:solid green 2px; padding: 20px\">\n",
    "<b>Никита, привет!</b>\n",
    "\n",
    "    \n",
    "Меня зовут Лина, я буду проверять твой проект. Предлагаю общаться на «ты», но если это не удобно, дай мне знать и мы передем на \"вы\". \n",
    "\n",
    "Моя цель — сделать твой проект еще лучше!\n",
    "\n",
    "Ниже ты найдешь мои комментарии - пожалуйста, не удаляй их, они будут особенно полезны для нашей работы в случае повторной проверки проекта. \n",
    "    \n",
    "Я буду использовать следующую цветовую разметку:\n",
    "<div class=\"alert alert-success\">\n",
    "<b>✅ Комментарий ревьюера: </b> Так выделены комментарии, если решение на отдельном шаге является полностью правильным.</div>\n",
    "    \n",
    "<div class=\"alert alert-warning\">\n",
    "<b>⚠️ Комментарий ревьюера:  </b> Так выделены небольшие замечания, либо рекоммендации к улучшению. Исправлять их не обязательно. Буду писать их, когда решение на отдельном шаге станет еще лучше, если внести небольшие коррективы.\n",
    "\n",
    "</div>\n",
    "\n",
    "<div class=\"alert alert-danger\">\n",
    "<b>❌ Комментарий ревьюера: </b> Так выделены самые важные замечания. Без их отработки проект не будет принят. </div>\n",
    "\n",
    "Если ты что-то меняешь в проекте или отвечаешь на мои комменатри — пиши об этом. Мне будет легче отследить изменения, если ты выделишь свои комментарии:\n",
    "<div class=\"alert alert-info\"> <b>Комментарий студента:</b> Например, вот так.</div>\n",
    "\n",
    "Всё это поможет выполнить повторную проверку твоего проекта оперативнее."
   ]
  },
  {
   "cell_type": "markdown",
   "id": "935e6169",
   "metadata": {
    "deletable": false,
    "editable": false,
    "id": "c81daeeb"
   },
   "source": [
    "# Исследование надежности заемщиков\n"
   ]
  },
  {
   "cell_type": "markdown",
   "id": "6df4a291",
   "metadata": {
    "deletable": false,
    "editable": false,
    "id": "827c20bf"
   },
   "source": [
    "Во второй части проекта вы выполните шаги 3 и 4. Их вручную проверит ревьюер.\n",
    "Чтобы вам не пришлось писать код заново для шагов 1 и 2, мы добавили авторские решения в ячейки с кодом. \n",
    "\n"
   ]
  },
  {
   "cell_type": "markdown",
   "id": "efff6135",
   "metadata": {},
   "source": [
    "<div class=\"alert alert-warning\">\n",
    "<b>⚠️ Комментарий ревьюера v1: </b> \n",
    "    \n",
    "Несмотря на то, что первая часть проекта проверяется автоматизрованно, дам по ней пару советов, они пригодятся тебе в следующих проектах. \n",
    "\n",
    "**Их отработка сейчас необязательна**.\n",
    "\n",
    "- После названия обязательно нужно добавить цели исследования, описание данных и план работы.   \n",
    "- Каждый шаг работы стоит завершать кратким выводом: что было сделано, какие результаты получены.\n",
    "\n",
    "Ты можешь воспользоваться методичкой по оформлению проектов. Ее можно найти в блоке курса: `Полезные инструкции для учёбы - Оформление проекта - Рекомендации по выполнению проектов`\n",
    "\n",
    " </div>"
   ]
  },
  {
   "cell_type": "markdown",
   "id": "040b7840",
   "metadata": {
    "deletable": false,
    "editable": false,
    "id": "744d7639"
   },
   "source": [
    "## Откройте таблицу и изучите общую информацию о данных"
   ]
  },
  {
   "cell_type": "markdown",
   "id": "c977391e",
   "metadata": {
    "deletable": false,
    "editable": false,
    "id": "e7a14c31"
   },
   "source": [
    "**Задание 1. Импортируйте библиотеку pandas. Считайте данные из csv-файла в датафрейм и сохраните в переменную `data`. Путь к файлу:**\n",
    "\n",
    "`/datasets/data.csv`"
   ]
  },
  {
   "cell_type": "code",
   "execution_count": 2,
   "id": "5298c489",
   "metadata": {
    "deletable": false,
    "id": "7bcf75c9"
   },
   "outputs": [],
   "source": [
    "import pandas as pd\n",
    "\n",
    "try:\n",
    "    data = pd.read_csv('/datasets/data.csv')\n",
    "except:\n",
    "    data = pd.read_csv('https://code.s3.yandex.net/datasets/data.csv')"
   ]
  },
  {
   "cell_type": "markdown",
   "id": "0a865385",
   "metadata": {
    "deletable": false,
    "editable": false,
    "id": "b8038fe3"
   },
   "source": [
    "**Задание 2. Выведите первые 20 строчек датафрейма `data` на экран.**"
   ]
  },
  {
   "cell_type": "code",
   "execution_count": 3,
   "id": "a0d15471",
   "metadata": {
    "deletable": false,
    "id": "2a7cab99",
    "outputId": "1a8f3ef2-d323-4ec2-ddf7-89670b5944c4"
   },
   "outputs": [
    {
     "data": {
      "text/html": [
       "<div>\n",
       "<style scoped>\n",
       "    .dataframe tbody tr th:only-of-type {\n",
       "        vertical-align: middle;\n",
       "    }\n",
       "\n",
       "    .dataframe tbody tr th {\n",
       "        vertical-align: top;\n",
       "    }\n",
       "\n",
       "    .dataframe thead th {\n",
       "        text-align: right;\n",
       "    }\n",
       "</style>\n",
       "<table border=\"1\" class=\"dataframe\">\n",
       "  <thead>\n",
       "    <tr style=\"text-align: right;\">\n",
       "      <th></th>\n",
       "      <th>children</th>\n",
       "      <th>days_employed</th>\n",
       "      <th>dob_years</th>\n",
       "      <th>education</th>\n",
       "      <th>education_id</th>\n",
       "      <th>family_status</th>\n",
       "      <th>family_status_id</th>\n",
       "      <th>gender</th>\n",
       "      <th>income_type</th>\n",
       "      <th>debt</th>\n",
       "      <th>total_income</th>\n",
       "      <th>purpose</th>\n",
       "    </tr>\n",
       "  </thead>\n",
       "  <tbody>\n",
       "    <tr>\n",
       "      <th>0</th>\n",
       "      <td>1</td>\n",
       "      <td>-8437.673028</td>\n",
       "      <td>42</td>\n",
       "      <td>высшее</td>\n",
       "      <td>0</td>\n",
       "      <td>женат / замужем</td>\n",
       "      <td>0</td>\n",
       "      <td>F</td>\n",
       "      <td>сотрудник</td>\n",
       "      <td>0</td>\n",
       "      <td>253875.639453</td>\n",
       "      <td>покупка жилья</td>\n",
       "    </tr>\n",
       "    <tr>\n",
       "      <th>1</th>\n",
       "      <td>1</td>\n",
       "      <td>-4024.803754</td>\n",
       "      <td>36</td>\n",
       "      <td>среднее</td>\n",
       "      <td>1</td>\n",
       "      <td>женат / замужем</td>\n",
       "      <td>0</td>\n",
       "      <td>F</td>\n",
       "      <td>сотрудник</td>\n",
       "      <td>0</td>\n",
       "      <td>112080.014102</td>\n",
       "      <td>приобретение автомобиля</td>\n",
       "    </tr>\n",
       "    <tr>\n",
       "      <th>2</th>\n",
       "      <td>0</td>\n",
       "      <td>-5623.422610</td>\n",
       "      <td>33</td>\n",
       "      <td>Среднее</td>\n",
       "      <td>1</td>\n",
       "      <td>женат / замужем</td>\n",
       "      <td>0</td>\n",
       "      <td>M</td>\n",
       "      <td>сотрудник</td>\n",
       "      <td>0</td>\n",
       "      <td>145885.952297</td>\n",
       "      <td>покупка жилья</td>\n",
       "    </tr>\n",
       "    <tr>\n",
       "      <th>3</th>\n",
       "      <td>3</td>\n",
       "      <td>-4124.747207</td>\n",
       "      <td>32</td>\n",
       "      <td>среднее</td>\n",
       "      <td>1</td>\n",
       "      <td>женат / замужем</td>\n",
       "      <td>0</td>\n",
       "      <td>M</td>\n",
       "      <td>сотрудник</td>\n",
       "      <td>0</td>\n",
       "      <td>267628.550329</td>\n",
       "      <td>дополнительное образование</td>\n",
       "    </tr>\n",
       "    <tr>\n",
       "      <th>4</th>\n",
       "      <td>0</td>\n",
       "      <td>340266.072047</td>\n",
       "      <td>53</td>\n",
       "      <td>среднее</td>\n",
       "      <td>1</td>\n",
       "      <td>гражданский брак</td>\n",
       "      <td>1</td>\n",
       "      <td>F</td>\n",
       "      <td>пенсионер</td>\n",
       "      <td>0</td>\n",
       "      <td>158616.077870</td>\n",
       "      <td>сыграть свадьбу</td>\n",
       "    </tr>\n",
       "    <tr>\n",
       "      <th>5</th>\n",
       "      <td>0</td>\n",
       "      <td>-926.185831</td>\n",
       "      <td>27</td>\n",
       "      <td>высшее</td>\n",
       "      <td>0</td>\n",
       "      <td>гражданский брак</td>\n",
       "      <td>1</td>\n",
       "      <td>M</td>\n",
       "      <td>компаньон</td>\n",
       "      <td>0</td>\n",
       "      <td>255763.565419</td>\n",
       "      <td>покупка жилья</td>\n",
       "    </tr>\n",
       "    <tr>\n",
       "      <th>6</th>\n",
       "      <td>0</td>\n",
       "      <td>-2879.202052</td>\n",
       "      <td>43</td>\n",
       "      <td>высшее</td>\n",
       "      <td>0</td>\n",
       "      <td>женат / замужем</td>\n",
       "      <td>0</td>\n",
       "      <td>F</td>\n",
       "      <td>компаньон</td>\n",
       "      <td>0</td>\n",
       "      <td>240525.971920</td>\n",
       "      <td>операции с жильем</td>\n",
       "    </tr>\n",
       "    <tr>\n",
       "      <th>7</th>\n",
       "      <td>0</td>\n",
       "      <td>-152.779569</td>\n",
       "      <td>50</td>\n",
       "      <td>СРЕДНЕЕ</td>\n",
       "      <td>1</td>\n",
       "      <td>женат / замужем</td>\n",
       "      <td>0</td>\n",
       "      <td>M</td>\n",
       "      <td>сотрудник</td>\n",
       "      <td>0</td>\n",
       "      <td>135823.934197</td>\n",
       "      <td>образование</td>\n",
       "    </tr>\n",
       "    <tr>\n",
       "      <th>8</th>\n",
       "      <td>2</td>\n",
       "      <td>-6929.865299</td>\n",
       "      <td>35</td>\n",
       "      <td>ВЫСШЕЕ</td>\n",
       "      <td>0</td>\n",
       "      <td>гражданский брак</td>\n",
       "      <td>1</td>\n",
       "      <td>F</td>\n",
       "      <td>сотрудник</td>\n",
       "      <td>0</td>\n",
       "      <td>95856.832424</td>\n",
       "      <td>на проведение свадьбы</td>\n",
       "    </tr>\n",
       "    <tr>\n",
       "      <th>9</th>\n",
       "      <td>0</td>\n",
       "      <td>-2188.756445</td>\n",
       "      <td>41</td>\n",
       "      <td>среднее</td>\n",
       "      <td>1</td>\n",
       "      <td>женат / замужем</td>\n",
       "      <td>0</td>\n",
       "      <td>M</td>\n",
       "      <td>сотрудник</td>\n",
       "      <td>0</td>\n",
       "      <td>144425.938277</td>\n",
       "      <td>покупка жилья для семьи</td>\n",
       "    </tr>\n",
       "    <tr>\n",
       "      <th>10</th>\n",
       "      <td>2</td>\n",
       "      <td>-4171.483647</td>\n",
       "      <td>36</td>\n",
       "      <td>высшее</td>\n",
       "      <td>0</td>\n",
       "      <td>женат / замужем</td>\n",
       "      <td>0</td>\n",
       "      <td>M</td>\n",
       "      <td>компаньон</td>\n",
       "      <td>0</td>\n",
       "      <td>113943.491460</td>\n",
       "      <td>покупка недвижимости</td>\n",
       "    </tr>\n",
       "    <tr>\n",
       "      <th>11</th>\n",
       "      <td>0</td>\n",
       "      <td>-792.701887</td>\n",
       "      <td>40</td>\n",
       "      <td>среднее</td>\n",
       "      <td>1</td>\n",
       "      <td>женат / замужем</td>\n",
       "      <td>0</td>\n",
       "      <td>F</td>\n",
       "      <td>сотрудник</td>\n",
       "      <td>0</td>\n",
       "      <td>77069.234271</td>\n",
       "      <td>покупка коммерческой недвижимости</td>\n",
       "    </tr>\n",
       "    <tr>\n",
       "      <th>12</th>\n",
       "      <td>0</td>\n",
       "      <td>NaN</td>\n",
       "      <td>65</td>\n",
       "      <td>среднее</td>\n",
       "      <td>1</td>\n",
       "      <td>гражданский брак</td>\n",
       "      <td>1</td>\n",
       "      <td>M</td>\n",
       "      <td>пенсионер</td>\n",
       "      <td>0</td>\n",
       "      <td>NaN</td>\n",
       "      <td>сыграть свадьбу</td>\n",
       "    </tr>\n",
       "    <tr>\n",
       "      <th>13</th>\n",
       "      <td>0</td>\n",
       "      <td>-1846.641941</td>\n",
       "      <td>54</td>\n",
       "      <td>неоконченное высшее</td>\n",
       "      <td>2</td>\n",
       "      <td>женат / замужем</td>\n",
       "      <td>0</td>\n",
       "      <td>F</td>\n",
       "      <td>сотрудник</td>\n",
       "      <td>0</td>\n",
       "      <td>130458.228857</td>\n",
       "      <td>приобретение автомобиля</td>\n",
       "    </tr>\n",
       "    <tr>\n",
       "      <th>14</th>\n",
       "      <td>0</td>\n",
       "      <td>-1844.956182</td>\n",
       "      <td>56</td>\n",
       "      <td>высшее</td>\n",
       "      <td>0</td>\n",
       "      <td>гражданский брак</td>\n",
       "      <td>1</td>\n",
       "      <td>F</td>\n",
       "      <td>компаньон</td>\n",
       "      <td>1</td>\n",
       "      <td>165127.911772</td>\n",
       "      <td>покупка жилой недвижимости</td>\n",
       "    </tr>\n",
       "    <tr>\n",
       "      <th>15</th>\n",
       "      <td>1</td>\n",
       "      <td>-972.364419</td>\n",
       "      <td>26</td>\n",
       "      <td>среднее</td>\n",
       "      <td>1</td>\n",
       "      <td>женат / замужем</td>\n",
       "      <td>0</td>\n",
       "      <td>F</td>\n",
       "      <td>сотрудник</td>\n",
       "      <td>0</td>\n",
       "      <td>116820.904450</td>\n",
       "      <td>строительство собственной недвижимости</td>\n",
       "    </tr>\n",
       "    <tr>\n",
       "      <th>16</th>\n",
       "      <td>0</td>\n",
       "      <td>-1719.934226</td>\n",
       "      <td>35</td>\n",
       "      <td>среднее</td>\n",
       "      <td>1</td>\n",
       "      <td>женат / замужем</td>\n",
       "      <td>0</td>\n",
       "      <td>F</td>\n",
       "      <td>сотрудник</td>\n",
       "      <td>0</td>\n",
       "      <td>289202.704229</td>\n",
       "      <td>недвижимость</td>\n",
       "    </tr>\n",
       "    <tr>\n",
       "      <th>17</th>\n",
       "      <td>0</td>\n",
       "      <td>-2369.999720</td>\n",
       "      <td>33</td>\n",
       "      <td>высшее</td>\n",
       "      <td>0</td>\n",
       "      <td>гражданский брак</td>\n",
       "      <td>1</td>\n",
       "      <td>M</td>\n",
       "      <td>сотрудник</td>\n",
       "      <td>0</td>\n",
       "      <td>90410.586745</td>\n",
       "      <td>строительство недвижимости</td>\n",
       "    </tr>\n",
       "    <tr>\n",
       "      <th>18</th>\n",
       "      <td>0</td>\n",
       "      <td>400281.136913</td>\n",
       "      <td>53</td>\n",
       "      <td>среднее</td>\n",
       "      <td>1</td>\n",
       "      <td>вдовец / вдова</td>\n",
       "      <td>2</td>\n",
       "      <td>F</td>\n",
       "      <td>пенсионер</td>\n",
       "      <td>0</td>\n",
       "      <td>56823.777243</td>\n",
       "      <td>на покупку подержанного автомобиля</td>\n",
       "    </tr>\n",
       "    <tr>\n",
       "      <th>19</th>\n",
       "      <td>0</td>\n",
       "      <td>-10038.818549</td>\n",
       "      <td>48</td>\n",
       "      <td>СРЕДНЕЕ</td>\n",
       "      <td>1</td>\n",
       "      <td>в разводе</td>\n",
       "      <td>3</td>\n",
       "      <td>F</td>\n",
       "      <td>сотрудник</td>\n",
       "      <td>0</td>\n",
       "      <td>242831.107982</td>\n",
       "      <td>на покупку своего автомобиля</td>\n",
       "    </tr>\n",
       "  </tbody>\n",
       "</table>\n",
       "</div>"
      ],
      "text/plain": [
       "    children  days_employed  dob_years            education  education_id  \\\n",
       "0          1   -8437.673028         42               высшее             0   \n",
       "1          1   -4024.803754         36              среднее             1   \n",
       "2          0   -5623.422610         33              Среднее             1   \n",
       "3          3   -4124.747207         32              среднее             1   \n",
       "4          0  340266.072047         53              среднее             1   \n",
       "5          0    -926.185831         27               высшее             0   \n",
       "6          0   -2879.202052         43               высшее             0   \n",
       "7          0    -152.779569         50              СРЕДНЕЕ             1   \n",
       "8          2   -6929.865299         35               ВЫСШЕЕ             0   \n",
       "9          0   -2188.756445         41              среднее             1   \n",
       "10         2   -4171.483647         36               высшее             0   \n",
       "11         0    -792.701887         40              среднее             1   \n",
       "12         0            NaN         65              среднее             1   \n",
       "13         0   -1846.641941         54  неоконченное высшее             2   \n",
       "14         0   -1844.956182         56               высшее             0   \n",
       "15         1    -972.364419         26              среднее             1   \n",
       "16         0   -1719.934226         35              среднее             1   \n",
       "17         0   -2369.999720         33               высшее             0   \n",
       "18         0  400281.136913         53              среднее             1   \n",
       "19         0  -10038.818549         48              СРЕДНЕЕ             1   \n",
       "\n",
       "       family_status  family_status_id gender income_type  debt  \\\n",
       "0    женат / замужем                 0      F   сотрудник     0   \n",
       "1    женат / замужем                 0      F   сотрудник     0   \n",
       "2    женат / замужем                 0      M   сотрудник     0   \n",
       "3    женат / замужем                 0      M   сотрудник     0   \n",
       "4   гражданский брак                 1      F   пенсионер     0   \n",
       "5   гражданский брак                 1      M   компаньон     0   \n",
       "6    женат / замужем                 0      F   компаньон     0   \n",
       "7    женат / замужем                 0      M   сотрудник     0   \n",
       "8   гражданский брак                 1      F   сотрудник     0   \n",
       "9    женат / замужем                 0      M   сотрудник     0   \n",
       "10   женат / замужем                 0      M   компаньон     0   \n",
       "11   женат / замужем                 0      F   сотрудник     0   \n",
       "12  гражданский брак                 1      M   пенсионер     0   \n",
       "13   женат / замужем                 0      F   сотрудник     0   \n",
       "14  гражданский брак                 1      F   компаньон     1   \n",
       "15   женат / замужем                 0      F   сотрудник     0   \n",
       "16   женат / замужем                 0      F   сотрудник     0   \n",
       "17  гражданский брак                 1      M   сотрудник     0   \n",
       "18    вдовец / вдова                 2      F   пенсионер     0   \n",
       "19         в разводе                 3      F   сотрудник     0   \n",
       "\n",
       "     total_income                                 purpose  \n",
       "0   253875.639453                           покупка жилья  \n",
       "1   112080.014102                 приобретение автомобиля  \n",
       "2   145885.952297                           покупка жилья  \n",
       "3   267628.550329              дополнительное образование  \n",
       "4   158616.077870                         сыграть свадьбу  \n",
       "5   255763.565419                           покупка жилья  \n",
       "6   240525.971920                       операции с жильем  \n",
       "7   135823.934197                             образование  \n",
       "8    95856.832424                   на проведение свадьбы  \n",
       "9   144425.938277                 покупка жилья для семьи  \n",
       "10  113943.491460                    покупка недвижимости  \n",
       "11   77069.234271       покупка коммерческой недвижимости  \n",
       "12            NaN                         сыграть свадьбу  \n",
       "13  130458.228857                 приобретение автомобиля  \n",
       "14  165127.911772              покупка жилой недвижимости  \n",
       "15  116820.904450  строительство собственной недвижимости  \n",
       "16  289202.704229                            недвижимость  \n",
       "17   90410.586745              строительство недвижимости  \n",
       "18   56823.777243      на покупку подержанного автомобиля  \n",
       "19  242831.107982            на покупку своего автомобиля  "
      ]
     },
     "execution_count": 3,
     "metadata": {},
     "output_type": "execute_result"
    }
   ],
   "source": [
    "data.head(20)"
   ]
  },
  {
   "cell_type": "markdown",
   "id": "72fe2334",
   "metadata": {
    "deletable": false,
    "editable": false,
    "id": "1c12e233"
   },
   "source": [
    "**Задание 3. Выведите основную информацию о датафрейме с помощью метода `info()`.**"
   ]
  },
  {
   "cell_type": "code",
   "execution_count": 4,
   "id": "d69664a4",
   "metadata": {
    "deletable": false,
    "id": "2b757bca",
    "outputId": "15376089-8dad-46c9-b520-c05248d43158"
   },
   "outputs": [
    {
     "name": "stdout",
     "output_type": "stream",
     "text": [
      "<class 'pandas.core.frame.DataFrame'>\n",
      "RangeIndex: 21525 entries, 0 to 21524\n",
      "Data columns (total 12 columns):\n",
      " #   Column            Non-Null Count  Dtype  \n",
      "---  ------            --------------  -----  \n",
      " 0   children          21525 non-null  int64  \n",
      " 1   days_employed     19351 non-null  float64\n",
      " 2   dob_years         21525 non-null  int64  \n",
      " 3   education         21525 non-null  object \n",
      " 4   education_id      21525 non-null  int64  \n",
      " 5   family_status     21525 non-null  object \n",
      " 6   family_status_id  21525 non-null  int64  \n",
      " 7   gender            21525 non-null  object \n",
      " 8   income_type       21525 non-null  object \n",
      " 9   debt              21525 non-null  int64  \n",
      " 10  total_income      19351 non-null  float64\n",
      " 11  purpose           21525 non-null  object \n",
      "dtypes: float64(2), int64(5), object(5)\n",
      "memory usage: 2.0+ MB\n"
     ]
    }
   ],
   "source": [
    "data.info()"
   ]
  },
  {
   "cell_type": "markdown",
   "id": "3a958252",
   "metadata": {
    "deletable": false,
    "editable": false,
    "id": "333ec665"
   },
   "source": [
    "## Предобработка данных"
   ]
  },
  {
   "cell_type": "markdown",
   "id": "ca191caa",
   "metadata": {
    "deletable": false,
    "editable": false,
    "id": "02d92d53"
   },
   "source": [
    "### Удаление пропусков"
   ]
  },
  {
   "cell_type": "markdown",
   "id": "d5bf6e38",
   "metadata": {
    "deletable": false,
    "editable": false,
    "id": "cd84967c"
   },
   "source": [
    "**Задание 4. Выведите количество пропущенных значений для каждого столбца. Используйте комбинацию двух методов.**"
   ]
  },
  {
   "cell_type": "code",
   "execution_count": 5,
   "id": "720883e1",
   "metadata": {
    "deletable": false,
    "id": "7f9b2309",
    "outputId": "81f4d817-781c-465c-ed15-91ce4446810d"
   },
   "outputs": [
    {
     "data": {
      "text/plain": [
       "children               0\n",
       "days_employed       2174\n",
       "dob_years              0\n",
       "education              0\n",
       "education_id           0\n",
       "family_status          0\n",
       "family_status_id       0\n",
       "gender                 0\n",
       "income_type            0\n",
       "debt                   0\n",
       "total_income        2174\n",
       "purpose                0\n",
       "dtype: int64"
      ]
     },
     "execution_count": 5,
     "metadata": {},
     "output_type": "execute_result"
    }
   ],
   "source": [
    "data.isna().sum()"
   ]
  },
  {
   "cell_type": "markdown",
   "id": "33c383c0",
   "metadata": {
    "deletable": false,
    "editable": false,
    "id": "db86e27b"
   },
   "source": [
    "**Задание 5. В двух столбцах есть пропущенные значения. Один из них — `days_employed`. Пропуски в этом столбце вы обработаете на следующем этапе. Другой столбец с пропущенными значениями — `total_income` — хранит данные о доходах. На сумму дохода сильнее всего влияет тип занятости, поэтому заполнить пропуски в этом столбце нужно медианным значением по каждому типу из столбца `income_type`. Например, у человека с типом занятости `сотрудник` пропуск в столбце `total_income` должен быть заполнен медианным доходом среди всех записей с тем же типом.**"
   ]
  },
  {
   "cell_type": "code",
   "execution_count": 6,
   "id": "c5c0ff9b",
   "metadata": {
    "deletable": false,
    "id": "42006a93"
   },
   "outputs": [],
   "source": [
    "for t in data['income_type'].unique():\n",
    "    data.loc[(data['income_type'] == t) & (data['total_income'].isna()), 'total_income'] = \\\n",
    "    data.loc[(data['income_type'] == t), 'total_income'].median()"
   ]
  },
  {
   "cell_type": "markdown",
   "id": "af04424c",
   "metadata": {
    "deletable": false,
    "editable": false,
    "id": "89da5ece"
   },
   "source": [
    "### Обработка аномальных значений"
   ]
  },
  {
   "cell_type": "markdown",
   "id": "7c332ec5",
   "metadata": {
    "deletable": false,
    "editable": false,
    "id": "57964554"
   },
   "source": [
    "**Задание 6. В данных могут встречаться артефакты (аномалии) — значения, которые не отражают действительность и появились по какой-то ошибке. таким артефактом будет отрицательное количество дней трудового стажа в столбце `days_employed`. Для реальных данных это нормально. Обработайте значения в этом столбце: замените все отрицательные значения положительными с помощью метода `abs()`.**"
   ]
  },
  {
   "cell_type": "code",
   "execution_count": 6,
   "id": "db74fc6c",
   "metadata": {
    "deletable": false,
    "id": "f6f055bf"
   },
   "outputs": [],
   "source": [
    "data['days_employed'] = data['days_employed'].abs()"
   ]
  },
  {
   "cell_type": "markdown",
   "id": "4e4cf601",
   "metadata": {
    "deletable": false,
    "editable": false,
    "id": "6107dd2f"
   },
   "source": [
    "**Задание 7. Для каждого типа занятости выведите медианное значение трудового стажа `days_employed` в днях.**"
   ]
  },
  {
   "cell_type": "code",
   "execution_count": 7,
   "id": "7e15a928",
   "metadata": {
    "deletable": false,
    "id": "85a5faf6",
    "outputId": "801ef80e-522b-4668-f34e-565af7432bcf"
   },
   "outputs": [
    {
     "data": {
      "text/plain": [
       "income_type\n",
       "безработный        366413.652744\n",
       "в декрете            3296.759962\n",
       "госслужащий          2689.368353\n",
       "компаньон            1547.382223\n",
       "пенсионер          365213.306266\n",
       "предприниматель       520.848083\n",
       "сотрудник            1574.202821\n",
       "студент               578.751554\n",
       "Name: days_employed, dtype: float64"
      ]
     },
     "execution_count": 7,
     "metadata": {},
     "output_type": "execute_result"
    }
   ],
   "source": [
    "data.groupby('income_type')['days_employed'].agg('median')"
   ]
  },
  {
   "cell_type": "markdown",
   "id": "cf7a989c",
   "metadata": {
    "deletable": false,
    "editable": false,
    "id": "38d1a030"
   },
   "source": [
    "У двух типов (безработные и пенсионеры) получатся аномально большие значения. Исправить такие значения сложно, поэтому оставьте их как есть. Тем более этот столбец не понадобится вам для исследования."
   ]
  },
  {
   "cell_type": "markdown",
   "id": "66567026",
   "metadata": {
    "deletable": false,
    "editable": false,
    "id": "d8a9f147"
   },
   "source": [
    "**Задание 8. Выведите перечень уникальных значений столбца `children`.**"
   ]
  },
  {
   "cell_type": "code",
   "execution_count": 8,
   "id": "1540d99b",
   "metadata": {
    "deletable": false,
    "id": "ef5056eb",
    "outputId": "6975b15c-7f95-4697-d16d-a0c79b657b03"
   },
   "outputs": [
    {
     "data": {
      "text/plain": [
       "array([ 1,  0,  3,  2, -1,  4, 20,  5])"
      ]
     },
     "execution_count": 8,
     "metadata": {},
     "output_type": "execute_result"
    }
   ],
   "source": [
    "data['children'].unique()"
   ]
  },
  {
   "cell_type": "markdown",
   "id": "b9ba3c4f",
   "metadata": {
    "deletable": false,
    "editable": false,
    "id": "40b9ebf2"
   },
   "source": [
    "**Задание 9. В столбце `children` есть два аномальных значения. Удалите строки, в которых встречаются такие аномальные значения из датафрейма `data`.**"
   ]
  },
  {
   "cell_type": "code",
   "execution_count": 9,
   "id": "52563706",
   "metadata": {
    "deletable": false,
    "id": "3ff9801d"
   },
   "outputs": [],
   "source": [
    "data = data[(data['children'] != -1) & (data['children'] != 20)]"
   ]
  },
  {
   "cell_type": "markdown",
   "id": "ae9c6014",
   "metadata": {
    "deletable": false,
    "editable": false,
    "id": "bbc4d0ce"
   },
   "source": [
    "**Задание 10. Ещё раз выведите перечень уникальных значений столбца `children`, чтобы убедиться, что артефакты удалены.**"
   ]
  },
  {
   "cell_type": "code",
   "execution_count": 10,
   "id": "a9315413",
   "metadata": {
    "deletable": false,
    "id": "ad4fa8b7",
    "outputId": "b2097101-d49d-44d9-901b-32a65c9463d1"
   },
   "outputs": [
    {
     "data": {
      "text/plain": [
       "array([1, 0, 3, 2, 4, 5])"
      ]
     },
     "execution_count": 10,
     "metadata": {},
     "output_type": "execute_result"
    }
   ],
   "source": [
    "data['children'].unique()"
   ]
  },
  {
   "cell_type": "markdown",
   "id": "68981681",
   "metadata": {
    "deletable": false,
    "editable": false,
    "id": "75440b63"
   },
   "source": [
    "### Удаление пропусков (продолжение)"
   ]
  },
  {
   "cell_type": "markdown",
   "id": "01779671",
   "metadata": {
    "deletable": false,
    "editable": false,
    "id": "f4ea573f"
   },
   "source": [
    "**Задание 11. Заполните пропуски в столбце `days_employed` медианными значениями по каждого типа занятости `income_type`.**"
   ]
  },
  {
   "cell_type": "code",
   "execution_count": 11,
   "id": "0127e0de",
   "metadata": {
    "deletable": false,
    "id": "af6b1a7e"
   },
   "outputs": [],
   "source": [
    "for t in data['income_type'].unique():\n",
    "    data.loc[(data['income_type'] == t) & (data['days_employed'].isna()), 'days_employed'] = \\\n",
    "    data.loc[(data['income_type'] == t), 'days_employed'].median()"
   ]
  },
  {
   "cell_type": "markdown",
   "id": "b9534ef2",
   "metadata": {
    "deletable": false,
    "editable": false,
    "id": "2753f40d"
   },
   "source": [
    "**Задание 12. Убедитесь, что все пропуски заполнены. Проверьте себя и ещё раз выведите количество пропущенных значений для каждого столбца с помощью двух методов.**"
   ]
  },
  {
   "cell_type": "code",
   "execution_count": 12,
   "id": "2eb72eae",
   "metadata": {
    "deletable": false,
    "id": "55f78bc2",
    "outputId": "8da1e4e1-358e-4e87-98c9-f261bce0a7b2"
   },
   "outputs": [
    {
     "data": {
      "text/plain": [
       "children            0\n",
       "days_employed       0\n",
       "dob_years           0\n",
       "education           0\n",
       "education_id        0\n",
       "family_status       0\n",
       "family_status_id    0\n",
       "gender              0\n",
       "income_type         0\n",
       "debt                0\n",
       "total_income        0\n",
       "purpose             0\n",
       "dtype: int64"
      ]
     },
     "execution_count": 12,
     "metadata": {},
     "output_type": "execute_result"
    }
   ],
   "source": [
    "data.isna().sum()"
   ]
  },
  {
   "cell_type": "markdown",
   "id": "8959a51b",
   "metadata": {
    "deletable": false,
    "editable": false,
    "id": "ddc81e43"
   },
   "source": [
    "### Изменение типов данных"
   ]
  },
  {
   "cell_type": "markdown",
   "id": "17b4cb2e",
   "metadata": {
    "deletable": false,
    "editable": false,
    "id": "42d19d24"
   },
   "source": [
    "**Задание 13. Замените вещественный тип данных в столбце `total_income` на целочисленный с помощью метода `astype()`.**"
   ]
  },
  {
   "cell_type": "code",
   "execution_count": 13,
   "id": "106c7c5d",
   "metadata": {
    "deletable": false,
    "id": "920b65ad"
   },
   "outputs": [],
   "source": [
    "data['total_income'] = data['total_income'].astype(int)"
   ]
  },
  {
   "cell_type": "markdown",
   "id": "0d3e8b7a",
   "metadata": {
    "deletable": false,
    "editable": false,
    "id": "80c420ba"
   },
   "source": [
    "### Обработка дубликатов"
   ]
  },
  {
   "cell_type": "markdown",
   "id": "cb39ccee",
   "metadata": {
    "deletable": false,
    "editable": false
   },
   "source": [
    "**Задание 14. Обработайте неявные дубликаты в столбце `education`. В этом столбце есть одни и те же значения, но записанные по-разному: с использованием заглавных и строчных букв. Приведите их к нижнему регистру. Проверьте остальные столбцы.**"
   ]
  },
  {
   "cell_type": "code",
   "execution_count": 14,
   "id": "644ead61",
   "metadata": {
    "deletable": false
   },
   "outputs": [],
   "source": [
    "data['education'] = data['education'].str.lower()"
   ]
  },
  {
   "cell_type": "markdown",
   "id": "22f6c238",
   "metadata": {
    "deletable": false,
    "editable": false,
    "id": "dc587695"
   },
   "source": [
    "**Задание 15. Выведите на экран количество строк-дубликатов в данных. Если такие строки присутствуют, удалите их.**"
   ]
  },
  {
   "cell_type": "code",
   "execution_count": 15,
   "id": "164d9726",
   "metadata": {
    "deletable": false,
    "id": "3ee445e4",
    "outputId": "9684deba-1934-42d1-99e1-cda61740f822"
   },
   "outputs": [
    {
     "data": {
      "text/plain": [
       "71"
      ]
     },
     "execution_count": 15,
     "metadata": {},
     "output_type": "execute_result"
    }
   ],
   "source": [
    "data.duplicated().sum()"
   ]
  },
  {
   "cell_type": "code",
   "execution_count": 16,
   "id": "0da3781f",
   "metadata": {
    "deletable": false,
    "id": "8575fe05"
   },
   "outputs": [],
   "source": [
    "data = data.drop_duplicates()"
   ]
  },
  {
   "cell_type": "markdown",
   "id": "3990aaf7",
   "metadata": {
    "deletable": false,
    "editable": false,
    "id": "9904cf55"
   },
   "source": [
    "### Категоризация данных"
   ]
  },
  {
   "cell_type": "markdown",
   "id": "f947b09c",
   "metadata": {
    "deletable": false,
    "editable": false,
    "id": "72fcc8a2"
   },
   "source": [
    "**Задание 16. На основании диапазонов, указанных ниже, создайте в датафрейме `data` столбец `total_income_category` с категориями:**\n",
    "\n",
    "- 0–30000 — `'E'`;\n",
    "- 30001–50000 — `'D'`;\n",
    "- 50001–200000 — `'C'`;\n",
    "- 200001–1000000 — `'B'`;\n",
    "- 1000001 и выше — `'A'`.\n",
    "\n",
    "\n",
    "**Например, кредитополучателю с доходом 25000 нужно назначить категорию `'E'`, а клиенту, получающему 235000, — `'B'`. Используйте собственную функцию с именем `categorize_income()` и метод `apply()`.**"
   ]
  },
  {
   "cell_type": "code",
   "execution_count": 17,
   "id": "e3d5d8a6",
   "metadata": {
    "deletable": false,
    "id": "e1771346"
   },
   "outputs": [],
   "source": [
    "def categorize_income(income):\n",
    "    try:\n",
    "        if 0 <= income <= 30000:\n",
    "            return 'E'\n",
    "        elif 30001 <= income <= 50000:\n",
    "            return 'D'\n",
    "        elif 50001 <= income <= 200000:\n",
    "            return 'C'\n",
    "        elif 200001 <= income <= 1000000:\n",
    "            return 'B'\n",
    "        elif income >= 1000001:\n",
    "            return 'A'\n",
    "    except:\n",
    "        pass"
   ]
  },
  {
   "cell_type": "code",
   "execution_count": 18,
   "id": "98eeed1a",
   "metadata": {
    "deletable": false,
    "id": "d5f3586d"
   },
   "outputs": [],
   "source": [
    "data['total_income_category'] = data['total_income'].apply(categorize_income)"
   ]
  },
  {
   "cell_type": "markdown",
   "id": "96f933ea",
   "metadata": {
    "deletable": false,
    "editable": false,
    "id": "dde49b5c"
   },
   "source": [
    "**Задание 17. Выведите на экран перечень уникальных целей взятия кредита из столбца `purpose`.**"
   ]
  },
  {
   "cell_type": "code",
   "execution_count": 19,
   "id": "ef456772",
   "metadata": {
    "deletable": false,
    "id": "f67ce9b3",
    "outputId": "673c12d9-7d7e-4ae0-9812-c622c89dd244"
   },
   "outputs": [
    {
     "data": {
      "text/plain": [
       "array(['покупка жилья', 'приобретение автомобиля',\n",
       "       'дополнительное образование', 'сыграть свадьбу',\n",
       "       'операции с жильем', 'образование', 'на проведение свадьбы',\n",
       "       'покупка жилья для семьи', 'покупка недвижимости',\n",
       "       'покупка коммерческой недвижимости', 'покупка жилой недвижимости',\n",
       "       'строительство собственной недвижимости', 'недвижимость',\n",
       "       'строительство недвижимости', 'на покупку подержанного автомобиля',\n",
       "       'на покупку своего автомобиля',\n",
       "       'операции с коммерческой недвижимостью',\n",
       "       'строительство жилой недвижимости', 'жилье',\n",
       "       'операции со своей недвижимостью', 'автомобили',\n",
       "       'заняться образованием', 'сделка с подержанным автомобилем',\n",
       "       'получение образования', 'автомобиль', 'свадьба',\n",
       "       'получение дополнительного образования', 'покупка своего жилья',\n",
       "       'операции с недвижимостью', 'получение высшего образования',\n",
       "       'свой автомобиль', 'сделка с автомобилем',\n",
       "       'профильное образование', 'высшее образование',\n",
       "       'покупка жилья для сдачи', 'на покупку автомобиля', 'ремонт жилью',\n",
       "       'заняться высшим образованием'], dtype=object)"
      ]
     },
     "execution_count": 19,
     "metadata": {},
     "output_type": "execute_result"
    }
   ],
   "source": [
    "data['purpose'].unique()"
   ]
  },
  {
   "cell_type": "markdown",
   "id": "ab4eb1f8",
   "metadata": {
    "deletable": false,
    "editable": false,
    "id": "85d0aef0"
   },
   "source": [
    "**Задание 18. Создайте функцию, которая на основании данных из столбца `purpose` сформирует новый столбец `purpose_category`, в который войдут следующие категории:**\n",
    "\n",
    "- `'операции с автомобилем'`,\n",
    "- `'операции с недвижимостью'`,\n",
    "- `'проведение свадьбы'`,\n",
    "- `'получение образования'`.\n",
    "\n",
    "**Например, если в столбце `purpose` находится подстрока `'на покупку автомобиля'`, то в столбце `purpose_category` должна появиться строка `'операции с автомобилем'`.**\n",
    "\n",
    "**Используйте собственную функцию с именем `categorize_purpose()` и метод `apply()`. Изучите данные в столбце `purpose` и определите, какие подстроки помогут вам правильно определить категорию.**"
   ]
  },
  {
   "cell_type": "code",
   "execution_count": 20,
   "id": "bb8dad99",
   "metadata": {
    "deletable": false,
    "id": "e149fab4"
   },
   "outputs": [],
   "source": [
    "def categorize_purpose(row):\n",
    "    try:\n",
    "        if 'автом' in row:\n",
    "            return 'операции с автомобилем'\n",
    "        elif 'жил' in row or 'недвиж' in row:\n",
    "            return 'операции с недвижимостью'\n",
    "        elif 'свад' in row:\n",
    "            return 'проведение свадьбы'\n",
    "        elif 'образов' in row:\n",
    "            return 'получение образования'\n",
    "    except:\n",
    "        return 'нет категории'"
   ]
  },
  {
   "cell_type": "code",
   "execution_count": 21,
   "id": "5329091c",
   "metadata": {
    "deletable": false,
    "id": "bf36e69b"
   },
   "outputs": [],
   "source": [
    "data['purpose_category'] = data['purpose'].apply(categorize_purpose)"
   ]
  },
  {
   "cell_type": "markdown",
   "id": "1fe68bcd",
   "metadata": {
    "deletable": false,
    "editable": false,
    "id": "09b242bf"
   },
   "source": [
    "### Шаг 3. Исследуйте данные и ответьте на вопросы"
   ]
  },
  {
   "cell_type": "markdown",
   "id": "54c4754c",
   "metadata": {
    "deletable": false,
    "editable": false,
    "id": "c5d66278"
   },
   "source": [
    "#### 3.1 Есть ли зависимость между количеством детей и возвратом кредита в срок?"
   ]
  },
  {
   "cell_type": "code",
   "execution_count": 22,
   "id": "350d1faa",
   "metadata": {
    "deletable": false,
    "id": "2cacfc4a"
   },
   "outputs": [
    {
     "data": {
      "text/html": [
       "<div>\n",
       "<style scoped>\n",
       "    .dataframe tbody tr th:only-of-type {\n",
       "        vertical-align: middle;\n",
       "    }\n",
       "\n",
       "    .dataframe tbody tr th {\n",
       "        vertical-align: top;\n",
       "    }\n",
       "\n",
       "    .dataframe thead th {\n",
       "        text-align: right;\n",
       "    }\n",
       "</style>\n",
       "<table border=\"1\" class=\"dataframe\">\n",
       "  <thead>\n",
       "    <tr style=\"text-align: right;\">\n",
       "      <th></th>\n",
       "      <th>debt</th>\n",
       "      <th>amount</th>\n",
       "      <th>ratio_household</th>\n",
       "      <th>ratio_debt</th>\n",
       "    </tr>\n",
       "    <tr>\n",
       "      <th>children</th>\n",
       "      <th></th>\n",
       "      <th></th>\n",
       "      <th></th>\n",
       "      <th></th>\n",
       "    </tr>\n",
       "  </thead>\n",
       "  <tbody>\n",
       "    <tr>\n",
       "      <th>0</th>\n",
       "      <td>1063</td>\n",
       "      <td>14091</td>\n",
       "      <td>0.660588</td>\n",
       "      <td>0.075438</td>\n",
       "    </tr>\n",
       "    <tr>\n",
       "      <th>1</th>\n",
       "      <td>444</td>\n",
       "      <td>4808</td>\n",
       "      <td>0.225400</td>\n",
       "      <td>0.092346</td>\n",
       "    </tr>\n",
       "    <tr>\n",
       "      <th>2</th>\n",
       "      <td>194</td>\n",
       "      <td>2052</td>\n",
       "      <td>0.096198</td>\n",
       "      <td>0.094542</td>\n",
       "    </tr>\n",
       "    <tr>\n",
       "      <th>3</th>\n",
       "      <td>27</td>\n",
       "      <td>330</td>\n",
       "      <td>0.015470</td>\n",
       "      <td>0.081818</td>\n",
       "    </tr>\n",
       "    <tr>\n",
       "      <th>4</th>\n",
       "      <td>4</td>\n",
       "      <td>41</td>\n",
       "      <td>0.001922</td>\n",
       "      <td>0.097561</td>\n",
       "    </tr>\n",
       "    <tr>\n",
       "      <th>5</th>\n",
       "      <td>0</td>\n",
       "      <td>9</td>\n",
       "      <td>0.000422</td>\n",
       "      <td>0.000000</td>\n",
       "    </tr>\n",
       "  </tbody>\n",
       "</table>\n",
       "</div>"
      ],
      "text/plain": [
       "          debt  amount  ratio_household  ratio_debt\n",
       "children                                           \n",
       "0         1063   14091         0.660588    0.075438\n",
       "1          444    4808         0.225400    0.092346\n",
       "2          194    2052         0.096198    0.094542\n",
       "3           27     330         0.015470    0.081818\n",
       "4            4      41         0.001922    0.097561\n",
       "5            0       9         0.000422    0.000000"
      ]
     },
     "execution_count": 22,
     "metadata": {},
     "output_type": "execute_result"
    }
   ],
   "source": [
    "data_grouped = data.groupby('children').agg({'debt':'sum'})\n",
    "data_grouped['amount'] = data.value_counts('children')\n",
    "data_grouped['ratio_household'] = data_grouped['amount'] / data_grouped['amount'].sum()\n",
    "data_grouped['ratio_debt'] = data_grouped['debt'] / data_grouped['amount']\n",
    "data_grouped"
   ]
  },
  {
   "cell_type": "markdown",
   "id": "28324a8d",
   "metadata": {},
   "source": [
    "<div class=\"alert alert-warning\">\n",
    "<b>⚠️ Комментарий ревьюера: v1 </b> \n",
    "    \n",
    "Для более аккуратного вывода таблиц в юпитере попробуй использовать `display()` вместо `print()`.\n",
    "    \n",
    "А если вывод датафрейма или переменной на последней строке ячейки, то вообще ничего не надо. \n",
    "</div>"
   ]
  },
  {
   "cell_type": "markdown",
   "id": "34ac19c1",
   "metadata": {},
   "source": [
    "<div class=\"alert alert-success\">\n",
    "<b>✅ Комментарий ревьюера v2: </b> \n",
    "\n",
    "👍\n",
    "</div>"
   ]
  },
  {
   "cell_type": "markdown",
   "id": "a5e35e4b",
   "metadata": {
    "deletable": false,
    "id": "3a6b99ec"
   },
   "source": [
    "**Вывод:** Если категории семей с 4 и 5 детьми исключить из данного исследования ввиду их незначительной доли, то мы можем заметить незначительную положительную корреляцию между ростом количества детей и наличием незакрытого кредитного бремени. Наличие детей в семье делает клиента менее платежеспособным."
   ]
  },
  {
   "cell_type": "markdown",
   "id": "9fddb3e1",
   "metadata": {},
   "source": [
    "<div class=\"alert alert-warning\">\n",
    "<b>⚠️ Комментарий ревьюера: v1 </b> \n",
    "    \n",
    "Здесь лучше пояснить, какую именно корреляцию мы видим: прямую или обратную?\n",
    "</div>"
   ]
  },
  {
   "cell_type": "markdown",
   "id": "8d6d32ca",
   "metadata": {},
   "source": [
    "<div class=\"alert alert-success\">\n",
    "<b>✅ Комментарий ревьюера v2: </b> \n",
    "\n",
    "Да, так точнее!)\n",
    "</div>"
   ]
  },
  {
   "cell_type": "markdown",
   "id": "ada50c2b",
   "metadata": {
    "deletable": false,
    "editable": false,
    "id": "97be82ca"
   },
   "source": [
    "#### 3.2 Есть ли зависимость между семейным положением и возвратом кредита в срок?"
   ]
  },
  {
   "cell_type": "code",
   "execution_count": 23,
   "id": "367e6eba",
   "metadata": {
    "deletable": false,
    "id": "dc3f7ee8"
   },
   "outputs": [
    {
     "data": {
      "text/html": [
       "<div>\n",
       "<style scoped>\n",
       "    .dataframe tbody tr th:only-of-type {\n",
       "        vertical-align: middle;\n",
       "    }\n",
       "\n",
       "    .dataframe tbody tr th {\n",
       "        vertical-align: top;\n",
       "    }\n",
       "\n",
       "    .dataframe thead th {\n",
       "        text-align: right;\n",
       "    }\n",
       "</style>\n",
       "<table border=\"1\" class=\"dataframe\">\n",
       "  <thead>\n",
       "    <tr style=\"text-align: right;\">\n",
       "      <th></th>\n",
       "      <th>debt</th>\n",
       "      <th>amount</th>\n",
       "      <th>ratio_household</th>\n",
       "      <th>ratio_debt</th>\n",
       "    </tr>\n",
       "    <tr>\n",
       "      <th>family_status</th>\n",
       "      <th></th>\n",
       "      <th></th>\n",
       "      <th></th>\n",
       "      <th></th>\n",
       "    </tr>\n",
       "  </thead>\n",
       "  <tbody>\n",
       "    <tr>\n",
       "      <th>Не женат / не замужем</th>\n",
       "      <td>273</td>\n",
       "      <td>2796</td>\n",
       "      <td>0.131077</td>\n",
       "      <td>0.097639</td>\n",
       "    </tr>\n",
       "    <tr>\n",
       "      <th>гражданский брак</th>\n",
       "      <td>385</td>\n",
       "      <td>4134</td>\n",
       "      <td>0.193802</td>\n",
       "      <td>0.093130</td>\n",
       "    </tr>\n",
       "    <tr>\n",
       "      <th>женат / замужем</th>\n",
       "      <td>927</td>\n",
       "      <td>12261</td>\n",
       "      <td>0.574797</td>\n",
       "      <td>0.075606</td>\n",
       "    </tr>\n",
       "    <tr>\n",
       "      <th>в разводе</th>\n",
       "      <td>84</td>\n",
       "      <td>1189</td>\n",
       "      <td>0.055740</td>\n",
       "      <td>0.070648</td>\n",
       "    </tr>\n",
       "    <tr>\n",
       "      <th>вдовец / вдова</th>\n",
       "      <td>63</td>\n",
       "      <td>951</td>\n",
       "      <td>0.044583</td>\n",
       "      <td>0.066246</td>\n",
       "    </tr>\n",
       "  </tbody>\n",
       "</table>\n",
       "</div>"
      ],
      "text/plain": [
       "                       debt  amount  ratio_household  ratio_debt\n",
       "family_status                                                   \n",
       "Не женат / не замужем   273    2796         0.131077    0.097639\n",
       "гражданский брак        385    4134         0.193802    0.093130\n",
       "женат / замужем         927   12261         0.574797    0.075606\n",
       "в разводе                84    1189         0.055740    0.070648\n",
       "вдовец / вдова           63     951         0.044583    0.066246"
      ]
     },
     "execution_count": 23,
     "metadata": {},
     "output_type": "execute_result"
    }
   ],
   "source": [
    "data_grouped = data.groupby('family_status').agg({'debt':'sum'})\n",
    "data_grouped['amount'] = data.value_counts('family_status')\n",
    "data_grouped['ratio_household'] = data_grouped['amount'] / data_grouped['amount'].sum()\n",
    "data_grouped['ratio_debt'] = data_grouped['debt'] / data_grouped['amount']\n",
    "data_grouped.sort_values(by = 'ratio_debt', ascending = False)"
   ]
  },
  {
   "cell_type": "markdown",
   "id": "c9c74a5c",
   "metadata": {},
   "source": [
    "<div class=\"alert alert-success\">\n",
    "<b>✅ Комментарий ревьюера v1: </b> \n",
    "\n",
    "Таблица верная!\n",
    "    \n",
    "</div>"
   ]
  },
  {
   "cell_type": "markdown",
   "id": "aa2feaf7",
   "metadata": {
    "deletable": false,
    "id": "1cef7837"
   },
   "source": [
    "**Вывод:** Люди, которые еще не никогда не расписывались в ЗАГСе, судя по статистике, хуже возвращают кредиты. Узаконивание своих чувств делает людей более дисциплинированными."
   ]
  },
  {
   "cell_type": "markdown",
   "id": "23be31a7",
   "metadata": {},
   "source": [
    "<div class=\"alert alert-success\">\n",
    "<b>✅ Комментарий ревьюера v1: </b> \n",
    "\n",
    "Абсолютно согласна!\n",
    "    \n",
    "</div>"
   ]
  },
  {
   "cell_type": "markdown",
   "id": "667ce8d4",
   "metadata": {
    "deletable": false,
    "editable": false,
    "id": "1e8b2fca"
   },
   "source": [
    "#### 3.3 Есть ли зависимость между уровнем дохода и возвратом кредита в срок?"
   ]
  },
  {
   "cell_type": "code",
   "execution_count": 24,
   "id": "985d39ca",
   "metadata": {
    "deletable": false,
    "id": "cd7e3720"
   },
   "outputs": [
    {
     "name": "stdout",
     "output_type": "stream",
     "text": [
      "                       debt  amount  ratio_household  ratio_debt\n",
      "total_income_category                                           \n",
      "A                         2      25         0.001172    0.080000\n",
      "B                       354    5014         0.235057    0.070602\n",
      "C                      1353   15921         0.746379    0.084982\n",
      "D                        21     349         0.016361    0.060172\n",
      "E                         2      22         0.001031    0.090909\n"
     ]
    }
   ],
   "source": [
    "data_grouped = data.groupby('total_income_category').agg({'debt':'sum'})\n",
    "data_grouped['amount'] = data.value_counts('total_income_category')\n",
    "data_grouped['ratio_household'] = data_grouped['amount'] / data_grouped['amount'].sum()\n",
    "data_grouped['ratio_debt'] = data_grouped['debt'] / data_grouped['amount']\n",
    "print(data_grouped)"
   ]
  },
  {
   "cell_type": "markdown",
   "id": "0f8919bd",
   "metadata": {},
   "source": [
    "<div class=\"alert alert-warning\">\n",
    "<b>⚠️ Комментарий ревьюера v1: </b> \n",
    "\n",
    "Хорошо бы добавить расшифровку категорий в таблицу. </div>\n"
   ]
  },
  {
   "cell_type": "markdown",
   "id": "3e9a24ad",
   "metadata": {
    "deletable": false,
    "id": "e8593def"
   },
   "source": [
    "**Вывод:** Аналогично с выводом первой задачи, категории уровня заработка A и Е, доля которых составляет менее 1%, учтены не будут. Анализируя оставшиеся категории, можно выделить В и С (50 001 - 200 000 и 200 001 - 1 000 000) как самые не дисциплинированные категории."
   ]
  },
  {
   "cell_type": "markdown",
   "id": "d5fa8d9c",
   "metadata": {},
   "source": [
    "<div class=\"alert alert-warning\">\n",
    "<b>⚠️ Комментарий ревьюера v1: </b> \n",
    "\n",
    "Здесь можно даже только B и С сравнить и сказать, что доля должников падает с ростом дохода.\n",
    "</div>"
   ]
  },
  {
   "cell_type": "markdown",
   "id": "7233e486",
   "metadata": {
    "deletable": false,
    "editable": false,
    "id": "99ecbd1f"
   },
   "source": [
    "#### 3.4 Как разные цели кредита влияют на его возврат в срок?"
   ]
  },
  {
   "cell_type": "code",
   "execution_count": 25,
   "id": "ce2e4226",
   "metadata": {
    "deletable": false,
    "id": "2b687290"
   },
   "outputs": [
    {
     "name": "stdout",
     "output_type": "stream",
     "text": [
      "                          debt  amount  ratio_household  ratio_debt\n",
      "purpose_category                                                   \n",
      "операции с автомобилем     400    4279         0.200600    0.093480\n",
      "операции с недвижимостью   780   10751         0.504008    0.072551\n",
      "получение образования      369    3988         0.186958    0.092528\n",
      "проведение свадьбы         183    2313         0.108434    0.079118\n"
     ]
    }
   ],
   "source": [
    "data_grouped = data.groupby('purpose_category').agg({'debt':'sum'})\n",
    "data_grouped['amount'] = data.value_counts('purpose_category')\n",
    "data_grouped['ratio_household'] = data_grouped['amount'] / data_grouped['amount'].sum()\n",
    "data_grouped['ratio_debt'] = data_grouped['debt'] / data_grouped['amount']\n",
    "print(data_grouped)"
   ]
  },
  {
   "cell_type": "markdown",
   "id": "970b1933",
   "metadata": {
    "deletable": false,
    "id": "b4bb2ce6"
   },
   "source": [
    "**Вывод:** Самые стабильные выплаты производятся гражданами, кто решил посотрудничать с банком для покупки недвижимости. Пъедестал просроченных выплат делят люди, которые взяли кредит для покупки авто и получения образования. "
   ]
  },
  {
   "cell_type": "markdown",
   "id": "ce2d1281",
   "metadata": {},
   "source": [
    "<div class=\"alert alert-success\">\n",
    "<b>✅ Комментарий ревьюера v1: </b>\n",
    " \n",
    "Все верно. С таблицей и выводом согласна.</div>"
   ]
  },
  {
   "cell_type": "markdown",
   "id": "ec280e19",
   "metadata": {
    "deletable": false,
    "editable": false,
    "id": "09c3ac4c"
   },
   "source": [
    "#### 3.5 Приведите возможные причины появления пропусков в исходных данных."
   ]
  },
  {
   "cell_type": "markdown",
   "id": "2925435a",
   "metadata": {
    "deletable": false,
    "id": "9da2ceda"
   },
   "source": [
    "*Ответ:* Предполагаю, что причин появления пропусков может быть несколько. Первый и основной - наличие в графе \"цели кредита\" категории \"получение образования\", так как кредит могли выдать студенту, у которого еще нет источника дохода и, как следствие, опыта работы. Также, есть вероятность человеческого фактора - сотрудники банка не заполняли эти данные по каким-либо причинам."
   ]
  },
  {
   "cell_type": "markdown",
   "id": "095371c6",
   "metadata": {},
   "source": [
    "<div class=\"alert alert-warning\">\n",
    "<b>⚠️ Комментарий ревьюера v1:</b> \n",
    "\n",
    "Как думаешь,  кроме человеческого фактора (кто-то не ввел данные: забыли или их просто нет), что еще может стать причиной пропусков? </div>\n"
   ]
  },
  {
   "cell_type": "markdown",
   "id": "8d3e4ae5",
   "metadata": {
    "deletable": false,
    "editable": false,
    "id": "7b0487d6"
   },
   "source": [
    "#### 3.6 Объясните, почему заполнить пропуски медианным значением — лучшее решение для количественных переменных."
   ]
  },
  {
   "cell_type": "markdown",
   "id": "aad7e8d3",
   "metadata": {
    "deletable": false,
    "id": "7ecf2b8e"
   },
   "source": [
    "*Ответ:* Медианное значение является лучшим решением, так как такое значение не сильно меняется при добавлении новых данных, в отличе от среднего значения. Удалять строки с пропусками еще более критично, так как это решение может сильно сказаться на будущих подсчетах и выводах."
   ]
  },
  {
   "cell_type": "markdown",
   "id": "fa4d5df7",
   "metadata": {},
   "source": [
    "<div class=\"alert alert-warning\">\n",
    "<b>⚠️ Комментарий ревьюера v1:</b> \n",
    "\n",
    "Поясни, пожалуйста, почему именно медианное значение не сильно меняется? И как ведет себя медиана и среднее при наличии сильных выбросов в данных? </div>\n"
   ]
  },
  {
   "cell_type": "markdown",
   "id": "e3df9026",
   "metadata": {
    "deletable": false,
    "editable": false,
    "id": "6db5255a"
   },
   "source": [
    "### Шаг 4: общий вывод."
   ]
  },
  {
   "cell_type": "markdown",
   "id": "2d569bba",
   "metadata": {
    "deletable": false,
    "id": "bad65432"
   },
   "source": [
    "Был получен запрос от заказчика на исследование данных о заемщиках с целью поиска взаимосвязи дисциплинированности выплат и различных факторов, которые могут влиять на платежеспособность.\n",
    "\n",
    "Данные, полученные от заказчика, оказались с пропусками, что, по предварительной оценке, является следствием профиля кредитора: некоторые заемщики не обладают теми свойствами, по которым банк категоризирует клиента. В связи с чем, для наиболее приближенного к реальности результата, было принято решение дать таким заемщикам медианные значения по категориям, в которых находились пропуски.\n",
    "\n",
    "По итогам исследования, были сделаны следующие выводы по заданным вопросам:\n",
    "1. Люди, которые еще не никогда не расписывались в ЗАГСе, судя по статистике, хуже возвращают кредиты. Узаконивание своих чувств делает людей более дисциплинированными (не женаты/замужем - 9.7%, гражданский брак - 9.3%)\n",
    "2. Если категории семей с 4 и 5 детьми исключить из данного исследования ввиду их незначительной доли, то мы можем заметить незначительную корреляцию между ростом количества детей и наличием незакрытого кредитного бремени. Наименее дисциплинированными являются граждане с 2 детьми (9.5%)\n"
   ]
  },
  {
   "cell_type": "markdown",
   "id": "ebc10186",
   "metadata": {},
   "source": [
    "<div class=\"alert alert-warning\">\n",
    "<b>⚠️ Комментарий ревьюера v1:</b> \n",
    "\n",
    "Отличный вывод!\n",
    "    \n",
    "Но лучше добавить все выявленные зависимости и инсайты в каждом пункте исследования. </div>"
   ]
  },
  {
   "cell_type": "markdown",
   "id": "e3271b03",
   "metadata": {},
   "source": [
    "<div style=\"border:solid green 2px; padding: 20px\">\n",
    " \n",
    "Никита, у тебя получилась отличная работа! Ты отлично справился с построением таблиц.\n",
    "    \n",
    "Критических замечаний нет.\n",
    "    \n",
    "Я готова принять твой проект. Возвращаю его тебе на случай, если у тебя остались какие-то вопросы, или есть желание доработать желтые комментарии. </div>"
   ]
  },
  {
   "cell_type": "markdown",
   "id": "80b55e26",
   "metadata": {},
   "source": [
    "<div style=\"border:solid green 2px; padding: 20px\">\n",
    " \n",
    "Никита, отличная работа! Проект принят. </div>"
   ]
  }
 ],
 "metadata": {
  "ExecuteTimeLog": [
   {
    "duration": 834,
    "start_time": "2023-10-23T11:41:14.327Z"
   },
   {
    "duration": 109,
    "start_time": "2023-10-23T11:41:16.476Z"
   },
   {
    "duration": 53,
    "start_time": "2023-10-23T11:41:20.303Z"
   },
   {
    "duration": 13,
    "start_time": "2023-10-23T11:41:22.182Z"
   },
   {
    "duration": 8,
    "start_time": "2023-10-23T11:41:24.171Z"
   },
   {
    "duration": 56,
    "start_time": "2023-10-23T11:41:25.732Z"
   },
   {
    "duration": 3,
    "start_time": "2023-10-23T11:41:26.996Z"
   },
   {
    "duration": 8,
    "start_time": "2023-10-23T11:41:28.170Z"
   },
   {
    "duration": 4,
    "start_time": "2023-10-23T11:41:29.595Z"
   },
   {
    "duration": 6,
    "start_time": "2023-10-23T11:41:30.510Z"
   },
   {
    "duration": 16,
    "start_time": "2023-10-23T11:41:31.227Z"
   },
   {
    "duration": 66,
    "start_time": "2023-10-23T11:41:33.102Z"
   },
   {
    "duration": 26,
    "start_time": "2023-10-23T11:41:34.042Z"
   },
   {
    "duration": 4,
    "start_time": "2023-10-23T11:41:37.015Z"
   },
   {
    "duration": 10,
    "start_time": "2023-10-23T11:41:37.966Z"
   },
   {
    "duration": 44,
    "start_time": "2023-10-23T11:41:38.720Z"
   },
   {
    "duration": 51,
    "start_time": "2023-10-23T11:41:40.608Z"
   },
   {
    "duration": 4,
    "start_time": "2023-10-23T11:41:42.669Z"
   },
   {
    "duration": 9,
    "start_time": "2023-10-23T11:41:44.292Z"
   },
   {
    "duration": 6,
    "start_time": "2023-10-23T11:41:44.870Z"
   },
   {
    "duration": 21,
    "start_time": "2023-10-23T11:41:45.235Z"
   },
   {
    "duration": 8,
    "start_time": "2023-10-23T11:41:45.376Z"
   },
   {
    "duration": 2,
    "start_time": "2023-10-23T11:41:45.813Z"
   },
   {
    "duration": 33,
    "start_time": "2023-10-23T11:42:52.429Z"
   },
   {
    "duration": 23,
    "start_time": "2023-10-23T11:45:44.056Z"
   },
   {
    "duration": 18,
    "start_time": "2023-10-23T11:46:01.455Z"
   },
   {
    "duration": 13,
    "start_time": "2023-10-23T11:46:31.586Z"
   },
   {
    "duration": 96,
    "start_time": "2023-10-23T11:47:24.790Z"
   },
   {
    "duration": 4,
    "start_time": "2023-10-23T11:48:25.021Z"
   },
   {
    "duration": 28,
    "start_time": "2023-10-23T11:50:18.132Z"
   },
   {
    "duration": 5,
    "start_time": "2023-10-23T11:50:28.810Z"
   },
   {
    "duration": 12,
    "start_time": "2023-10-23T11:53:35.952Z"
   },
   {
    "duration": 6,
    "start_time": "2023-10-23T11:54:03.301Z"
   },
   {
    "duration": 9,
    "start_time": "2023-10-23T11:55:28.788Z"
   },
   {
    "duration": 7,
    "start_time": "2023-10-23T11:55:48.414Z"
   },
   {
    "duration": 12,
    "start_time": "2023-10-23T11:56:07.626Z"
   },
   {
    "duration": 4,
    "start_time": "2023-10-23T11:56:11.995Z"
   },
   {
    "duration": 11,
    "start_time": "2023-10-23T11:56:26.544Z"
   },
   {
    "duration": 4,
    "start_time": "2023-10-23T11:57:16.687Z"
   },
   {
    "duration": 4,
    "start_time": "2023-10-23T11:58:14.082Z"
   },
   {
    "duration": 5,
    "start_time": "2023-10-23T11:58:30.124Z"
   },
   {
    "duration": 8,
    "start_time": "2023-10-23T11:59:51.497Z"
   },
   {
    "duration": 9,
    "start_time": "2023-10-23T12:09:55.861Z"
   },
   {
    "duration": 4,
    "start_time": "2023-10-23T12:10:06.629Z"
   },
   {
    "duration": 12,
    "start_time": "2023-10-23T12:20:11.148Z"
   },
   {
    "duration": 4,
    "start_time": "2023-10-23T12:23:19.889Z"
   },
   {
    "duration": 12,
    "start_time": "2023-10-23T12:27:24.974Z"
   },
   {
    "duration": 14,
    "start_time": "2023-10-23T12:27:58.997Z"
   },
   {
    "duration": 30,
    "start_time": "2023-10-23T12:28:06.327Z"
   },
   {
    "duration": 17,
    "start_time": "2023-10-23T12:28:21.301Z"
   },
   {
    "duration": 12,
    "start_time": "2023-10-23T12:28:31.175Z"
   },
   {
    "duration": 10,
    "start_time": "2023-10-23T12:30:10.512Z"
   },
   {
    "duration": 8,
    "start_time": "2023-10-23T12:30:38.480Z"
   },
   {
    "duration": 13,
    "start_time": "2023-10-23T12:31:33.369Z"
   },
   {
    "duration": 16,
    "start_time": "2023-10-23T12:32:13.282Z"
   },
   {
    "duration": 12,
    "start_time": "2023-10-23T12:32:18.271Z"
   },
   {
    "duration": 11,
    "start_time": "2023-10-23T12:35:42.871Z"
   },
   {
    "duration": 20,
    "start_time": "2023-10-23T12:35:57.765Z"
   },
   {
    "duration": 72,
    "start_time": "2023-10-23T12:37:14.757Z"
   },
   {
    "duration": 13,
    "start_time": "2023-10-23T12:37:18.680Z"
   },
   {
    "duration": 10,
    "start_time": "2023-10-23T12:37:37.765Z"
   },
   {
    "duration": 15,
    "start_time": "2023-10-23T12:41:11.170Z"
   },
   {
    "duration": 13,
    "start_time": "2023-10-23T12:42:09.603Z"
   },
   {
    "duration": 22,
    "start_time": "2023-10-23T12:42:21.357Z"
   },
   {
    "duration": 18,
    "start_time": "2023-10-23T12:42:31.802Z"
   },
   {
    "duration": 12,
    "start_time": "2023-10-23T12:42:38.803Z"
   },
   {
    "duration": 74,
    "start_time": "2023-10-23T12:48:35.124Z"
   },
   {
    "duration": 82,
    "start_time": "2023-10-23T12:48:46.213Z"
   },
   {
    "duration": 165,
    "start_time": "2023-10-23T12:49:20.102Z"
   },
   {
    "duration": 11,
    "start_time": "2023-10-23T12:50:06.585Z"
   },
   {
    "duration": 20,
    "start_time": "2023-10-23T12:50:50.550Z"
   },
   {
    "duration": 90,
    "start_time": "2023-10-23T12:50:58.021Z"
   },
   {
    "duration": 9,
    "start_time": "2023-10-23T12:51:03.629Z"
   },
   {
    "duration": 6,
    "start_time": "2023-10-23T12:51:20.131Z"
   },
   {
    "duration": 11,
    "start_time": "2023-10-23T12:54:56.310Z"
   },
   {
    "duration": 10,
    "start_time": "2023-10-23T12:55:25.615Z"
   },
   {
    "duration": 6,
    "start_time": "2023-10-23T12:57:56.089Z"
   },
   {
    "duration": 25,
    "start_time": "2023-10-23T12:58:42.835Z"
   },
   {
    "duration": 9,
    "start_time": "2023-10-23T12:59:48.178Z"
   },
   {
    "duration": 9,
    "start_time": "2023-10-23T13:00:35.514Z"
   },
   {
    "duration": 9,
    "start_time": "2023-10-23T13:01:00.494Z"
   },
   {
    "duration": 13,
    "start_time": "2023-10-23T13:01:04.358Z"
   },
   {
    "duration": 14,
    "start_time": "2023-10-23T13:01:07.594Z"
   },
   {
    "duration": 19,
    "start_time": "2023-10-23T13:02:14.846Z"
   },
   {
    "duration": 15,
    "start_time": "2023-10-23T13:03:38.342Z"
   },
   {
    "duration": 11,
    "start_time": "2023-10-23T13:04:04.066Z"
   },
   {
    "duration": 5,
    "start_time": "2023-10-23T13:07:59.587Z"
   },
   {
    "duration": 11,
    "start_time": "2023-10-23T13:08:41.866Z"
   },
   {
    "duration": 17,
    "start_time": "2023-10-23T13:08:51.849Z"
   },
   {
    "duration": 13,
    "start_time": "2023-10-23T13:10:09.453Z"
   },
   {
    "duration": 18,
    "start_time": "2023-10-23T13:10:16.956Z"
   },
   {
    "duration": 17,
    "start_time": "2023-10-23T13:10:25.956Z"
   },
   {
    "duration": 18,
    "start_time": "2023-10-23T13:10:35.704Z"
   },
   {
    "duration": 9,
    "start_time": "2023-10-23T13:10:56.669Z"
   },
   {
    "duration": 30,
    "start_time": "2023-10-23T13:11:50.944Z"
   },
   {
    "duration": 13,
    "start_time": "2023-10-23T13:12:14.173Z"
   },
   {
    "duration": 12,
    "start_time": "2023-10-23T13:12:43.518Z"
   },
   {
    "duration": 17,
    "start_time": "2023-10-23T13:14:10.182Z"
   },
   {
    "duration": 33,
    "start_time": "2023-10-23T13:14:57.227Z"
   },
   {
    "duration": 20,
    "start_time": "2023-10-23T13:15:09.145Z"
   },
   {
    "duration": 13,
    "start_time": "2023-10-23T13:15:36.151Z"
   },
   {
    "duration": 11,
    "start_time": "2023-10-23T13:16:08.680Z"
   },
   {
    "duration": 78,
    "start_time": "2023-10-23T13:16:29.429Z"
   },
   {
    "duration": 33,
    "start_time": "2023-10-23T13:16:30.535Z"
   },
   {
    "duration": 25,
    "start_time": "2023-10-23T13:16:30.849Z"
   },
   {
    "duration": 9,
    "start_time": "2023-10-23T13:16:31.381Z"
   },
   {
    "duration": 48,
    "start_time": "2023-10-23T13:16:31.624Z"
   },
   {
    "duration": 3,
    "start_time": "2023-10-23T13:16:32.015Z"
   },
   {
    "duration": 11,
    "start_time": "2023-10-23T13:16:32.276Z"
   },
   {
    "duration": 15,
    "start_time": "2023-10-23T13:16:32.865Z"
   },
   {
    "duration": 6,
    "start_time": "2023-10-23T13:16:33.107Z"
   },
   {
    "duration": 4,
    "start_time": "2023-10-23T13:16:33.377Z"
   },
   {
    "duration": 28,
    "start_time": "2023-10-23T13:16:33.789Z"
   },
   {
    "duration": 13,
    "start_time": "2023-10-23T13:16:34.072Z"
   },
   {
    "duration": 4,
    "start_time": "2023-10-23T13:16:34.486Z"
   },
   {
    "duration": 10,
    "start_time": "2023-10-23T13:16:34.872Z"
   },
   {
    "duration": 24,
    "start_time": "2023-10-23T13:16:35.158Z"
   },
   {
    "duration": 32,
    "start_time": "2023-10-23T13:16:35.324Z"
   },
   {
    "duration": 3,
    "start_time": "2023-10-23T13:16:36.025Z"
   },
   {
    "duration": 12,
    "start_time": "2023-10-23T13:16:36.269Z"
   },
   {
    "duration": 6,
    "start_time": "2023-10-23T13:16:37.498Z"
   },
   {
    "duration": 4,
    "start_time": "2023-10-23T13:16:38.226Z"
   },
   {
    "duration": 8,
    "start_time": "2023-10-23T13:16:38.403Z"
   },
   {
    "duration": 28,
    "start_time": "2023-10-23T13:16:39.432Z"
   },
   {
    "duration": 10,
    "start_time": "2023-10-23T13:16:42.915Z"
   },
   {
    "duration": 16,
    "start_time": "2023-10-23T13:17:02.332Z"
   },
   {
    "duration": 13,
    "start_time": "2023-10-23T13:17:30.399Z"
   },
   {
    "duration": 29,
    "start_time": "2023-10-23T13:17:46.239Z"
   },
   {
    "duration": 25,
    "start_time": "2023-10-23T13:18:59.623Z"
   },
   {
    "duration": 24,
    "start_time": "2023-10-23T13:19:21.857Z"
   },
   {
    "duration": 4,
    "start_time": "2023-10-23T13:19:58.283Z"
   },
   {
    "duration": 14,
    "start_time": "2023-10-23T13:20:02.907Z"
   },
   {
    "duration": 25,
    "start_time": "2023-10-23T13:20:28.435Z"
   },
   {
    "duration": 17,
    "start_time": "2023-10-23T13:20:48.369Z"
   },
   {
    "duration": 80,
    "start_time": "2023-10-23T13:27:40.340Z"
   },
   {
    "duration": 7,
    "start_time": "2023-10-23T13:27:54.475Z"
   },
   {
    "duration": 10,
    "start_time": "2023-10-23T13:28:03.286Z"
   },
   {
    "duration": 13,
    "start_time": "2023-10-23T13:28:36.259Z"
   },
   {
    "duration": 9,
    "start_time": "2023-10-23T13:34:19.480Z"
   },
   {
    "duration": 32,
    "start_time": "2023-10-23T13:34:34.256Z"
   },
   {
    "duration": 12,
    "start_time": "2023-10-23T13:34:59.481Z"
   },
   {
    "duration": 13,
    "start_time": "2023-10-23T13:44:38.469Z"
   },
   {
    "duration": 19,
    "start_time": "2023-10-23T13:44:47.950Z"
   },
   {
    "duration": 489,
    "start_time": "2023-10-23T16:29:44.035Z"
   },
   {
    "duration": 46,
    "start_time": "2023-10-23T16:29:44.526Z"
   },
   {
    "duration": 15,
    "start_time": "2023-10-23T16:29:44.574Z"
   },
   {
    "duration": 8,
    "start_time": "2023-10-23T16:29:44.591Z"
   },
   {
    "duration": 37,
    "start_time": "2023-10-23T16:29:44.601Z"
   },
   {
    "duration": 21,
    "start_time": "2023-10-23T16:29:44.639Z"
   },
   {
    "duration": 17,
    "start_time": "2023-10-23T16:29:44.669Z"
   },
   {
    "duration": 5,
    "start_time": "2023-10-23T16:29:44.688Z"
   },
   {
    "duration": 8,
    "start_time": "2023-10-23T16:29:44.695Z"
   },
   {
    "duration": 6,
    "start_time": "2023-10-23T16:29:44.707Z"
   },
   {
    "duration": 59,
    "start_time": "2023-10-23T16:29:44.714Z"
   },
   {
    "duration": 14,
    "start_time": "2023-10-23T16:29:44.779Z"
   },
   {
    "duration": 6,
    "start_time": "2023-10-23T16:29:44.795Z"
   },
   {
    "duration": 28,
    "start_time": "2023-10-23T16:29:44.803Z"
   },
   {
    "duration": 42,
    "start_time": "2023-10-23T16:29:44.832Z"
   },
   {
    "duration": 34,
    "start_time": "2023-10-23T16:29:44.876Z"
   },
   {
    "duration": 63,
    "start_time": "2023-10-23T16:29:44.912Z"
   },
   {
    "duration": 15,
    "start_time": "2023-10-23T16:29:44.976Z"
   },
   {
    "duration": 6,
    "start_time": "2023-10-23T16:29:44.993Z"
   },
   {
    "duration": 4,
    "start_time": "2023-10-23T16:29:45.001Z"
   },
   {
    "duration": 45,
    "start_time": "2023-10-23T16:29:45.007Z"
   },
   {
    "duration": 23,
    "start_time": "2023-10-23T16:29:45.054Z"
   },
   {
    "duration": 30,
    "start_time": "2023-10-23T16:29:45.079Z"
   },
   {
    "duration": 17,
    "start_time": "2023-10-23T16:29:45.111Z"
   },
   {
    "duration": 29,
    "start_time": "2023-10-23T16:29:45.129Z"
   },
   {
    "duration": 49,
    "start_time": "2023-10-24T07:42:24.244Z"
   },
   {
    "duration": 7,
    "start_time": "2023-10-24T07:42:31.648Z"
   },
   {
    "duration": 7,
    "start_time": "2023-10-24T07:42:41.114Z"
   },
   {
    "duration": 9,
    "start_time": "2023-10-24T07:42:53.757Z"
   },
   {
    "duration": 716,
    "start_time": "2023-10-24T07:43:03.081Z"
   },
   {
    "duration": 27,
    "start_time": "2023-10-24T07:43:03.800Z"
   },
   {
    "duration": 26,
    "start_time": "2023-10-24T07:43:03.829Z"
   },
   {
    "duration": 13,
    "start_time": "2023-10-24T07:43:04.396Z"
   },
   {
    "duration": 51,
    "start_time": "2023-10-24T07:43:04.731Z"
   },
   {
    "duration": 4,
    "start_time": "2023-10-24T07:43:05.266Z"
   },
   {
    "duration": 8,
    "start_time": "2023-10-24T07:43:05.589Z"
   },
   {
    "duration": 7,
    "start_time": "2023-10-24T07:43:06.118Z"
   },
   {
    "duration": 6,
    "start_time": "2023-10-24T07:43:06.487Z"
   },
   {
    "duration": 5,
    "start_time": "2023-10-24T07:43:06.843Z"
   },
   {
    "duration": 35,
    "start_time": "2023-10-24T07:43:07.408Z"
   },
   {
    "duration": 15,
    "start_time": "2023-10-24T07:43:07.791Z"
   },
   {
    "duration": 5,
    "start_time": "2023-10-24T07:43:08.344Z"
   },
   {
    "duration": 19,
    "start_time": "2023-10-24T07:43:09.897Z"
   },
   {
    "duration": 22,
    "start_time": "2023-10-24T07:43:10.510Z"
   },
   {
    "duration": 27,
    "start_time": "2023-10-24T07:43:10.710Z"
   },
   {
    "duration": 4,
    "start_time": "2023-10-24T07:43:11.728Z"
   },
   {
    "duration": 17,
    "start_time": "2023-10-24T07:43:12.490Z"
   },
   {
    "duration": 8,
    "start_time": "2023-10-24T07:43:13.446Z"
   },
   {
    "duration": 4,
    "start_time": "2023-10-24T07:43:14.260Z"
   },
   {
    "duration": 8,
    "start_time": "2023-10-24T07:43:14.446Z"
   },
   {
    "duration": 15,
    "start_time": "2023-10-24T07:43:19.277Z"
   },
   {
    "duration": 18,
    "start_time": "2023-10-24T07:43:25.970Z"
   },
   {
    "duration": 18,
    "start_time": "2023-10-24T07:43:32.924Z"
   },
   {
    "duration": 690,
    "start_time": "2023-10-25T15:48:02.560Z"
   },
   {
    "duration": 23,
    "start_time": "2023-10-25T15:48:03.252Z"
   },
   {
    "duration": 15,
    "start_time": "2023-10-25T15:48:03.277Z"
   },
   {
    "duration": 10,
    "start_time": "2023-10-25T15:48:03.294Z"
   },
   {
    "duration": 45,
    "start_time": "2023-10-25T15:48:03.306Z"
   },
   {
    "duration": 4,
    "start_time": "2023-10-25T15:48:03.353Z"
   },
   {
    "duration": 9,
    "start_time": "2023-10-25T15:48:03.358Z"
   },
   {
    "duration": 12,
    "start_time": "2023-10-25T15:48:03.368Z"
   },
   {
    "duration": 8,
    "start_time": "2023-10-25T15:48:03.381Z"
   },
   {
    "duration": 4,
    "start_time": "2023-10-25T15:48:03.392Z"
   },
   {
    "duration": 60,
    "start_time": "2023-10-25T15:48:03.397Z"
   },
   {
    "duration": 10,
    "start_time": "2023-10-25T15:48:03.459Z"
   },
   {
    "duration": 7,
    "start_time": "2023-10-25T15:48:03.470Z"
   },
   {
    "duration": 11,
    "start_time": "2023-10-25T15:48:03.479Z"
   },
   {
    "duration": 18,
    "start_time": "2023-10-25T15:48:03.492Z"
   },
   {
    "duration": 36,
    "start_time": "2023-10-25T15:48:03.512Z"
   },
   {
    "duration": 4,
    "start_time": "2023-10-25T15:48:03.549Z"
   },
   {
    "duration": 10,
    "start_time": "2023-10-25T15:48:03.554Z"
   },
   {
    "duration": 5,
    "start_time": "2023-10-25T15:48:03.565Z"
   },
   {
    "duration": 5,
    "start_time": "2023-10-25T15:48:03.571Z"
   },
   {
    "duration": 15,
    "start_time": "2023-10-25T15:48:03.577Z"
   },
   {
    "duration": 14,
    "start_time": "2023-10-25T15:48:03.593Z"
   },
   {
    "duration": 40,
    "start_time": "2023-10-25T15:48:03.608Z"
   },
   {
    "duration": 13,
    "start_time": "2023-10-25T15:48:03.649Z"
   },
   {
    "duration": 13,
    "start_time": "2023-10-25T15:48:03.663Z"
   },
   {
    "duration": 47,
    "start_time": "2023-11-11T10:38:55.789Z"
   },
   {
    "duration": 591,
    "start_time": "2023-11-11T10:39:00.668Z"
   },
   {
    "duration": 21,
    "start_time": "2023-11-11T10:39:04.000Z"
   },
   {
    "duration": 24,
    "start_time": "2023-11-11T10:39:07.277Z"
   },
   {
    "duration": 10,
    "start_time": "2023-11-11T10:39:10.373Z"
   },
   {
    "duration": 42,
    "start_time": "2023-11-11T10:39:12.439Z"
   }
  ],
  "colab": {
   "name": "dpp_template_part2.ipynb",
   "provenance": []
  },
  "kernelspec": {
   "display_name": "Python 3 (ipykernel)",
   "language": "python",
   "name": "python3"
  },
  "language_info": {
   "codemirror_mode": {
    "name": "ipython",
    "version": 3
   },
   "file_extension": ".py",
   "mimetype": "text/x-python",
   "name": "python",
   "nbconvert_exporter": "python",
   "pygments_lexer": "ipython3",
   "version": "3.9.5"
  },
  "toc": {
   "base_numbering": 1,
   "nav_menu": {},
   "number_sections": true,
   "sideBar": true,
   "skip_h1_title": true,
   "title_cell": "Table of Contents",
   "title_sidebar": "Contents",
   "toc_cell": false,
   "toc_position": {},
   "toc_section_display": true,
   "toc_window_display": true
  }
 },
 "nbformat": 4,
 "nbformat_minor": 5
}
