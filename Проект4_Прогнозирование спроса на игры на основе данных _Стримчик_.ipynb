{
 "cells": [
  {
   "cell_type": "markdown",
   "metadata": {},
   "source": [
    "## Прогнозирование спроса на игры на основе данных \"Стримчик\"\n"
   ]
  },
  {
   "cell_type": "markdown",
   "metadata": {},
   "source": [
    "Данный блокнот анализирует и прогнозирует игровую индустрию. За основу берутся исторические данные о продажах игр, оценки пользователей и экспертов, жанры и платформы. Целью является выявление закономерностей успеха игр и составление прогноза для рекламной кампании на 2017 год. "
   ]
  },
  {
   "cell_type": "code",
   "execution_count": 1,
   "metadata": {},
   "outputs": [],
   "source": [
    "import pandas as pd\n",
    "import numpy as np\n",
    "import seaborn as sns\n",
    "import matplotlib.pyplot as plt\n",
    "from scipy import stats as st"
   ]
  },
  {
   "cell_type": "markdown",
   "metadata": {},
   "source": [
    "### Знакомство с данными\n"
   ]
  },
  {
   "cell_type": "code",
   "execution_count": 2,
   "metadata": {},
   "outputs": [],
   "source": [
    "df = pd.read_csv('/datasets/games.csv')"
   ]
  },
  {
   "cell_type": "code",
   "execution_count": 3,
   "metadata": {},
   "outputs": [
    {
     "name": "stdout",
     "output_type": "stream",
     "text": [
      "                       Name Platform  Year_of_Release         Genre  NA_sales  \\\n",
      "0                Wii Sports      Wii           2006.0        Sports     41.36   \n",
      "1         Super Mario Bros.      NES           1985.0      Platform     29.08   \n",
      "2            Mario Kart Wii      Wii           2008.0        Racing     15.68   \n",
      "3         Wii Sports Resort      Wii           2009.0        Sports     15.61   \n",
      "4  Pokemon Red/Pokemon Blue       GB           1996.0  Role-Playing     11.27   \n",
      "\n",
      "   EU_sales  JP_sales  Other_sales  Critic_Score User_Score Rating  \n",
      "0     28.96      3.77         8.45          76.0          8      E  \n",
      "1      3.58      6.81         0.77           NaN        NaN    NaN  \n",
      "2     12.76      3.79         3.29          82.0        8.3      E  \n",
      "3     10.93      3.28         2.95          80.0          8      E  \n",
      "4      8.89     10.22         1.00           NaN        NaN    NaN  \n",
      "<class 'pandas.core.frame.DataFrame'>\n",
      "RangeIndex: 16715 entries, 0 to 16714\n",
      "Data columns (total 11 columns):\n",
      " #   Column           Non-Null Count  Dtype  \n",
      "---  ------           --------------  -----  \n",
      " 0   Name             16713 non-null  object \n",
      " 1   Platform         16715 non-null  object \n",
      " 2   Year_of_Release  16446 non-null  float64\n",
      " 3   Genre            16713 non-null  object \n",
      " 4   NA_sales         16715 non-null  float64\n",
      " 5   EU_sales         16715 non-null  float64\n",
      " 6   JP_sales         16715 non-null  float64\n",
      " 7   Other_sales      16715 non-null  float64\n",
      " 8   Critic_Score     8137 non-null   float64\n",
      " 9   User_Score       10014 non-null  object \n",
      " 10  Rating           9949 non-null   object \n",
      "dtypes: float64(6), object(5)\n",
      "memory usage: 1.4+ MB\n"
     ]
    }
   ],
   "source": [
    "print(df.head())\n",
    "df.info()"
   ]
  },
  {
   "cell_type": "markdown",
   "metadata": {},
   "source": [
    "Запишем данные в переменную df и изучим их начальное состояние. \n",
    "\n",
    "1. Закрадываются сомнения по поводу названий игр в столбце Name - возможно будет очень много неявных дубликатов.\n",
    "2. Аналогично с названиями платформ.\n",
    "3. Столбец 'Year_of_Release' содержит в себе года выпуска игр, которые нужно перевести в тип int.\n",
    "4. Оценки критиков и геймеров не должны быть выше 100 и 10 соответственно.\n",
    "5. Пропуски в оценках критиков и геймеров являются критичными. Их нельзя заполнить, так как это искозит общую картину. Придется избавляться от таких игр.\n",
    "\n",
    "Будем копать данные в порядке, описанном выше."
   ]
  },
  {
   "cell_type": "markdown",
   "metadata": {},
   "source": [
    "### Предобработка данных\n"
   ]
  },
  {
   "cell_type": "code",
   "execution_count": 4,
   "metadata": {
    "scrolled": true
   },
   "outputs": [
    {
     "name": "stdout",
     "output_type": "stream",
     "text": [
      "<class 'pandas.core.frame.DataFrame'>\n",
      "Int64Index: 16444 entries, 0 to 16714\n",
      "Data columns (total 11 columns):\n",
      " #   Column           Non-Null Count  Dtype  \n",
      "---  ------           --------------  -----  \n",
      " 0   Name             16444 non-null  object \n",
      " 1   Platform         16444 non-null  object \n",
      " 2   Year_of_Release  16444 non-null  int64  \n",
      " 3   Genre            16444 non-null  object \n",
      " 4   NA_sales         16444 non-null  float64\n",
      " 5   EU_sales         16444 non-null  float64\n",
      " 6   JP_sales         16444 non-null  float64\n",
      " 7   Other_sales      16444 non-null  float64\n",
      " 8   Critic_Score     7983 non-null   float64\n",
      " 9   User_Score       9839 non-null   object \n",
      " 10  Rating           9768 non-null   object \n",
      "dtypes: float64(5), int64(1), object(5)\n",
      "memory usage: 1.5+ MB\n",
      "None\n"
     ]
    }
   ],
   "source": [
    "df['Name'] = df['Name'].str.lower()\n",
    "df['Platform'] = df['Platform'].str.lower()\n",
    "df['Year_of_Release'].isna().sum()\n",
    "df = df.dropna(subset = ['Year_of_Release'])\n",
    "df['Year_of_Release'] = df['Year_of_Release'].astype(int)\n",
    "df = df.dropna(subset = ['Name'])\n",
    "print(df.info())\n"
   ]
  },
  {
   "cell_type": "markdown",
   "metadata": {},
   "source": [
    "Названия игр и платформ приведены к нижнему регистру. Обработаем столбец с данными по годам выхода: избавимся от строк, где год отсутствует, а так же приведем год к типу численных данных. Так же удалим 2 пропуска в столбце с названием игры. Решать судьбу пропусков в оценках критиков и пользователей, а так же рэйтинга, будем по мере необходимости."
   ]
  },
  {
   "cell_type": "markdown",
   "metadata": {},
   "source": [
    "Огромное количество пропусков в рейтингах, возможно, связаны с низкой популярностью игр, где присутствуют пропуски. Допустим, какие-то малоизвестные инди-проекты, где количество пользователей меньше определенной квоты, при которой формируется оценка."
   ]
  },
  {
   "cell_type": "code",
   "execution_count": 5,
   "metadata": {},
   "outputs": [
    {
     "data": {
      "text/plain": [
       "6676"
      ]
     },
     "execution_count": 5,
     "metadata": {},
     "output_type": "execute_result"
    }
   ],
   "source": [
    "def nan_check(df, column):\n",
    "    title_dict = {'Name','Platform','Year_of_Release','Genre', 'NA_sales', 'EU_sales', 'JP_sales',\n",
    "                  'Other_sales', 'Critic_Score', 'User_Score', 'Rating'}\n",
    "    check = df[column].isna().sum()\n",
    "    return check\n",
    "nan_check(df, 'Rating')"
   ]
  },
  {
   "cell_type": "code",
   "execution_count": 6,
   "metadata": {},
   "outputs": [],
   "source": [
    "df.rename(columns = {'Name':'name', 'Platform':'platform',\n",
    "                     'Year_of_Release':'year','Genre':'genre',\n",
    "                     'NA_sales':'na_sales','EU_sales':'eu_sales',\n",
    "                     'JP_sales':'jp_sales','Other_sales':'other_sales',\n",
    "                     'Critic_Score':'critic_score','User_Score':'user_score',\n",
    "                     'Rating':'rating'}, inplace = True )\n"
   ]
  },
  {
   "cell_type": "code",
   "execution_count": 7,
   "metadata": {
    "scrolled": true
   },
   "outputs": [
    {
     "data": {
      "text/html": [
       "<div>\n",
       "<style scoped>\n",
       "    .dataframe tbody tr th:only-of-type {\n",
       "        vertical-align: middle;\n",
       "    }\n",
       "\n",
       "    .dataframe tbody tr th {\n",
       "        vertical-align: top;\n",
       "    }\n",
       "\n",
       "    .dataframe thead th {\n",
       "        text-align: right;\n",
       "    }\n",
       "</style>\n",
       "<table border=\"1\" class=\"dataframe\">\n",
       "  <thead>\n",
       "    <tr style=\"text-align: right;\">\n",
       "      <th></th>\n",
       "      <th>name</th>\n",
       "      <th>platform</th>\n",
       "      <th>year</th>\n",
       "      <th>genre</th>\n",
       "      <th>na_sales</th>\n",
       "      <th>eu_sales</th>\n",
       "      <th>jp_sales</th>\n",
       "      <th>other_sales</th>\n",
       "      <th>critic_score</th>\n",
       "      <th>user_score</th>\n",
       "      <th>rating</th>\n",
       "      <th>sum_sales</th>\n",
       "    </tr>\n",
       "  </thead>\n",
       "  <tbody>\n",
       "    <tr>\n",
       "      <th>119</th>\n",
       "      <td>zumba fitness</td>\n",
       "      <td>wii</td>\n",
       "      <td>2010</td>\n",
       "      <td>Sports</td>\n",
       "      <td>3.45</td>\n",
       "      <td>2.59</td>\n",
       "      <td>0.0</td>\n",
       "      <td>0.66</td>\n",
       "      <td>NaN</td>\n",
       "      <td>tbd</td>\n",
       "      <td>E</td>\n",
       "      <td>6.70</td>\n",
       "    </tr>\n",
       "    <tr>\n",
       "      <th>301</th>\n",
       "      <td>namco museum: 50th anniversary</td>\n",
       "      <td>ps2</td>\n",
       "      <td>2005</td>\n",
       "      <td>Misc</td>\n",
       "      <td>2.08</td>\n",
       "      <td>1.35</td>\n",
       "      <td>0.0</td>\n",
       "      <td>0.54</td>\n",
       "      <td>61.0</td>\n",
       "      <td>tbd</td>\n",
       "      <td>E10+</td>\n",
       "      <td>3.97</td>\n",
       "    </tr>\n",
       "    <tr>\n",
       "      <th>520</th>\n",
       "      <td>zumba fitness 2</td>\n",
       "      <td>wii</td>\n",
       "      <td>2011</td>\n",
       "      <td>Sports</td>\n",
       "      <td>1.51</td>\n",
       "      <td>1.03</td>\n",
       "      <td>0.0</td>\n",
       "      <td>0.27</td>\n",
       "      <td>NaN</td>\n",
       "      <td>tbd</td>\n",
       "      <td>T</td>\n",
       "      <td>2.81</td>\n",
       "    </tr>\n",
       "    <tr>\n",
       "      <th>645</th>\n",
       "      <td>udraw studio</td>\n",
       "      <td>wii</td>\n",
       "      <td>2010</td>\n",
       "      <td>Misc</td>\n",
       "      <td>1.65</td>\n",
       "      <td>0.57</td>\n",
       "      <td>0.0</td>\n",
       "      <td>0.20</td>\n",
       "      <td>71.0</td>\n",
       "      <td>tbd</td>\n",
       "      <td>E</td>\n",
       "      <td>2.42</td>\n",
       "    </tr>\n",
       "    <tr>\n",
       "      <th>718</th>\n",
       "      <td>just dance kids</td>\n",
       "      <td>wii</td>\n",
       "      <td>2010</td>\n",
       "      <td>Misc</td>\n",
       "      <td>1.52</td>\n",
       "      <td>0.54</td>\n",
       "      <td>0.0</td>\n",
       "      <td>0.18</td>\n",
       "      <td>NaN</td>\n",
       "      <td>tbd</td>\n",
       "      <td>E</td>\n",
       "      <td>2.24</td>\n",
       "    </tr>\n",
       "    <tr>\n",
       "      <th>...</th>\n",
       "      <td>...</td>\n",
       "      <td>...</td>\n",
       "      <td>...</td>\n",
       "      <td>...</td>\n",
       "      <td>...</td>\n",
       "      <td>...</td>\n",
       "      <td>...</td>\n",
       "      <td>...</td>\n",
       "      <td>...</td>\n",
       "      <td>...</td>\n",
       "      <td>...</td>\n",
       "      <td>...</td>\n",
       "    </tr>\n",
       "    <tr>\n",
       "      <th>15983</th>\n",
       "      <td>mission: impossible - operation surma</td>\n",
       "      <td>gc</td>\n",
       "      <td>2004</td>\n",
       "      <td>Platform</td>\n",
       "      <td>0.01</td>\n",
       "      <td>0.00</td>\n",
       "      <td>0.0</td>\n",
       "      <td>0.00</td>\n",
       "      <td>64.0</td>\n",
       "      <td>tbd</td>\n",
       "      <td>T</td>\n",
       "      <td>0.01</td>\n",
       "    </tr>\n",
       "    <tr>\n",
       "      <th>15979</th>\n",
       "      <td>monster trux offroad</td>\n",
       "      <td>wii</td>\n",
       "      <td>2007</td>\n",
       "      <td>Racing</td>\n",
       "      <td>0.01</td>\n",
       "      <td>0.00</td>\n",
       "      <td>0.0</td>\n",
       "      <td>0.00</td>\n",
       "      <td>NaN</td>\n",
       "      <td>tbd</td>\n",
       "      <td>E</td>\n",
       "      <td>0.01</td>\n",
       "    </tr>\n",
       "    <tr>\n",
       "      <th>15975</th>\n",
       "      <td>paranormal pursuit: the gifted one</td>\n",
       "      <td>pc</td>\n",
       "      <td>2015</td>\n",
       "      <td>Action</td>\n",
       "      <td>0.00</td>\n",
       "      <td>0.01</td>\n",
       "      <td>0.0</td>\n",
       "      <td>0.00</td>\n",
       "      <td>NaN</td>\n",
       "      <td>tbd</td>\n",
       "      <td>NaN</td>\n",
       "      <td>0.01</td>\n",
       "    </tr>\n",
       "    <tr>\n",
       "      <th>15963</th>\n",
       "      <td>dead to rights</td>\n",
       "      <td>gba</td>\n",
       "      <td>2004</td>\n",
       "      <td>Shooter</td>\n",
       "      <td>0.01</td>\n",
       "      <td>0.00</td>\n",
       "      <td>0.0</td>\n",
       "      <td>0.00</td>\n",
       "      <td>40.0</td>\n",
       "      <td>tbd</td>\n",
       "      <td>T</td>\n",
       "      <td>0.01</td>\n",
       "    </tr>\n",
       "    <tr>\n",
       "      <th>16706</th>\n",
       "      <td>men in black ii: alien escape</td>\n",
       "      <td>gc</td>\n",
       "      <td>2003</td>\n",
       "      <td>Shooter</td>\n",
       "      <td>0.01</td>\n",
       "      <td>0.00</td>\n",
       "      <td>0.0</td>\n",
       "      <td>0.00</td>\n",
       "      <td>NaN</td>\n",
       "      <td>tbd</td>\n",
       "      <td>T</td>\n",
       "      <td>0.01</td>\n",
       "    </tr>\n",
       "  </tbody>\n",
       "</table>\n",
       "<p>2376 rows × 12 columns</p>\n",
       "</div>"
      ],
      "text/plain": [
       "                                        name platform  year     genre  \\\n",
       "119                            zumba fitness      wii  2010    Sports   \n",
       "301           namco museum: 50th anniversary      ps2  2005      Misc   \n",
       "520                          zumba fitness 2      wii  2011    Sports   \n",
       "645                             udraw studio      wii  2010      Misc   \n",
       "718                          just dance kids      wii  2010      Misc   \n",
       "...                                      ...      ...   ...       ...   \n",
       "15983  mission: impossible - operation surma       gc  2004  Platform   \n",
       "15979                   monster trux offroad      wii  2007    Racing   \n",
       "15975     paranormal pursuit: the gifted one       pc  2015    Action   \n",
       "15963                         dead to rights      gba  2004   Shooter   \n",
       "16706          men in black ii: alien escape       gc  2003   Shooter   \n",
       "\n",
       "       na_sales  eu_sales  jp_sales  other_sales  critic_score user_score  \\\n",
       "119        3.45      2.59       0.0         0.66           NaN        tbd   \n",
       "301        2.08      1.35       0.0         0.54          61.0        tbd   \n",
       "520        1.51      1.03       0.0         0.27           NaN        tbd   \n",
       "645        1.65      0.57       0.0         0.20          71.0        tbd   \n",
       "718        1.52      0.54       0.0         0.18           NaN        tbd   \n",
       "...         ...       ...       ...          ...           ...        ...   \n",
       "15983      0.01      0.00       0.0         0.00          64.0        tbd   \n",
       "15979      0.01      0.00       0.0         0.00           NaN        tbd   \n",
       "15975      0.00      0.01       0.0         0.00           NaN        tbd   \n",
       "15963      0.01      0.00       0.0         0.00          40.0        tbd   \n",
       "16706      0.01      0.00       0.0         0.00           NaN        tbd   \n",
       "\n",
       "      rating  sum_sales  \n",
       "119        E       6.70  \n",
       "301     E10+       3.97  \n",
       "520        T       2.81  \n",
       "645        E       2.42  \n",
       "718        E       2.24  \n",
       "...      ...        ...  \n",
       "15983      T       0.01  \n",
       "15979      E       0.01  \n",
       "15975    NaN       0.01  \n",
       "15963      T       0.01  \n",
       "16706      T       0.01  \n",
       "\n",
       "[2376 rows x 12 columns]"
      ]
     },
     "execution_count": 7,
     "metadata": {},
     "output_type": "execute_result"
    }
   ],
   "source": [
    "df['sum_sales'] = df['na_sales'] + df['eu_sales'] + df['jp_sales'] + df['other_sales']\n",
    "df[df['user_score'] == 'tbd'].sort_values('sum_sales', ascending = False)"
   ]
  },
  {
   "cell_type": "markdown",
   "metadata": {},
   "source": [
    "Я предположу, что tbd в столбце user_score обозначает отсутствие данных об оценке пользователей. Предположение обосновано крайне низкими продажами, сумму которых мы посчитали в отдельном df. Максимальный объем продаж игры без оценки пользователя - 6.7 млн копий. В таком случае, правильным решением будет заполнить пропуски в оценках и рейтинге значением tbd, который будет пинговать об отсутствии значений."
   ]
  },
  {
   "cell_type": "code",
   "execution_count": 8,
   "metadata": {},
   "outputs": [
    {
     "name": "stdout",
     "output_type": "stream",
     "text": [
      "<class 'pandas.core.frame.DataFrame'>\n",
      "Int64Index: 16444 entries, 0 to 16714\n",
      "Data columns (total 12 columns):\n",
      " #   Column        Non-Null Count  Dtype  \n",
      "---  ------        --------------  -----  \n",
      " 0   name          16444 non-null  object \n",
      " 1   platform      16444 non-null  object \n",
      " 2   year          16444 non-null  int64  \n",
      " 3   genre         16444 non-null  object \n",
      " 4   na_sales      16444 non-null  float64\n",
      " 5   eu_sales      16444 non-null  float64\n",
      " 6   jp_sales      16444 non-null  float64\n",
      " 7   other_sales   16444 non-null  float64\n",
      " 8   critic_score  7983 non-null   float64\n",
      " 9   user_score    7463 non-null   object \n",
      " 10  rating        9768 non-null   object \n",
      " 11  sum_sales     16444 non-null  float64\n",
      "dtypes: float64(6), int64(1), object(5)\n",
      "memory usage: 1.6+ MB\n"
     ]
    },
    {
     "data": {
      "text/plain": [
       "array(['E', nan, 'M', 'T', 'E10+', 'K-A', 'AO', 'EC', 'RP'], dtype=object)"
      ]
     },
     "execution_count": 8,
     "metadata": {},
     "output_type": "execute_result"
    }
   ],
   "source": [
    "df['user_score'] = df['user_score'].replace('tbd', np.nan)\n",
    "df['critic_score'] = df['critic_score'].replace('tbd', np.nan)\n",
    "df['rating'] = df['rating'].replace('tbd', np.nan)\n",
    "df.info()\n",
    "df['rating'].unique()\n"
   ]
  },
  {
   "cell_type": "markdown",
   "metadata": {},
   "source": [
    "Данные все оставил. В частях работы, где необходимо обращаться к данным по оценкам и рейтингу, добавлены фильтры. "
   ]
  },
  {
   "cell_type": "code",
   "execution_count": 9,
   "metadata": {},
   "outputs": [
    {
     "data": {
      "text/plain": [
       "0"
      ]
     },
     "execution_count": 9,
     "metadata": {},
     "output_type": "execute_result"
    }
   ],
   "source": [
    "df.duplicated().sum()"
   ]
  },
  {
   "cell_type": "code",
   "execution_count": 10,
   "metadata": {},
   "outputs": [
    {
     "data": {
      "text/html": [
       "<div>\n",
       "<style scoped>\n",
       "    .dataframe tbody tr th:only-of-type {\n",
       "        vertical-align: middle;\n",
       "    }\n",
       "\n",
       "    .dataframe tbody tr th {\n",
       "        vertical-align: top;\n",
       "    }\n",
       "\n",
       "    .dataframe thead th {\n",
       "        text-align: right;\n",
       "    }\n",
       "</style>\n",
       "<table border=\"1\" class=\"dataframe\">\n",
       "  <thead>\n",
       "    <tr style=\"text-align: right;\">\n",
       "      <th></th>\n",
       "      <th>name</th>\n",
       "      <th>platform</th>\n",
       "      <th>year</th>\n",
       "      <th>genre</th>\n",
       "      <th>na_sales</th>\n",
       "      <th>eu_sales</th>\n",
       "      <th>jp_sales</th>\n",
       "      <th>other_sales</th>\n",
       "      <th>critic_score</th>\n",
       "      <th>user_score</th>\n",
       "      <th>rating</th>\n",
       "      <th>sum_sales</th>\n",
       "    </tr>\n",
       "  </thead>\n",
       "  <tbody>\n",
       "    <tr>\n",
       "      <th>507</th>\n",
       "      <td>madden nfl 13</td>\n",
       "      <td>x360</td>\n",
       "      <td>2012</td>\n",
       "      <td>Sports</td>\n",
       "      <td>2.53</td>\n",
       "      <td>0.15</td>\n",
       "      <td>0.0</td>\n",
       "      <td>0.17</td>\n",
       "      <td>81.0</td>\n",
       "      <td>5.8</td>\n",
       "      <td>E</td>\n",
       "      <td>2.85</td>\n",
       "    </tr>\n",
       "    <tr>\n",
       "      <th>604</th>\n",
       "      <td>madden nfl 13</td>\n",
       "      <td>ps3</td>\n",
       "      <td>2012</td>\n",
       "      <td>Sports</td>\n",
       "      <td>2.11</td>\n",
       "      <td>0.22</td>\n",
       "      <td>0.0</td>\n",
       "      <td>0.23</td>\n",
       "      <td>83.0</td>\n",
       "      <td>5.5</td>\n",
       "      <td>E</td>\n",
       "      <td>2.56</td>\n",
       "    </tr>\n",
       "    <tr>\n",
       "      <th>3986</th>\n",
       "      <td>madden nfl 13</td>\n",
       "      <td>wii</td>\n",
       "      <td>2012</td>\n",
       "      <td>Sports</td>\n",
       "      <td>0.47</td>\n",
       "      <td>0.00</td>\n",
       "      <td>0.0</td>\n",
       "      <td>0.03</td>\n",
       "      <td>NaN</td>\n",
       "      <td>7.3</td>\n",
       "      <td>E</td>\n",
       "      <td>0.50</td>\n",
       "    </tr>\n",
       "    <tr>\n",
       "      <th>5887</th>\n",
       "      <td>madden nfl 13</td>\n",
       "      <td>psv</td>\n",
       "      <td>2012</td>\n",
       "      <td>Sports</td>\n",
       "      <td>0.28</td>\n",
       "      <td>0.00</td>\n",
       "      <td>0.0</td>\n",
       "      <td>0.02</td>\n",
       "      <td>63.0</td>\n",
       "      <td>7.3</td>\n",
       "      <td>E</td>\n",
       "      <td>0.30</td>\n",
       "    </tr>\n",
       "    <tr>\n",
       "      <th>7066</th>\n",
       "      <td>madden nfl 13</td>\n",
       "      <td>wiiu</td>\n",
       "      <td>2012</td>\n",
       "      <td>Sports</td>\n",
       "      <td>0.21</td>\n",
       "      <td>0.00</td>\n",
       "      <td>0.0</td>\n",
       "      <td>0.02</td>\n",
       "      <td>75.0</td>\n",
       "      <td>6.7</td>\n",
       "      <td>E</td>\n",
       "      <td>0.23</td>\n",
       "    </tr>\n",
       "    <tr>\n",
       "      <th>16230</th>\n",
       "      <td>madden nfl 13</td>\n",
       "      <td>ps3</td>\n",
       "      <td>2012</td>\n",
       "      <td>Sports</td>\n",
       "      <td>0.00</td>\n",
       "      <td>0.01</td>\n",
       "      <td>0.0</td>\n",
       "      <td>0.00</td>\n",
       "      <td>83.0</td>\n",
       "      <td>5.5</td>\n",
       "      <td>E</td>\n",
       "      <td>0.01</td>\n",
       "    </tr>\n",
       "  </tbody>\n",
       "</table>\n",
       "</div>"
      ],
      "text/plain": [
       "                name platform  year   genre  na_sales  eu_sales  jp_sales  \\\n",
       "507    madden nfl 13     x360  2012  Sports      2.53      0.15       0.0   \n",
       "604    madden nfl 13      ps3  2012  Sports      2.11      0.22       0.0   \n",
       "3986   madden nfl 13      wii  2012  Sports      0.47      0.00       0.0   \n",
       "5887   madden nfl 13      psv  2012  Sports      0.28      0.00       0.0   \n",
       "7066   madden nfl 13     wiiu  2012  Sports      0.21      0.00       0.0   \n",
       "16230  madden nfl 13      ps3  2012  Sports      0.00      0.01       0.0   \n",
       "\n",
       "       other_sales  critic_score user_score rating  sum_sales  \n",
       "507           0.17          81.0        5.8      E       2.85  \n",
       "604           0.23          83.0        5.5      E       2.56  \n",
       "3986          0.03           NaN        7.3      E       0.50  \n",
       "5887          0.02          63.0        7.3      E       0.30  \n",
       "7066          0.02          75.0        6.7      E       0.23  \n",
       "16230         0.00          83.0        5.5      E       0.01  "
      ]
     },
     "execution_count": 10,
     "metadata": {},
     "output_type": "execute_result"
    }
   ],
   "source": [
    "duplicateRows = df[df.duplicated(['name', 'platform', 'year'])]\n",
    "duplicateRows\n",
    "df[df['name'] == 'madden nfl 13']"
   ]
  },
  {
   "cell_type": "markdown",
   "metadata": {},
   "source": [
    "Явные дубликаты отсутствуют."
   ]
  },
  {
   "cell_type": "markdown",
   "metadata": {},
   "source": [
    "Ты прав. Стоило проверять неявные дубликаты. Как следствие, был найден неявный дубликат: игра 'madden nfl 13' на платформе ps3. Данный дубликат является, скорее всего, ошибкой при вводе данных, так как основных данных по продажам в дубликате нет. Но Присутствуют оценки. Так как позже мы будем изучать оценки пользователей, данный дубликат может искажать результаты. Избавимся от дубликата."
   ]
  },
  {
   "cell_type": "code",
   "execution_count": 11,
   "metadata": {},
   "outputs": [
    {
     "data": {
      "text/html": [
       "<div>\n",
       "<style scoped>\n",
       "    .dataframe tbody tr th:only-of-type {\n",
       "        vertical-align: middle;\n",
       "    }\n",
       "\n",
       "    .dataframe tbody tr th {\n",
       "        vertical-align: top;\n",
       "    }\n",
       "\n",
       "    .dataframe thead th {\n",
       "        text-align: right;\n",
       "    }\n",
       "</style>\n",
       "<table border=\"1\" class=\"dataframe\">\n",
       "  <thead>\n",
       "    <tr style=\"text-align: right;\">\n",
       "      <th></th>\n",
       "      <th>name</th>\n",
       "      <th>platform</th>\n",
       "      <th>year</th>\n",
       "      <th>genre</th>\n",
       "      <th>na_sales</th>\n",
       "      <th>eu_sales</th>\n",
       "      <th>jp_sales</th>\n",
       "      <th>other_sales</th>\n",
       "      <th>critic_score</th>\n",
       "      <th>user_score</th>\n",
       "      <th>rating</th>\n",
       "      <th>sum_sales</th>\n",
       "    </tr>\n",
       "  </thead>\n",
       "  <tbody>\n",
       "    <tr>\n",
       "      <th>507</th>\n",
       "      <td>madden nfl 13</td>\n",
       "      <td>x360</td>\n",
       "      <td>2012</td>\n",
       "      <td>Sports</td>\n",
       "      <td>2.53</td>\n",
       "      <td>0.15</td>\n",
       "      <td>0.0</td>\n",
       "      <td>0.17</td>\n",
       "      <td>81.0</td>\n",
       "      <td>5.8</td>\n",
       "      <td>E</td>\n",
       "      <td>2.85</td>\n",
       "    </tr>\n",
       "    <tr>\n",
       "      <th>604</th>\n",
       "      <td>madden nfl 13</td>\n",
       "      <td>ps3</td>\n",
       "      <td>2012</td>\n",
       "      <td>Sports</td>\n",
       "      <td>2.11</td>\n",
       "      <td>0.22</td>\n",
       "      <td>0.0</td>\n",
       "      <td>0.23</td>\n",
       "      <td>83.0</td>\n",
       "      <td>5.5</td>\n",
       "      <td>E</td>\n",
       "      <td>2.56</td>\n",
       "    </tr>\n",
       "    <tr>\n",
       "      <th>3986</th>\n",
       "      <td>madden nfl 13</td>\n",
       "      <td>wii</td>\n",
       "      <td>2012</td>\n",
       "      <td>Sports</td>\n",
       "      <td>0.47</td>\n",
       "      <td>0.00</td>\n",
       "      <td>0.0</td>\n",
       "      <td>0.03</td>\n",
       "      <td>NaN</td>\n",
       "      <td>7.3</td>\n",
       "      <td>E</td>\n",
       "      <td>0.50</td>\n",
       "    </tr>\n",
       "    <tr>\n",
       "      <th>5887</th>\n",
       "      <td>madden nfl 13</td>\n",
       "      <td>psv</td>\n",
       "      <td>2012</td>\n",
       "      <td>Sports</td>\n",
       "      <td>0.28</td>\n",
       "      <td>0.00</td>\n",
       "      <td>0.0</td>\n",
       "      <td>0.02</td>\n",
       "      <td>63.0</td>\n",
       "      <td>7.3</td>\n",
       "      <td>E</td>\n",
       "      <td>0.30</td>\n",
       "    </tr>\n",
       "    <tr>\n",
       "      <th>7066</th>\n",
       "      <td>madden nfl 13</td>\n",
       "      <td>wiiu</td>\n",
       "      <td>2012</td>\n",
       "      <td>Sports</td>\n",
       "      <td>0.21</td>\n",
       "      <td>0.00</td>\n",
       "      <td>0.0</td>\n",
       "      <td>0.02</td>\n",
       "      <td>75.0</td>\n",
       "      <td>6.7</td>\n",
       "      <td>E</td>\n",
       "      <td>0.23</td>\n",
       "    </tr>\n",
       "  </tbody>\n",
       "</table>\n",
       "</div>"
      ],
      "text/plain": [
       "               name platform  year   genre  na_sales  eu_sales  jp_sales  \\\n",
       "507   madden nfl 13     x360  2012  Sports      2.53      0.15       0.0   \n",
       "604   madden nfl 13      ps3  2012  Sports      2.11      0.22       0.0   \n",
       "3986  madden nfl 13      wii  2012  Sports      0.47      0.00       0.0   \n",
       "5887  madden nfl 13      psv  2012  Sports      0.28      0.00       0.0   \n",
       "7066  madden nfl 13     wiiu  2012  Sports      0.21      0.00       0.0   \n",
       "\n",
       "      other_sales  critic_score user_score rating  sum_sales  \n",
       "507          0.17          81.0        5.8      E       2.85  \n",
       "604          0.23          83.0        5.5      E       2.56  \n",
       "3986         0.03           NaN        7.3      E       0.50  \n",
       "5887         0.02          63.0        7.3      E       0.30  \n",
       "7066         0.02          75.0        6.7      E       0.23  "
      ]
     },
     "execution_count": 11,
     "metadata": {},
     "output_type": "execute_result"
    }
   ],
   "source": [
    "df = df.drop(labels = [16230],axis = 0)\n",
    "df[df['name'] == 'madden nfl 13']"
   ]
  },
  {
   "cell_type": "markdown",
   "metadata": {},
   "source": [
    "По итогам предобработки данных было сделано:\n",
    "\n",
    "1. Все данные были приведены к нижнему регистру.\n",
    "2. Удалены строки, где отсутствуют данные по году выпуска, оценкам критиков, пользователей и рейтингу, а так же названия игр.\n",
    "3. Было расшифровано значение tbd - отсутствие данных об оценках пользователей. Такие данные были удалены.\n",
    "4. Были выявлены неявные дубликаты - игра 'madden nfl 13' на платформе ps3. Данный дубликат был удален из данных.\n",
    "5. Явных дубликатов не было найдено."
   ]
  },
  {
   "cell_type": "markdown",
   "metadata": {},
   "source": [
    "### Исследовательский анализ данных\n"
   ]
  },
  {
   "cell_type": "code",
   "execution_count": 12,
   "metadata": {},
   "outputs": [
    {
     "data": {
      "image/png": "[encoded data removed]",
      "text/plain": [
       "<Figure size 720x360 with 1 Axes>"
      ]
     },
     "metadata": {
      "needs_background": "light"
     },
     "output_type": "display_data"
    }
   ],
   "source": [
    "pivot_game = df\\\n",
    ".pivot_table(index=['year'], values=['name'], aggfunc='count')\\\n",
    ".sort_values(by='year', ascending=True)\n",
    "pivot_game.plot(kind = 'bar', y = 'name', figsize = (10,5)) .set(title='Количественное распределение по годам');\n",
    "plt.xlabel('Год');\n",
    "plt.ylabel('Копии, млн');"
   ]
  },
  {
   "cell_type": "markdown",
   "metadata": {},
   "source": [
    "Пик игровой индустрии приходился на конец первого десятилетия. График распределения подходит под формат нормального распределения с выбросами в начале 00-ых.Естественно, что рынок видеоигр очень гибок и изменчив: то, что было популярно в 90-ых, 00-ых, 10-ых очень сильно отличается. В связи с чем, я бы предположил, что нас должны интересовать данные за последние 10 лет. \n",
    "\n",
    "Для более наглядного анализа исключим платформы, на которые было продано менее 50 млн копий. Также избавимся от платформ, которые были уже давно забыты. Я бы проверил, когда на рынок вышли актуальные на прогнозируемый год консоли. "
   ]
  },
  {
   "cell_type": "code",
   "execution_count": 13,
   "metadata": {},
   "outputs": [
    {
     "name": "stdout",
     "output_type": "stream",
     "text": [
      "platform\n",
      "ps2     1233.56\n",
      "x360     961.24\n",
      "ps3      931.33\n",
      "wii      891.18\n",
      "ds       802.78\n",
      "ps       727.58\n",
      "ps4      314.14\n",
      "gba      312.88\n",
      "psp      289.53\n",
      "3ds      257.81\n",
      "pc       255.76\n",
      "gb       254.43\n",
      "xb       251.57\n",
      "nes      251.05\n",
      "n64      218.01\n",
      "snes     200.04\n",
      "gc       196.73\n",
      "xone     159.32\n",
      "2600      86.48\n",
      "wiiu      82.19\n",
      "psv       53.81\n",
      "sat       33.59\n",
      "gen       28.35\n",
      "dc        15.95\n",
      "scd        1.86\n",
      "ng         1.44\n",
      "ws         1.42\n",
      "tg16       0.16\n",
      "3do        0.10\n",
      "gg         0.04\n",
      "pcfx       0.03\n",
      "Name: sum_sales, dtype: float64\n",
      "platform    3ds     ds    gba     gc     pc    ps2    ps3    ps4    psp  \\\n",
      "year                                                                      \n",
      "1985        NaN    1.0    NaN    NaN    1.0    NaN    NaN    NaN    NaN   \n",
      "1988        NaN    NaN    NaN    NaN    1.0    NaN    NaN    NaN    NaN   \n",
      "1992        NaN    NaN    NaN    NaN    5.0    NaN    NaN    NaN    NaN   \n",
      "1994        NaN    NaN    NaN    NaN    6.0    NaN    NaN    NaN    NaN   \n",
      "1995        NaN    NaN    NaN    NaN    2.0    NaN    NaN    NaN    NaN   \n",
      "1996        NaN    NaN    NaN    NaN    4.0    NaN    NaN    NaN    NaN   \n",
      "1997        NaN    NaN    NaN    NaN    6.0    NaN    NaN    NaN    NaN   \n",
      "1998        NaN    NaN    NaN    NaN    8.0    NaN    NaN    NaN    NaN   \n",
      "1999        NaN    NaN    NaN    NaN    7.0    NaN    NaN    NaN    NaN   \n",
      "2000        NaN    NaN    1.0    NaN    7.0   82.0    NaN    NaN    NaN   \n",
      "2001        NaN    NaN  107.0   22.0   15.0  185.0    NaN    NaN    NaN   \n",
      "2002        NaN    NaN  198.0  152.0   19.0  280.0    NaN    NaN    NaN   \n",
      "2003        NaN    NaN  150.0  144.0   33.0  256.0    NaN    NaN    NaN   \n",
      "2004        NaN   23.0  175.0   83.0   30.0  259.0    NaN    NaN   15.0   \n",
      "2005        NaN  118.0  135.0   97.0   37.0  260.0    NaN    NaN   95.0   \n",
      "2006        NaN  201.0   39.0   40.0   52.0  259.0   27.0    NaN  189.0   \n",
      "2007        NaN  376.0    6.0    4.0   62.0  214.0   90.0    NaN  133.0   \n",
      "2008        NaN  492.0    NaN    NaN   76.0  191.0  138.0    NaN  100.0   \n",
      "2009        NaN  403.0    NaN    NaN  107.0   96.0  162.0    NaN  161.0   \n",
      "2010        NaN  323.0    NaN    NaN   90.0   38.0  181.0    NaN  188.0   \n",
      "2011      116.0  153.0    NaN    NaN  139.0    7.0  215.0    NaN  139.0   \n",
      "2012       93.0   23.0    NaN    NaN   61.0    NaN  147.0    NaN  106.0   \n",
      "2013       91.0    8.0    NaN    NaN   38.0    NaN  126.0   16.0   54.0   \n",
      "2014       80.0    NaN    NaN    NaN   47.0    NaN  108.0   75.0   10.0   \n",
      "2015       86.0    NaN    NaN    NaN   50.0    NaN   73.0  137.0    3.0   \n",
      "2016       46.0    NaN    NaN    NaN   54.0    NaN   38.0  164.0    NaN   \n",
      "\n",
      "platform    psv    wii  wiiu   x360  xone  \n",
      "year                                       \n",
      "1985        NaN    NaN   NaN    NaN   NaN  \n",
      "1988        NaN    NaN   NaN    NaN   NaN  \n",
      "1992        NaN    NaN   NaN    NaN   NaN  \n",
      "1994        NaN    NaN   NaN    NaN   NaN  \n",
      "1995        NaN    NaN   NaN    NaN   NaN  \n",
      "1996        NaN    NaN   NaN    NaN   NaN  \n",
      "1997        NaN    NaN   NaN    NaN   NaN  \n",
      "1998        NaN    NaN   NaN    NaN   NaN  \n",
      "1999        NaN    NaN   NaN    NaN   NaN  \n",
      "2000        NaN    NaN   NaN    NaN   NaN  \n",
      "2001        NaN    NaN   NaN    NaN   NaN  \n",
      "2002        NaN    NaN   NaN    NaN   NaN  \n",
      "2003        NaN    NaN   NaN    NaN   NaN  \n",
      "2004        NaN    NaN   NaN    NaN   NaN  \n",
      "2005        NaN    NaN   NaN   18.0   NaN  \n",
      "2006        NaN   44.0   NaN   93.0   NaN  \n",
      "2007        NaN  185.0   NaN  123.0   NaN  \n",
      "2008        NaN  282.0   NaN  146.0   NaN  \n",
      "2009        NaN  325.0   NaN  172.0   NaN  \n",
      "2010        NaN  253.0   NaN  182.0   NaN  \n",
      "2011       18.0  143.0   NaN  206.0   NaN  \n",
      "2012       53.0   31.0  32.0  106.0   NaN  \n",
      "2013       63.0   12.0  42.0   75.0  19.0  \n",
      "2014      100.0    6.0  31.0   63.0  61.0  \n",
      "2015      110.0    4.0  28.0   35.0  80.0  \n",
      "2016       85.0    1.0  14.0   13.0  87.0  \n"
     ]
    },
    {
     "data": {
      "image/png": "[encoded data removed]",
      "text/plain": [
       "<Figure size 432x288 with 2 Axes>"
      ]
     },
     "metadata": {
      "needs_background": "light"
     },
     "output_type": "display_data"
    }
   ],
   "source": [
    "top_category = df.groupby('platform')['sum_sales'].sum().sort_values(ascending = False)\n",
    "print(top_category)\n",
    "top_category = df.query(' platform not in (\"sat\", \"gen\", \"dc\", \"scd\", \"ng\", \"ws\", \"tg16\", \"3do\", \"gg\", \"pcfx\", \"2600\", \"gb\", \"n64\", \"nes\", \"ps\", \"snes\", \"xb\" )')\n",
    "pivot_platform = pd.pivot_table(index = 'year', columns = 'platform',\n",
    "                                values = 'name', data = top_category, \n",
    "                                aggfunc = 'count')\n",
    "print(pivot_platform)\n",
    "sns.heatmap(pivot_platform, vmin= 0, vmax= 100, center= 0);"
   ]
  },
  {
   "cell_type": "code",
   "execution_count": 14,
   "metadata": {},
   "outputs": [
    {
     "data": {
      "text/html": [
       "<div>\n",
       "<style scoped>\n",
       "    .dataframe tbody tr th:only-of-type {\n",
       "        vertical-align: middle;\n",
       "    }\n",
       "\n",
       "    .dataframe tbody tr th {\n",
       "        vertical-align: top;\n",
       "    }\n",
       "\n",
       "    .dataframe thead th {\n",
       "        text-align: right;\n",
       "    }\n",
       "</style>\n",
       "<table border=\"1\" class=\"dataframe\">\n",
       "  <thead>\n",
       "    <tr style=\"text-align: right;\">\n",
       "      <th></th>\n",
       "      <th>name</th>\n",
       "      <th>platform</th>\n",
       "      <th>year</th>\n",
       "      <th>genre</th>\n",
       "      <th>na_sales</th>\n",
       "      <th>eu_sales</th>\n",
       "      <th>jp_sales</th>\n",
       "      <th>other_sales</th>\n",
       "      <th>critic_score</th>\n",
       "      <th>user_score</th>\n",
       "      <th>rating</th>\n",
       "      <th>sum_sales</th>\n",
       "    </tr>\n",
       "  </thead>\n",
       "  <tbody>\n",
       "    <tr>\n",
       "      <th>15957</th>\n",
       "      <td>strongest tokyo university shogi ds</td>\n",
       "      <td>ds</td>\n",
       "      <td>1985</td>\n",
       "      <td>Action</td>\n",
       "      <td>0.00</td>\n",
       "      <td>0.00</td>\n",
       "      <td>0.02</td>\n",
       "      <td>0.00</td>\n",
       "      <td>NaN</td>\n",
       "      <td>NaN</td>\n",
       "      <td>NaN</td>\n",
       "      <td>0.02</td>\n",
       "    </tr>\n",
       "    <tr>\n",
       "      <th>13463</th>\n",
       "      <td>cocoto kart racer</td>\n",
       "      <td>ds</td>\n",
       "      <td>2004</td>\n",
       "      <td>Racing</td>\n",
       "      <td>0.04</td>\n",
       "      <td>0.00</td>\n",
       "      <td>0.00</td>\n",
       "      <td>0.00</td>\n",
       "      <td>NaN</td>\n",
       "      <td>NaN</td>\n",
       "      <td>E</td>\n",
       "      <td>0.04</td>\n",
       "    </tr>\n",
       "    <tr>\n",
       "      <th>11517</th>\n",
       "      <td>kenshuui tendo dokuta</td>\n",
       "      <td>ds</td>\n",
       "      <td>2004</td>\n",
       "      <td>Simulation</td>\n",
       "      <td>0.00</td>\n",
       "      <td>0.00</td>\n",
       "      <td>0.08</td>\n",
       "      <td>0.00</td>\n",
       "      <td>NaN</td>\n",
       "      <td>NaN</td>\n",
       "      <td>NaN</td>\n",
       "      <td>0.08</td>\n",
       "    </tr>\n",
       "    <tr>\n",
       "      <th>4421</th>\n",
       "      <td>the urbz: sims in the city (all regions sales)</td>\n",
       "      <td>ds</td>\n",
       "      <td>2004</td>\n",
       "      <td>Simulation</td>\n",
       "      <td>0.40</td>\n",
       "      <td>0.01</td>\n",
       "      <td>0.02</td>\n",
       "      <td>0.00</td>\n",
       "      <td>NaN</td>\n",
       "      <td>NaN</td>\n",
       "      <td>NaN</td>\n",
       "      <td>0.43</td>\n",
       "    </tr>\n",
       "    <tr>\n",
       "      <th>7902</th>\n",
       "      <td>daigasso! band brothers</td>\n",
       "      <td>ds</td>\n",
       "      <td>2004</td>\n",
       "      <td>Misc</td>\n",
       "      <td>0.00</td>\n",
       "      <td>0.00</td>\n",
       "      <td>0.19</td>\n",
       "      <td>0.00</td>\n",
       "      <td>NaN</td>\n",
       "      <td>NaN</td>\n",
       "      <td>NaN</td>\n",
       "      <td>0.19</td>\n",
       "    </tr>\n",
       "    <tr>\n",
       "      <th>...</th>\n",
       "      <td>...</td>\n",
       "      <td>...</td>\n",
       "      <td>...</td>\n",
       "      <td>...</td>\n",
       "      <td>...</td>\n",
       "      <td>...</td>\n",
       "      <td>...</td>\n",
       "      <td>...</td>\n",
       "      <td>...</td>\n",
       "      <td>...</td>\n",
       "      <td>...</td>\n",
       "      <td>...</td>\n",
       "    </tr>\n",
       "    <tr>\n",
       "      <th>7460</th>\n",
       "      <td>disney's planes</td>\n",
       "      <td>ds</td>\n",
       "      <td>2013</td>\n",
       "      <td>Simulation</td>\n",
       "      <td>0.11</td>\n",
       "      <td>0.08</td>\n",
       "      <td>0.00</td>\n",
       "      <td>0.02</td>\n",
       "      <td>NaN</td>\n",
       "      <td>NaN</td>\n",
       "      <td>E</td>\n",
       "      <td>0.21</td>\n",
       "    </tr>\n",
       "    <tr>\n",
       "      <th>14716</th>\n",
       "      <td>lego legends of chima: laval's journey</td>\n",
       "      <td>ds</td>\n",
       "      <td>2013</td>\n",
       "      <td>Adventure</td>\n",
       "      <td>0.00</td>\n",
       "      <td>0.03</td>\n",
       "      <td>0.00</td>\n",
       "      <td>0.00</td>\n",
       "      <td>NaN</td>\n",
       "      <td>NaN</td>\n",
       "      <td>E10+</td>\n",
       "      <td>0.03</td>\n",
       "    </tr>\n",
       "    <tr>\n",
       "      <th>7993</th>\n",
       "      <td>the smurfs 2</td>\n",
       "      <td>ds</td>\n",
       "      <td>2013</td>\n",
       "      <td>Platform</td>\n",
       "      <td>0.00</td>\n",
       "      <td>0.17</td>\n",
       "      <td>0.00</td>\n",
       "      <td>0.01</td>\n",
       "      <td>NaN</td>\n",
       "      <td>NaN</td>\n",
       "      <td>E</td>\n",
       "      <td>0.18</td>\n",
       "    </tr>\n",
       "    <tr>\n",
       "      <th>3862</th>\n",
       "      <td>frozen: olaf's quest</td>\n",
       "      <td>ds</td>\n",
       "      <td>2013</td>\n",
       "      <td>Platform</td>\n",
       "      <td>0.21</td>\n",
       "      <td>0.26</td>\n",
       "      <td>0.00</td>\n",
       "      <td>0.04</td>\n",
       "      <td>NaN</td>\n",
       "      <td>NaN</td>\n",
       "      <td>NaN</td>\n",
       "      <td>0.51</td>\n",
       "    </tr>\n",
       "    <tr>\n",
       "      <th>5054</th>\n",
       "      <td>lego marvel super heroes</td>\n",
       "      <td>ds</td>\n",
       "      <td>2013</td>\n",
       "      <td>Action</td>\n",
       "      <td>0.22</td>\n",
       "      <td>0.13</td>\n",
       "      <td>0.00</td>\n",
       "      <td>0.03</td>\n",
       "      <td>NaN</td>\n",
       "      <td>4.8</td>\n",
       "      <td>E10+</td>\n",
       "      <td>0.38</td>\n",
       "    </tr>\n",
       "  </tbody>\n",
       "</table>\n",
       "<p>2121 rows × 12 columns</p>\n",
       "</div>"
      ],
      "text/plain": [
       "                                                 name platform  year  \\\n",
       "15957             strongest tokyo university shogi ds       ds  1985   \n",
       "13463                               cocoto kart racer       ds  2004   \n",
       "11517                           kenshuui tendo dokuta       ds  2004   \n",
       "4421   the urbz: sims in the city (all regions sales)       ds  2004   \n",
       "7902                          daigasso! band brothers       ds  2004   \n",
       "...                                               ...      ...   ...   \n",
       "7460                                  disney's planes       ds  2013   \n",
       "14716          lego legends of chima: laval's journey       ds  2013   \n",
       "7993                                     the smurfs 2       ds  2013   \n",
       "3862                             frozen: olaf's quest       ds  2013   \n",
       "5054                         lego marvel super heroes       ds  2013   \n",
       "\n",
       "            genre  na_sales  eu_sales  jp_sales  other_sales  critic_score  \\\n",
       "15957      Action      0.00      0.00      0.02         0.00           NaN   \n",
       "13463      Racing      0.04      0.00      0.00         0.00           NaN   \n",
       "11517  Simulation      0.00      0.00      0.08         0.00           NaN   \n",
       "4421   Simulation      0.40      0.01      0.02         0.00           NaN   \n",
       "7902         Misc      0.00      0.00      0.19         0.00           NaN   \n",
       "...           ...       ...       ...       ...          ...           ...   \n",
       "7460   Simulation      0.11      0.08      0.00         0.02           NaN   \n",
       "14716   Adventure      0.00      0.03      0.00         0.00           NaN   \n",
       "7993     Platform      0.00      0.17      0.00         0.01           NaN   \n",
       "3862     Platform      0.21      0.26      0.00         0.04           NaN   \n",
       "5054       Action      0.22      0.13      0.00         0.03           NaN   \n",
       "\n",
       "      user_score rating  sum_sales  \n",
       "15957        NaN    NaN       0.02  \n",
       "13463        NaN      E       0.04  \n",
       "11517        NaN    NaN       0.08  \n",
       "4421         NaN    NaN       0.43  \n",
       "7902         NaN    NaN       0.19  \n",
       "...          ...    ...        ...  \n",
       "7460         NaN      E       0.21  \n",
       "14716        NaN   E10+       0.03  \n",
       "7993         NaN      E       0.18  \n",
       "3862         NaN    NaN       0.51  \n",
       "5054         4.8   E10+       0.38  \n",
       "\n",
       "[2121 rows x 12 columns]"
      ]
     },
     "execution_count": 14,
     "metadata": {},
     "output_type": "execute_result"
    }
   ],
   "source": [
    "top_category[top_category['platform'] == 'ds'].sort_values(by = 'year')"
   ]
  },
  {
   "cell_type": "markdown",
   "metadata": {},
   "source": [
    "Погуглив данную игру, было выяснено, что это ошибка при вводе даты, так как релиз данной игры для платформы состоялся в 2007 году. Внесем правки."
   ]
  },
  {
   "cell_type": "code",
   "execution_count": 15,
   "metadata": {},
   "outputs": [
    {
     "name": "stderr",
     "output_type": "stream",
     "text": [
      "/opt/conda/lib/python3.9/site-packages/pandas/core/indexing.py:1720: SettingWithCopyWarning: \n",
      "A value is trying to be set on a copy of a slice from a DataFrame.\n",
      "Try using .loc[row_indexer,col_indexer] = value instead\n",
      "\n",
      "See the caveats in the documentation: https://pandas.pydata.org/pandas-docs/stable/user_guide/indexing.html#returning-a-view-versus-a-copy\n",
      "  self._setitem_single_column(loc, value, pi)\n"
     ]
    },
    {
     "data": {
      "image/png": "[encoded data removed]",
      "text/plain": [
       "<Figure size 432x288 with 2 Axes>"
      ]
     },
     "metadata": {
      "needs_background": "light"
     },
     "output_type": "display_data"
    }
   ],
   "source": [
    "top_category = df.groupby('platform')['sum_sales'].sum().sort_values(ascending = False)\n",
    "top_category = df.query(' platform not in (\"sat\", \"gen\", \"dc\", \"scd\", \"ng\", \"ws\", \"tg16\", \"3do\", \"gg\", \"pcfx\", \"2600\", \"gb\", \"n64\", \"nes\", \"ps\", \"snes\", \"xb\" )')\n",
    "top_category.loc[15957, 'year'] = 2005\n",
    "pivot_platform = pd.pivot_table(index = 'year', columns = 'platform',\n",
    "                                values = 'name', data = top_category, \n",
    "                                aggfunc = 'count')\n",
    "plt.title('Heatmap продаж игр по платформам в разрезе даты выхода')\n",
    "plt.xlabel('year')\n",
    "plt.ylabel('platform')\n",
    "sns.heatmap(pivot_platform, vmin= 0, vmax= 100, center= 0);"
   ]
  },
  {
   "cell_type": "markdown",
   "metadata": {},
   "source": [
    "После повторного вывода тепловой диаграммы, можем видеть приятную картину: все платформы != pc - имеют игры с релизом от 00-ых."
   ]
  },
  {
   "cell_type": "code",
   "execution_count": 16,
   "metadata": {},
   "outputs": [
    {
     "data": {
      "text/plain": [
       "['ps2', 'x360', 'ps3', 'wii', 'ds', 'ps4', 'gba']"
      ]
     },
     "execution_count": 16,
     "metadata": {},
     "output_type": "execute_result"
    }
   ],
   "source": [
    "top7 = top_category.pivot_table(index='platform', values='sum_sales', aggfunc='sum').nlargest(7, 'sum_sales')\n",
    "top7 = list(top7.index)\n",
    "top7"
   ]
  },
  {
   "cell_type": "code",
   "execution_count": 17,
   "metadata": {},
   "outputs": [
    {
     "data": {
      "image/png": "[encoded data removed]",
      "text/plain": [
       "<Figure size 720x360 with 1 Axes>"
      ]
     },
     "metadata": {
      "needs_background": "light"
     },
     "output_type": "display_data"
    }
   ],
   "source": [
    "top_sales = pd.pivot_table(index='year', columns='platform', values='sum_sales',data = top_category , aggfunc='sum')\n",
    "top7 = top_sales.loc[:, ['ps2', 'x360', 'wii', 'ps3', 'ds', 'gba', 'ps4']]\n",
    "plt.figure(figsize=(10,5))\n",
    "sns.lineplot(data = top7, linewidth = 5, dashes=False)\n",
    "plt.title('Платформы с наибольшими продажами')\n",
    "plt.xlabel('Год')\n",
    "plt.ylabel('Копии, млн')\n",
    "plt.legend(loc='upper left', fontsize=10)\n",
    "plt.show()"
   ]
  },
  {
   "cell_type": "markdown",
   "metadata": {},
   "source": [
    "В каждый период времени были свои популярные платформы. Нопопулярность постоянно переходила от одной к другой платформе. Я бы сказал, что \"жизненный цикл\" платформы, в среднем, 5 лет. Эта цифра зависит от силы бренда. Так же, отныне, будем считать период 2012-2016 - актуальный период исследований для анализа и прогнозирования.\n",
    "\n"
   ]
  },
  {
   "cell_type": "code",
   "execution_count": 18,
   "metadata": {},
   "outputs": [
    {
     "data": {
      "image/png": "[encoded data removed]",
      "text/plain": [
       "<Figure size 1440x720 with 1 Axes>"
      ]
     },
     "metadata": {
      "needs_background": "light"
     },
     "output_type": "display_data"
    }
   ],
   "source": [
    "df2 = df[df['year'] > 2011].reset_index(drop = True)\n",
    "top_sales = pd.pivot_table(index='year', columns='platform', values='sum_sales',data = df2 , aggfunc='sum')\n",
    "top7 = top_sales.loc[:, [ 'x360', 'wii', 'ps3', 'ds', '3ds', 'ps4', 'xone']]\n",
    "plt.figure(figsize=(20,10))\n",
    "sns.lineplot(data = top7, linewidth = 5, dashes=False)\n",
    "plt.title('Платформы с наибольшими продажами')\n",
    "plt.xlabel('Год')\n",
    "plt.ylabel('Копии, млн')\n",
    "plt.legend(loc='upper left', fontsize=20)\n",
    "plt.show()"
   ]
  },
  {
   "cell_type": "markdown",
   "metadata": {},
   "source": [
    "Какие платформы лидируют по продажам, растут или падают? Выберите несколько потенциально прибыльных платформ."
   ]
  },
  {
   "cell_type": "markdown",
   "metadata": {},
   "source": [
    "Сразу бы высказал мысль, что прибыльность платформ в штуках измерять крайне странно. Но предположим, что стоимость игр на всех платформах +- равная. Заметим, что к 2016 году платформы начинают терять свою актуальность. Но на рынке появляются платформы нового поколения (ps4, xone). На данном этапе проблематично определить наиболее прибыльные платформы, так как выбранный период является закатом одной эры платформ и началом другой эры. Таким образом, для прогнозируемого 2017 года актуальными платформами для анализа являются xone и ps4. Именно эти платформы лидируют по продажам ближе к актуальному году и прогнозируемому году."
   ]
  },
  {
   "cell_type": "code",
   "execution_count": 19,
   "metadata": {
    "scrolled": false
   },
   "outputs": [
    {
     "data": {
      "image/png": "[encoded data removed]",
      "text/plain": [
       "<Figure size 576x576 with 1 Axes>"
      ]
     },
     "metadata": {
      "needs_background": "light"
     },
     "output_type": "display_data"
    }
   ],
   "source": [
    "sns.catplot(x=\"platform\", \n",
    "            y='sum_sales', \n",
    "            kind=\"box\", \n",
    "            data=df2, \n",
    "            height=8)\n",
    "plt.title('Объемы продаж за 2012-2016 г. по платформам')\n",
    "plt.xlabel('Платформа')\n",
    "plt.ylabel('Реализованные копии, млн');"
   ]
  },
  {
   "cell_type": "code",
   "execution_count": 20,
   "metadata": {},
   "outputs": [
    {
     "data": {
      "text/plain": [
       "(0.0, 4.0)"
      ]
     },
     "execution_count": 20,
     "metadata": {},
     "output_type": "execute_result"
    },
    {
     "data": {
      "image/png": "[encoded data removed]",
      "text/plain": [
       "<Figure size 576x576 with 1 Axes>"
      ]
     },
     "metadata": {
      "needs_background": "light"
     },
     "output_type": "display_data"
    }
   ],
   "source": [
    "sns.catplot(x=\"platform\", \n",
    "            y='sum_sales', \n",
    "            kind=\"box\", \n",
    "            data=df2, \n",
    "            height=8)\n",
    "plt.title('Объемы продаж за 2012-2016 г. по платформам')\n",
    "plt.xlabel('Платформа')\n",
    "plt.ylabel('Реализованные копии, млн')\n",
    "plt.ylim(0, 4)"
   ]
  },
  {
   "cell_type": "markdown",
   "metadata": {},
   "source": [
    "Большинство продаж по платформам не достигают миллиона копий, но существуют проекты, продажи которых достигают миллионов проданных копий. "
   ]
  },
  {
   "cell_type": "code",
   "execution_count": 21,
   "metadata": {},
   "outputs": [
    {
     "data": {
      "image/png": "[encoded data removed]",
      "text/plain": [
       "<Figure size 1440x720 with 1 Axes>"
      ]
     },
     "metadata": {
      "needs_background": "light"
     },
     "output_type": "display_data"
    },
    {
     "data": {
      "text/plain": [
       "-0.03195711020455646"
      ]
     },
     "execution_count": 21,
     "metadata": {},
     "output_type": "execute_result"
    }
   ],
   "source": [
    "ps_4 = df2.dropna(subset = ['user_score'])\n",
    "ps_4 = ps_4.query('platform == \"ps4\" & user_score != \"nan\"').sort_values(by = 'user_score')\n",
    "ps_4.plot (kind = 'scatter', x = 'user_score', y = 'sum_sales', figsize = (20, 10), alpha = 0.5);\n",
    "plt.ylim(0, 6)\n",
    "plt.title('Диаграмма рассеяния PS4 реализованных игр по оценкам пользователей')\n",
    "plt.xlabel('Оценка')\n",
    "plt.ylabel('Миллоны копий')\n",
    "plt.show()\n",
    "ps_4['user_score'] = ps_4['user_score'].astype(float)\n",
    "ps_4['user_score'].corr(ps_4['sum_sales'])"
   ]
  },
  {
   "cell_type": "markdown",
   "metadata": {},
   "source": [
    "Посмотрите, как влияют на продажи внутри одной популярной платформы отзывы пользователей и критиков. Постройте диаграмму рассеяния и посчитайте корреляцию между отзывами и продажами. Сформулируйте выводы."
   ]
  },
  {
   "cell_type": "markdown",
   "metadata": {},
   "source": [
    "Удивительно, но связи между оценками пользователей и количеством проданных копий на платформе ps_4 нет. Игры с низким рейтингом продаются миллионами, в то время как игры с высоким рейтингом все меньше продаются."
   ]
  },
  {
   "cell_type": "code",
   "execution_count": 22,
   "metadata": {},
   "outputs": [
    {
     "data": {
      "image/png": "[encoded data removed]",
      "text/plain": [
       "<Figure size 1440x720 with 1 Axes>"
      ]
     },
     "metadata": {
      "needs_background": "light"
     },
     "output_type": "display_data"
    },
    {
     "data": {
      "text/plain": [
       "0.40656790206178167"
      ]
     },
     "execution_count": 22,
     "metadata": {},
     "output_type": "execute_result"
    }
   ],
   "source": [
    "ps_4 = df2.query('platform == \"ps4\"').sort_values(by = 'critic_score')\n",
    "ps_4 = ps_4[ps_4['critic_score'] != 'tbd']\n",
    "ps_4.plot.scatter (x = 'critic_score', y = 'sum_sales', figsize = (20, 10), alpha = 0.5);\n",
    "plt.ylim(0, 6)\n",
    "plt.title('Диаграмма рассеяния PS4 реализованных игр по оценкам критиков')\n",
    "plt.xlabel('Оценка')\n",
    "plt.ylabel('Миллоны копий')\n",
    "plt.show()\n",
    "ps_4['critic_score'] = ps_4['critic_score'].astype(float)\n",
    "ps_4['critic_score'].corr(ps_4['sum_sales'])"
   ]
  },
  {
   "cell_type": "markdown",
   "metadata": {},
   "source": [
    "Оценка критиков коррелирует с объемами продаж. Нельзя утверждать, что связь значимая (коэффициент корреляции - 0.4), но, визуально, на диаграмме рассеяния явно видно, что объемы продаж имеют тенденцию к росту на оценке 60-90. "
   ]
  },
  {
   "cell_type": "markdown",
   "metadata": {},
   "source": [
    "Предположу, что оценки пользователей формируются уже после покупки и прохождения игры. Это логично, ведь рядовой пользователь не может объективно судить игру до ее выхода. Как раз таки критики получают доступ к играм заранее и до начала продаж могут выставить оценки. Для сравнения возьмем платформу - конкурента - xone."
   ]
  },
  {
   "cell_type": "code",
   "execution_count": 23,
   "metadata": {},
   "outputs": [
    {
     "data": {
      "image/png": "[encoded data removed]",
      "text/plain": [
       "<Figure size 1440x720 with 1 Axes>"
      ]
     },
     "metadata": {
      "needs_background": "light"
     },
     "output_type": "display_data"
    },
    {
     "data": {
      "text/plain": [
       "-0.06892505328279418"
      ]
     },
     "execution_count": 23,
     "metadata": {},
     "output_type": "execute_result"
    }
   ],
   "source": [
    "xone = df2.dropna(subset = ['user_score'])\n",
    "xone = xone.query('platform == \"xone\" & user_score != \"nan\"').sort_values(by = 'user_score')\n",
    "xone.plot.scatter (x = 'user_score', y = 'sum_sales', figsize = (20, 10), alpha = 0.5);\n",
    "plt.ylim(0, 10)\n",
    "plt.title('Диаграмма рассеяния Xone реализованных игр по оценкам пользователей')\n",
    "plt.xlabel('Оценка')\n",
    "plt.ylabel('Миллоны копий')\n",
    "plt.show()\n",
    "xone['user_score'] = xone['user_score'].astype(float)\n",
    "xone['user_score'].corr(xone['sum_sales'])"
   ]
  },
  {
   "cell_type": "markdown",
   "metadata": {},
   "source": [
    "Аналогичная ситуация с оценками пользователей по продажам игр на xone. Какая-либо связь отсутствует."
   ]
  },
  {
   "cell_type": "code",
   "execution_count": 24,
   "metadata": {},
   "outputs": [
    {
     "data": {
      "image/png": "[encoded data removed]",
      "text/plain": [
       "<Figure size 1440x720 with 1 Axes>"
      ]
     },
     "metadata": {
      "needs_background": "light"
     },
     "output_type": "display_data"
    },
    {
     "data": {
      "text/plain": [
       "0.41042203561296375"
      ]
     },
     "execution_count": 24,
     "metadata": {},
     "output_type": "execute_result"
    }
   ],
   "source": [
    "xone.plot.scatter (x = 'critic_score', y = 'sum_sales', figsize = (20, 10), alpha = 0.5);\n",
    "plt.ylim(0, 6)\n",
    "plt.title('Диаграмма рассеяния Xone реализованных игр по оценкам критиков')\n",
    "plt.xlabel('Оценка')\n",
    "plt.ylabel('Миллоны копий')\n",
    "plt.show()\n",
    "xone['critic_score'] = xone['critic_score'].astype(float)\n",
    "xone['critic_score'].corr(xone['sum_sales'])"
   ]
  },
  {
   "cell_type": "markdown",
   "metadata": {},
   "source": [
    "Аналогичная ситуация с оценками пользователей по продажам игр на xone. Слабая связь присутствует."
   ]
  },
  {
   "cell_type": "code",
   "execution_count": 25,
   "metadata": {},
   "outputs": [
    {
     "name": "stderr",
     "output_type": "stream",
     "text": [
      "/opt/conda/lib/python3.9/site-packages/numpy/lib/function_base.py:2683: RuntimeWarning: Degrees of freedom <= 0 for slice\n",
      "  c = cov(x, y, rowvar, dtype=dtype)\n",
      "/opt/conda/lib/python3.9/site-packages/numpy/lib/function_base.py:2542: RuntimeWarning: divide by zero encountered in true_divide\n",
      "  c *= np.true_divide(1, fact)\n"
     ]
    },
    {
     "data": {
      "text/html": [
       "<div>\n",
       "<style scoped>\n",
       "    .dataframe tbody tr th:only-of-type {\n",
       "        vertical-align: middle;\n",
       "    }\n",
       "\n",
       "    .dataframe tbody tr th {\n",
       "        vertical-align: top;\n",
       "    }\n",
       "\n",
       "    .dataframe thead th {\n",
       "        text-align: right;\n",
       "    }\n",
       "</style>\n",
       "<table border=\"1\" class=\"dataframe\">\n",
       "  <thead>\n",
       "    <tr style=\"text-align: right;\">\n",
       "      <th></th>\n",
       "      <th>Платформа</th>\n",
       "      <th>Корреляция игр по оценкам критиков</th>\n",
       "      <th>Корреляция игр по оценкам пользователей</th>\n",
       "    </tr>\n",
       "  </thead>\n",
       "  <tbody>\n",
       "    <tr>\n",
       "      <th>5</th>\n",
       "      <td>xone</td>\n",
       "      <td>0.416998</td>\n",
       "      <td>-0.068925</td>\n",
       "    </tr>\n",
       "    <tr>\n",
       "      <th>2</th>\n",
       "      <td>ps4</td>\n",
       "      <td>0.406568</td>\n",
       "      <td>-0.031957</td>\n",
       "    </tr>\n",
       "    <tr>\n",
       "      <th>1</th>\n",
       "      <td>x360</td>\n",
       "      <td>0.360573</td>\n",
       "      <td>0.006164</td>\n",
       "    </tr>\n",
       "    <tr>\n",
       "      <th>6</th>\n",
       "      <td>wiiu</td>\n",
       "      <td>0.348380</td>\n",
       "      <td>0.400219</td>\n",
       "    </tr>\n",
       "    <tr>\n",
       "      <th>0</th>\n",
       "      <td>ps3</td>\n",
       "      <td>0.334152</td>\n",
       "      <td>-0.006206</td>\n",
       "    </tr>\n",
       "    <tr>\n",
       "      <th>3</th>\n",
       "      <td>3ds</td>\n",
       "      <td>0.320803</td>\n",
       "      <td>0.197583</td>\n",
       "    </tr>\n",
       "    <tr>\n",
       "      <th>8</th>\n",
       "      <td>pc</td>\n",
       "      <td>0.237243</td>\n",
       "      <td>-0.121867</td>\n",
       "    </tr>\n",
       "    <tr>\n",
       "      <th>9</th>\n",
       "      <td>psv</td>\n",
       "      <td>0.094488</td>\n",
       "      <td>-0.004339</td>\n",
       "    </tr>\n",
       "    <tr>\n",
       "      <th>7</th>\n",
       "      <td>wii</td>\n",
       "      <td>-0.424341</td>\n",
       "      <td>0.296197</td>\n",
       "    </tr>\n",
       "    <tr>\n",
       "      <th>4</th>\n",
       "      <td>ds</td>\n",
       "      <td>NaN</td>\n",
       "      <td>0.882709</td>\n",
       "    </tr>\n",
       "    <tr>\n",
       "      <th>10</th>\n",
       "      <td>psp</td>\n",
       "      <td>NaN</td>\n",
       "      <td>-0.802302</td>\n",
       "    </tr>\n",
       "  </tbody>\n",
       "</table>\n",
       "</div>"
      ],
      "text/plain": [
       "   Платформа  Корреляция игр по оценкам критиков  \\\n",
       "5       xone                            0.416998   \n",
       "2        ps4                            0.406568   \n",
       "1       x360                            0.360573   \n",
       "6       wiiu                            0.348380   \n",
       "0        ps3                            0.334152   \n",
       "3        3ds                            0.320803   \n",
       "8         pc                            0.237243   \n",
       "9        psv                            0.094488   \n",
       "7        wii                           -0.424341   \n",
       "4         ds                                 NaN   \n",
       "10       psp                                 NaN   \n",
       "\n",
       "    Корреляция игр по оценкам пользователей  \n",
       "5                                 -0.068925  \n",
       "2                                 -0.031957  \n",
       "1                                  0.006164  \n",
       "6                                  0.400219  \n",
       "0                                 -0.006206  \n",
       "3                                  0.197583  \n",
       "8                                 -0.121867  \n",
       "9                                 -0.004339  \n",
       "7                                  0.296197  \n",
       "4                                  0.882709  \n",
       "10                                -0.802302  "
      ]
     },
     "execution_count": 25,
     "metadata": {},
     "output_type": "execute_result"
    }
   ],
   "source": [
    "df2['critic_score'] = df2['critic_score'].astype(float)\n",
    "df2['user_score'] = df2['user_score'].astype(float)\n",
    "platform = df2['platform'].unique()\n",
    "corr_critic = [df2[df2['platform'] == i]['critic_score'].corr(df2[df2['platform'] == i]['sum_sales']) for i in platform]\n",
    "corr_user = [df2[df2['platform'] == i]['user_score'].corr(df2[df2['platform'] == i]['sum_sales']) for i in platform]\n",
    "\n",
    "rev = {'Платформа': platform, 'Корреляция игр по оценкам критиков': corr_critic,\n",
    "      'Корреляция игр по оценкам пользователей': corr_user}\n",
    "rev_df = pd.DataFrame(rev)\n",
    "rev_df.sort_values(by = 'Корреляция игр по оценкам критиков', ascending = False)"
   ]
  },
  {
   "cell_type": "markdown",
   "metadata": {},
   "source": [
    "Заметим, что те платформы, которые нас интересуют в дальнейшем анализе, подтверждают гипотезу о том, что пользовательские оценки не так сильно помогают играм продаваться лучше, чем оценки критиков. Но есть 2 платформы: wiiu и 3ds. Оценки пользователей и критиков для данных платформ одинаково влияют на динамику продаж игр. Предположу, что данные платформы популярны лишь для определенного региона (Японии), где оценки выставляются иным образом. "
   ]
  },
  {
   "cell_type": "code",
   "execution_count": 26,
   "metadata": {},
   "outputs": [
    {
     "data": {
      "image/png": "[encoded data removed]",
      "text/plain": [
       "<Figure size 720x360 with 1 Axes>"
      ]
     },
     "metadata": {
      "needs_background": "light"
     },
     "output_type": "display_data"
    }
   ],
   "source": [
    "df2.pivot_table(index='genre', aggfunc={'sum_sales': 'median'}).sort_values(by='sum_sales', ascending=False).plot(y='sum_sales', kind='bar', figsize=(10, 5))\n",
    "plt.title('Диаграмма распределения медианного значения суммарных продаж по жанрам')\n",
    "plt.xlabel('Жанр')\n",
    "plt.ylabel('Медианное значение суммарных продаж');"
   ]
  },
  {
   "cell_type": "markdown",
   "metadata": {},
   "source": [
    "Наиболее популярным жанром является Shooter и Sports. Эти категории уверенно лидируют. Наименее популярными жанрами являются пазлы и адвенты."
   ]
  },
  {
   "cell_type": "markdown",
   "metadata": {},
   "source": [
    "### Портреты пользователей\n"
   ]
  },
  {
   "cell_type": "code",
   "execution_count": 27,
   "metadata": {},
   "outputs": [
    {
     "data": {
      "image/png": "[encoded data removed]",
      "text/plain": [
       "<Figure size 504x504 with 1 Axes>"
      ]
     },
     "metadata": {},
     "output_type": "display_data"
    }
   ],
   "source": [
    "na_df = df2.groupby('platform')['na_sales'].sum().sort_values(ascending = False).nlargest(5, keep = 'first')\n",
    "na_df.plot(kind='pie',y=\"na_sales\", autopct='%1.0f%%',\n",
    "           title = \"Популярность платформ в Северной Америке\", figsize=(7, 7));"
   ]
  },
  {
   "cell_type": "code",
   "execution_count": 28,
   "metadata": {
    "scrolled": true
   },
   "outputs": [
    {
     "data": {
      "image/png": "[encoded data removed]",
      "text/plain": [
       "<Figure size 504x504 with 1 Axes>"
      ]
     },
     "metadata": {},
     "output_type": "display_data"
    }
   ],
   "source": [
    "na_df = df2.groupby('genre')['na_sales'].sum().sort_values(ascending = False).nlargest(5, keep = 'first')\n",
    "na_df.plot(kind='pie',y=\"na_sales\", autopct='%1.0f%%', \n",
    "           title = \"Популярность жанров в Северной Америке\", figsize=(7, 7));"
   ]
  },
  {
   "cell_type": "code",
   "execution_count": 29,
   "metadata": {},
   "outputs": [
    {
     "data": {
      "image/png": "[encoded data removed]",
      "text/plain": [
       "<Figure size 504x504 with 1 Axes>"
      ]
     },
     "metadata": {},
     "output_type": "display_data"
    }
   ],
   "source": [
    "na_df = df2.groupby('rating')['na_sales'].sum().sort_values(ascending = False)\n",
    "na_df.plot(kind='pie',y=\"na_sales\", autopct='%1.00f%%', \n",
    "           title = \"Топ игр по рейтингу в Северной Америке\", figsize=(7, 7));"
   ]
  },
  {
   "cell_type": "markdown",
   "metadata": {},
   "source": [
    "Таким образом, типичный потребитель Северной Америки использует платформу x360, приобретая игры жанра экшн, возрастная категория которых М (17+ лет). На самом деле, данный портрет может быть искажен совсем недавним выходом новых платформ, которые численно еще на стали такими популярными, но, визуально, стремительный рост продаж игр на платформы нового поколения дает нам 99% уверенность, что альтернативным портретом является пользователь на платформе ps4, который играет в экшн игры и шутеры, рейтинг которых 17+ лет. Огромное количество значений 'tbd' в данных рэйтинга, по моему мнению, связано с появлением новых платформ и, как следствие, новых игр, которые еще не получили возрастного рейтинга."
   ]
  },
  {
   "cell_type": "markdown",
   "metadata": {},
   "source": [
    "#### EU"
   ]
  },
  {
   "cell_type": "code",
   "execution_count": 30,
   "metadata": {
    "scrolled": true
   },
   "outputs": [
    {
     "data": {
      "image/png": "[encoded data removed]",
      "text/plain": [
       "<Figure size 504x504 with 1 Axes>"
      ]
     },
     "metadata": {},
     "output_type": "display_data"
    }
   ],
   "source": [
    "eu_df = df2.groupby('platform')['eu_sales'].sum().sort_values(ascending = False).nlargest(5, keep = 'first')\n",
    "eu_df.plot(kind='pie',y=\"eu_sales\", autopct='%1.0f%%',\n",
    "           title = \"Популярность платформ в Европейском Союзе\", figsize=(7, 7));"
   ]
  },
  {
   "cell_type": "code",
   "execution_count": 31,
   "metadata": {},
   "outputs": [
    {
     "data": {
      "image/png": "[encoded data removed]",
      "text/plain": [
       "<Figure size 504x504 with 1 Axes>"
      ]
     },
     "metadata": {},
     "output_type": "display_data"
    }
   ],
   "source": [
    "eu_df = df2.groupby('genre')['eu_sales'].sum().sort_values(ascending = False).nlargest(5, keep = 'first')\n",
    "eu_df.plot(kind='pie',y=\"eu_sales\", autopct='%1.0f%%', \n",
    "           title = \"Популярность жанров в Европейском Союзе\", figsize=(7, 7));"
   ]
  },
  {
   "cell_type": "code",
   "execution_count": 32,
   "metadata": {
    "scrolled": true
   },
   "outputs": [
    {
     "data": {
      "image/png": "[encoded data removed]",
      "text/plain": [
       "<Figure size 504x504 with 1 Axes>"
      ]
     },
     "metadata": {},
     "output_type": "display_data"
    }
   ],
   "source": [
    "eu_df = df2.groupby('rating')['eu_sales'].sum().sort_values(ascending = False)\n",
    "eu_df.plot(kind='pie',y=\"eu_sales\", autopct='%1.00f%%', \n",
    "           title = \"Топ игр по рейтингу в Европейском Союзе\", figsize=(7, 7));"
   ]
  },
  {
   "cell_type": "markdown",
   "metadata": {},
   "source": [
    "Типичный потребитель Европейского Союза использует платформы компании Sony (ps3, ps4), приобретая игры жанра экшн и шутер, возрастная категория которых М (17+ лет)."
   ]
  },
  {
   "cell_type": "markdown",
   "metadata": {},
   "source": [
    "#### JP"
   ]
  },
  {
   "cell_type": "code",
   "execution_count": 33,
   "metadata": {
    "scrolled": true
   },
   "outputs": [
    {
     "data": {
      "image/png": "[encoded data removed]",
      "text/plain": [
       "<Figure size 504x504 with 1 Axes>"
      ]
     },
     "metadata": {},
     "output_type": "display_data"
    }
   ],
   "source": [
    "jp_df = df2.groupby('platform')['jp_sales'].sum().sort_values(ascending = False).nlargest(5, keep = 'first')\n",
    "jp_df.plot(kind='pie',y=\"jp_sales\", autopct='%1.0f%%',\n",
    "           title = \"Популярность платформ в Японии\", figsize=(7, 7));"
   ]
  },
  {
   "cell_type": "code",
   "execution_count": 34,
   "metadata": {},
   "outputs": [
    {
     "data": {
      "image/png": "[encoded data removed]",
      "text/plain": [
       "<Figure size 504x504 with 1 Axes>"
      ]
     },
     "metadata": {},
     "output_type": "display_data"
    }
   ],
   "source": [
    "jp_df = df2.groupby('genre')['jp_sales'].sum().sort_values(ascending = False).nlargest(5, keep = 'first')\n",
    "jp_df.plot(kind='pie',y=\"jp_sales\", autopct='%1.0f%%', \n",
    "           title = \"Популярность жанров в Японии\", figsize=(7, 7));"
   ]
  },
  {
   "cell_type": "code",
   "execution_count": 35,
   "metadata": {
    "scrolled": true
   },
   "outputs": [
    {
     "data": {
      "image/png": "[encoded data removed]",
      "text/plain": [
       "<Figure size 504x504 with 1 Axes>"
      ]
     },
     "metadata": {},
     "output_type": "display_data"
    }
   ],
   "source": [
    "jp_df = df2.groupby('rating')['jp_sales'].sum().sort_values(ascending = False)\n",
    "jp_df.plot(kind='pie',y=\"jp_sales\", autopct='%1.00f%%', \n",
    "           title = \"Топ игр по рейтингу в Японии\", figsize=(7, 7));"
   ]
  },
  {
   "cell_type": "markdown",
   "metadata": {},
   "source": [
    "Типичный потребитель Японии использует платформу 3ds, приобретая игры жанра role-play и action, возрастная категория которых E (для всех возрастов). Возрастная категория, как уже сказано было ранее, имеет очень много пропусков, что может искажать портрет."
   ]
  },
  {
   "cell_type": "markdown",
   "metadata": {},
   "source": [
    "### Проверка гипотез\n"
   ]
  },
  {
   "cell_type": "code",
   "execution_count": 36,
   "metadata": {},
   "outputs": [
    {
     "name": "stdout",
     "output_type": "stream",
     "text": [
      "Дисперсии выборок не равны\n"
     ]
    }
   ],
   "source": [
    "\n",
    "xone = df2.dropna(subset = ['user_score'])\n",
    "xone = xone.query('platform == \"xone\" & user_score != \"nan\"').sort_values(by = 'user_score')\n",
    "xone.loc[:,'user_score'] = xone.loc[:,'user_score'].astype(float)\n",
    "\n",
    "pc = df2.dropna(subset = ['user_score'])\n",
    "pc = pc.query('platform == \"pc\" & user_score != \"nan\"').sort_values(by = 'user_score')\n",
    "pc.loc[:,'user_score'] = pc.loc[:,'user_score'].astype(float)\n",
    "\n",
    "if np.var(xone.loc[:,'user_score']) != np.var(pc.loc[:,'user_score']):\n",
    "    print('Дисперсии выборок не равны')\n",
    "else:\n",
    "    print('Дисперсии выборок равны')"
   ]
  },
  {
   "cell_type": "markdown",
   "metadata": {},
   "source": [
    "Дисперсии выборок не равны, поэтому equal_var==False\n",
    "\n",
    "H0: Cредние пользовательские рейтинги платформ Xbox One и PC одинаковые.\n",
    "\n",
    "H1: cредние пользовательские рейтинги платформ Xbox One и PC различаются."
   ]
  },
  {
   "cell_type": "code",
   "execution_count": 37,
   "metadata": {},
   "outputs": [
    {
     "name": "stdout",
     "output_type": "stream",
     "text": [
      "p-значение: 0.54895\n",
      "Не получилось отвергнуть нулевую гипотезу, рейтинги платформ Xbox One и PC одинаковые\n"
     ]
    }
   ],
   "source": [
    "alpha = .05 # критический уровень статистической значимости\n",
    "            # если p-value окажется меньше него - отвергнем гипотезу\n",
    "\n",
    "results = st.ttest_ind(\n",
    "    xone['user_score'], \n",
    "    pc['user_score'],\n",
    "    equal_var = False)\n",
    "\n",
    "print('p-значение: {:.5f}'.format(results.pvalue))\n",
    "\n",
    "if (results.pvalue < alpha):\n",
    "    print(\"Отвергаем нулевую гипотезу, рейтинги платформ Xbox One и PC разные\")\n",
    "else:\n",
    "    print(\"Не получилось отвергнуть нулевую гипотезу, рейтинги платформ Xbox One и PC одинаковые\")"
   ]
  },
  {
   "cell_type": "markdown",
   "metadata": {},
   "source": [
    "Предполагаю, что рейтинги данных 2-ух платформ совпадают, так как большинство PC являются игровой платформой благодаря Microsoft с ее Windows. Microsoft так же является разработчиком Xbox one. Это значит, что данные 2 платформы родны. Следственно, игры, которые выпускались и выпускаются на данные платформы, совпадают. Соответственно, совпадают и рейтинги этих игр."
   ]
  },
  {
   "cell_type": "code",
   "execution_count": 38,
   "metadata": {},
   "outputs": [
    {
     "name": "stdout",
     "output_type": "stream",
     "text": [
      "Дисперсии выборок не равны\n"
     ]
    }
   ],
   "source": [
    "action = df2.dropna(subset = ['user_score'])\n",
    "action = action.query('genre == \"Action\" & user_score != \"nan\"').sort_values(by = 'user_score')\n",
    "action.loc[:,'user_score'] = action.loc[:,'user_score'].astype(float)\n",
    "\n",
    "sports = df2.dropna(subset = ['user_score'])\n",
    "sports = sports.query('genre == \"Sports\" & user_score != \"nan\"').sort_values(by = 'user_score')\n",
    "sports.loc[:,'user_score'] = sports.loc[:,'user_score'].astype(float)\n",
    "\n",
    "\n",
    "if np.var(action.loc[:,'user_score']) != np.var(sports.loc[:,'user_score']):\n",
    "    print('Дисперсии выборок не равны')\n",
    "else:\n",
    "    print('Дисперсии выборок равны')\n",
    "                   "
   ]
  },
  {
   "cell_type": "markdown",
   "metadata": {},
   "source": [
    "Дисперсии выборок не равны, поэтому equal_var==False\n",
    "\n",
    "H0: Cредние пользовательские рейтинги жанров экшн и спорт совпадают.\n",
    "\n",
    "H1: Cредние пользовательские рейтинги жанров экшн и спорт различаются.\n"
   ]
  },
  {
   "cell_type": "code",
   "execution_count": 39,
   "metadata": {},
   "outputs": [
    {
     "name": "stdout",
     "output_type": "stream",
     "text": [
      "p-значение: 0.00000000000000000006\n",
      "Отвергаем нулевую гипотезу\n"
     ]
    }
   ],
   "source": [
    "alpha = .05 \n",
    "\n",
    "results = st.ttest_ind(\n",
    "    action['user_score'], \n",
    "    sports['user_score'],\n",
    "    equal_var = False)\n",
    "\n",
    "print('p-значение: {:.20f}'.format(results.pvalue))\n",
    "\n",
    "if (results.pvalue < alpha):\n",
    "    print(\"Отвергаем нулевую гипотезу\")\n",
    "else:\n",
    "    print(\"Не получилось отвергнуть нулевую гипотезу\")"
   ]
  },
  {
   "cell_type": "markdown",
   "metadata": {},
   "source": [
    "Нулевая гипотеза может отвергнута. Средние пользовательские рейтинги жанров Action и Sports различаются."
   ]
  },
  {
   "cell_type": "markdown",
   "metadata": {},
   "source": [
    "### Общий Вывод"
   ]
  },
  {
   "cell_type": "markdown",
   "metadata": {},
   "source": [
    "По итогам проделанной работы, было выполнено:\n",
    "\n",
    "1. Было определено, что для анализа и прогноза, необходимо изучать данные за последние 5 лет (2012-2016 г).\n",
    "2. Были найдены наиболее актуальные платформы, которые лидируют по продажам.\n",
    "3. Был построен ящик с усами по глобальным продажам игр в разбивке платформ.\n",
    "4. Было проанализировано влияние оценок критиков, пользователей на итоговые суммарные продажи. \n",
    "5. Был произведен анализ жанров в разрезе их прибыльности.\n",
    "6. Был составлен портрет пользователя для каждого региона в разрезе платформ, жанров и рейтинга.\n",
    "7. Были проверены гипотезы: \n",
    "\n",
    "7.1. Средние пользовательские рейтинги платформ Xbox One и PC одинаковые;\n",
    "\n",
    "7.2. Средние пользовательские рейтинги жанров Action (англ. «действие», экшен-игры) и Sports (англ. «спортивные соревнования») разные.\n",
    "\n",
    "Кампания на 2017 год должна ориентироваться на платформы нового поколения - Xbox One и PS4. Несмотря на то, что в топе на текущий год находятся ps3, xbox 360 и 3ds, динамика платформ нового поколения и старого поколения явно демонстрирует это.\n",
    "\n",
    "Жанры, в сторону которых нужно ориентироваться - Sports и Shooter. Японцы любят Role-Play, но доля Японии в общих данных не такая значительная, чтобы смотреть в сторону ролевиков.\n",
    "\n",
    "Рейтинг игр, исходя из анализа, должен быть 17+.\n",
    "\n",
    "Оценки пользователей формируются уже после покупки и прохождения игры. Это логично, ведь рядовой пользователь не может объективно судить игру до ее выхода. Как раз таки критики получают доступ к играм заранее и до начала продаж могут выставить оценки. Если кампания будет ориентироваться на Японию, то данное правило теряет свою актуальность.\n",
    "\n",
    "При изучении пользовательских оценок Xbox One и PC, мы выяснили, что их разделение, в данном ключе, не совсем справедливо, ведь игры для данных платформ совпадают и, видимо, экспипренс игроков совпадает."
   ]
  }
 ],
 "metadata": {
  "ExecuteTimeLog": [
   {
    "duration": 4,
    "start_time": "2023-12-03T08:54:51.563Z"
   },
   {
    "duration": 2,
    "start_time": "2023-12-03T08:54:54.368Z"
   },
   {
    "duration": 2,
    "start_time": "2023-12-03T08:55:38.884Z"
   },
   {
    "duration": 2,
    "start_time": "2023-12-03T08:55:59.586Z"
   },
   {
    "duration": 48,
    "start_time": "2023-12-03T08:56:03.409Z"
   },
   {
    "duration": 435,
    "start_time": "2023-12-03T08:58:15.506Z"
   },
   {
    "duration": 188,
    "start_time": "2023-12-03T08:58:36.355Z"
   },
   {
    "duration": 10,
    "start_time": "2023-12-03T08:58:44.795Z"
   },
   {
    "duration": 20,
    "start_time": "2023-12-03T08:59:05.339Z"
   },
   {
    "duration": 29,
    "start_time": "2023-12-03T09:21:05.878Z"
   },
   {
    "duration": 10,
    "start_time": "2023-12-03T09:23:01.060Z"
   },
   {
    "duration": 16,
    "start_time": "2023-12-03T09:23:17.668Z"
   },
   {
    "duration": 21,
    "start_time": "2023-12-03T09:23:28.832Z"
   },
   {
    "duration": 16,
    "start_time": "2023-12-03T09:23:39.505Z"
   },
   {
    "duration": 12,
    "start_time": "2023-12-03T09:23:59.077Z"
   },
   {
    "duration": 12,
    "start_time": "2023-12-03T09:24:41.918Z"
   },
   {
    "duration": 13,
    "start_time": "2023-12-03T09:25:09.421Z"
   },
   {
    "duration": 14,
    "start_time": "2023-12-03T09:25:18.249Z"
   },
   {
    "duration": 12,
    "start_time": "2023-12-03T09:25:34.154Z"
   },
   {
    "duration": 25,
    "start_time": "2023-12-03T09:25:49.189Z"
   },
   {
    "duration": 14,
    "start_time": "2023-12-03T09:25:59.204Z"
   },
   {
    "duration": 9,
    "start_time": "2023-12-03T09:27:55.732Z"
   },
   {
    "duration": 14,
    "start_time": "2023-12-03T09:28:22.090Z"
   },
   {
    "duration": 20,
    "start_time": "2023-12-03T09:29:09.936Z"
   },
   {
    "duration": 16,
    "start_time": "2023-12-03T09:29:34.579Z"
   },
   {
    "duration": 56,
    "start_time": "2023-12-03T09:29:49.990Z"
   },
   {
    "duration": 29,
    "start_time": "2023-12-03T09:30:27.100Z"
   },
   {
    "duration": 24,
    "start_time": "2023-12-03T09:31:27.691Z"
   },
   {
    "duration": 24,
    "start_time": "2023-12-03T09:31:38.335Z"
   },
   {
    "duration": 34,
    "start_time": "2023-12-03T10:00:27.730Z"
   },
   {
    "duration": 23,
    "start_time": "2023-12-03T10:02:48.413Z"
   },
   {
    "duration": 9,
    "start_time": "2023-12-03T10:02:58.995Z"
   },
   {
    "duration": 11,
    "start_time": "2023-12-03T10:03:19.473Z"
   },
   {
    "duration": 9,
    "start_time": "2023-12-03T10:03:46.118Z"
   },
   {
    "duration": 10,
    "start_time": "2023-12-03T10:03:49.755Z"
   },
   {
    "duration": 2,
    "start_time": "2023-12-03T10:03:52.233Z"
   },
   {
    "duration": 54,
    "start_time": "2023-12-03T10:03:52.387Z"
   },
   {
    "duration": 20,
    "start_time": "2023-12-03T10:03:52.551Z"
   },
   {
    "duration": 18,
    "start_time": "2023-12-03T10:03:57.434Z"
   },
   {
    "duration": 26,
    "start_time": "2023-12-03T10:10:15.120Z"
   },
   {
    "duration": 17,
    "start_time": "2023-12-03T10:10:44.798Z"
   },
   {
    "duration": 21,
    "start_time": "2023-12-03T10:10:52.345Z"
   },
   {
    "duration": 27,
    "start_time": "2023-12-03T10:11:01.569Z"
   },
   {
    "duration": 29,
    "start_time": "2023-12-03T10:11:32.602Z"
   },
   {
    "duration": 20,
    "start_time": "2023-12-03T10:11:37.575Z"
   },
   {
    "duration": 21,
    "start_time": "2023-12-03T10:12:07.778Z"
   },
   {
    "duration": 18,
    "start_time": "2023-12-03T10:12:10.571Z"
   },
   {
    "duration": 3,
    "start_time": "2023-12-03T10:12:19.401Z"
   },
   {
    "duration": 52,
    "start_time": "2023-12-03T10:12:19.546Z"
   },
   {
    "duration": 18,
    "start_time": "2023-12-03T10:12:19.690Z"
   },
   {
    "duration": 18,
    "start_time": "2023-12-03T10:12:19.960Z"
   },
   {
    "duration": 21,
    "start_time": "2023-12-03T10:12:31.092Z"
   },
   {
    "duration": 2,
    "start_time": "2023-12-03T10:12:52.083Z"
   },
   {
    "duration": 55,
    "start_time": "2023-12-03T10:12:52.395Z"
   },
   {
    "duration": 24,
    "start_time": "2023-12-03T10:12:53.171Z"
   },
   {
    "duration": 19,
    "start_time": "2023-12-03T10:12:58.282Z"
   },
   {
    "duration": 3,
    "start_time": "2023-12-03T10:13:53.451Z"
   },
   {
    "duration": 33,
    "start_time": "2023-12-03T10:14:24.722Z"
   },
   {
    "duration": 24,
    "start_time": "2023-12-03T11:05:04.259Z"
   },
   {
    "duration": 18,
    "start_time": "2023-12-03T11:05:19.979Z"
   },
   {
    "duration": 53,
    "start_time": "2023-12-03T11:05:22.752Z"
   },
   {
    "duration": 24,
    "start_time": "2023-12-03T11:05:23.280Z"
   },
   {
    "duration": 19,
    "start_time": "2023-12-03T11:05:24.373Z"
   },
   {
    "duration": 18,
    "start_time": "2023-12-03T11:06:01.495Z"
   },
   {
    "duration": 21,
    "start_time": "2023-12-03T11:06:12.517Z"
   },
   {
    "duration": 24,
    "start_time": "2023-12-03T11:07:41.422Z"
   },
   {
    "duration": 27,
    "start_time": "2023-12-03T11:07:54.179Z"
   },
   {
    "duration": 22,
    "start_time": "2023-12-03T11:08:18.042Z"
   },
   {
    "duration": 31,
    "start_time": "2023-12-03T11:08:38.892Z"
   },
   {
    "duration": 36,
    "start_time": "2023-12-03T11:08:44.288Z"
   },
   {
    "duration": 8,
    "start_time": "2023-12-03T11:26:30.902Z"
   },
   {
    "duration": 10,
    "start_time": "2023-12-03T11:26:41.912Z"
   },
   {
    "duration": 5,
    "start_time": "2023-12-03T11:26:56.653Z"
   },
   {
    "duration": 10,
    "start_time": "2023-12-03T12:46:30.721Z"
   },
   {
    "duration": 19,
    "start_time": "2023-12-03T12:46:47.167Z"
   },
   {
    "duration": 19,
    "start_time": "2023-12-03T12:48:34.722Z"
   },
   {
    "duration": 9,
    "start_time": "2023-12-03T12:48:43.516Z"
   },
   {
    "duration": 23,
    "start_time": "2023-12-03T12:48:57.966Z"
   },
   {
    "duration": 19,
    "start_time": "2023-12-03T12:49:35.671Z"
   },
   {
    "duration": 8,
    "start_time": "2023-12-03T12:49:47.660Z"
   },
   {
    "duration": 5,
    "start_time": "2023-12-03T12:49:57.198Z"
   },
   {
    "duration": 5,
    "start_time": "2023-12-03T12:50:01.495Z"
   },
   {
    "duration": 11,
    "start_time": "2023-12-03T12:50:27.874Z"
   },
   {
    "duration": 6,
    "start_time": "2023-12-03T12:50:47.118Z"
   },
   {
    "duration": 6,
    "start_time": "2023-12-03T12:50:51.021Z"
   },
   {
    "duration": 5,
    "start_time": "2023-12-03T12:50:55.738Z"
   },
   {
    "duration": 10,
    "start_time": "2023-12-03T12:51:01.045Z"
   },
   {
    "duration": 1134,
    "start_time": "2023-12-03T12:51:12.403Z"
   },
   {
    "duration": 1220,
    "start_time": "2023-12-03T12:51:19.416Z"
   },
   {
    "duration": 5,
    "start_time": "2023-12-03T12:51:22.565Z"
   },
   {
    "duration": 45,
    "start_time": "2023-12-03T14:39:20.699Z"
   },
   {
    "duration": 372,
    "start_time": "2023-12-03T14:39:23.847Z"
   },
   {
    "duration": 197,
    "start_time": "2023-12-03T14:39:24.220Z"
   },
   {
    "duration": 20,
    "start_time": "2023-12-03T14:39:24.554Z"
   },
   {
    "duration": 4,
    "start_time": "2023-12-03T14:39:26.290Z"
   },
   {
    "duration": 1284,
    "start_time": "2023-12-03T14:39:27.316Z"
   },
   {
    "duration": 1170,
    "start_time": "2023-12-03T14:39:29.171Z"
   },
   {
    "duration": 3,
    "start_time": "2023-12-03T14:41:11.847Z"
   },
   {
    "duration": 54,
    "start_time": "2023-12-03T14:41:12.009Z"
   },
   {
    "duration": 19,
    "start_time": "2023-12-03T14:41:12.163Z"
   },
   {
    "duration": 31,
    "start_time": "2023-12-03T14:41:12.448Z"
   },
   {
    "duration": 10,
    "start_time": "2023-12-03T14:41:12.597Z"
   },
   {
    "duration": 4,
    "start_time": "2023-12-03T14:41:12.744Z"
   },
   {
    "duration": 1179,
    "start_time": "2023-12-03T14:43:20.617Z"
   },
   {
    "duration": 2,
    "start_time": "2023-12-03T14:43:24.735Z"
   },
   {
    "duration": 53,
    "start_time": "2023-12-03T14:43:24.979Z"
   },
   {
    "duration": 19,
    "start_time": "2023-12-03T14:43:25.199Z"
   },
   {
    "duration": 30,
    "start_time": "2023-12-03T14:43:27.310Z"
   },
   {
    "duration": 10,
    "start_time": "2023-12-03T14:43:50.356Z"
   },
   {
    "duration": 8,
    "start_time": "2023-12-03T14:43:58.595Z"
   },
   {
    "duration": 17,
    "start_time": "2023-12-03T14:44:03.025Z"
   },
   {
    "duration": 16,
    "start_time": "2023-12-03T14:44:19.349Z"
   },
   {
    "duration": 18,
    "start_time": "2023-12-03T14:44:26.132Z"
   },
   {
    "duration": 3,
    "start_time": "2023-12-03T14:44:39.638Z"
   },
   {
    "duration": 53,
    "start_time": "2023-12-03T14:44:39.990Z"
   },
   {
    "duration": 18,
    "start_time": "2023-12-03T14:44:40.583Z"
   },
   {
    "duration": 27,
    "start_time": "2023-12-03T14:44:45.123Z"
   },
   {
    "duration": 18,
    "start_time": "2023-12-03T14:44:57.815Z"
   },
   {
    "duration": 418,
    "start_time": "2023-12-04T10:02:01.202Z"
   },
   {
    "duration": 99,
    "start_time": "2023-12-04T10:02:01.622Z"
   },
   {
    "duration": 19,
    "start_time": "2023-12-04T10:02:01.831Z"
   },
   {
    "duration": 34,
    "start_time": "2023-12-04T10:02:03.733Z"
   },
   {
    "duration": 18,
    "start_time": "2023-12-04T10:03:09.233Z"
   },
   {
    "duration": 3,
    "start_time": "2023-12-04T10:03:18.969Z"
   },
   {
    "duration": 51,
    "start_time": "2023-12-04T10:03:19.213Z"
   },
   {
    "duration": 32,
    "start_time": "2023-12-04T10:03:19.409Z"
   },
   {
    "duration": 36,
    "start_time": "2023-12-04T10:03:22.379Z"
   },
   {
    "duration": 13,
    "start_time": "2023-12-04T10:03:31.516Z"
   },
   {
    "duration": 4,
    "start_time": "2023-12-04T10:03:37.915Z"
   },
   {
    "duration": 1424,
    "start_time": "2023-12-04T10:13:47.309Z"
   },
   {
    "duration": 4,
    "start_time": "2023-12-04T10:13:57.414Z"
   },
   {
    "duration": 1442,
    "start_time": "2023-12-04T10:14:01.030Z"
   },
   {
    "duration": 2,
    "start_time": "2023-12-04T10:14:17.267Z"
   },
   {
    "duration": 51,
    "start_time": "2023-12-04T10:14:17.417Z"
   },
   {
    "duration": 19,
    "start_time": "2023-12-04T10:14:17.577Z"
   },
   {
    "duration": 34,
    "start_time": "2023-12-04T10:14:17.889Z"
   },
   {
    "duration": 5,
    "start_time": "2023-12-04T10:14:18.349Z"
   },
   {
    "duration": 4,
    "start_time": "2023-12-04T10:14:18.496Z"
   },
   {
    "duration": 1164,
    "start_time": "2023-12-04T10:14:18.653Z"
   },
   {
    "duration": 1181,
    "start_time": "2023-12-04T10:14:26.750Z"
   },
   {
    "duration": 1436,
    "start_time": "2023-12-04T10:15:24.540Z"
   },
   {
    "duration": 19,
    "start_time": "2023-12-04T10:15:55.922Z"
   },
   {
    "duration": 3,
    "start_time": "2023-12-04T10:16:06.094Z"
   },
   {
    "duration": 17,
    "start_time": "2023-12-04T10:16:10.008Z"
   },
   {
    "duration": 423,
    "start_time": "2023-12-04T10:54:32.583Z"
   },
   {
    "duration": 53,
    "start_time": "2023-12-04T10:54:33.008Z"
   },
   {
    "duration": 20,
    "start_time": "2023-12-04T10:54:33.062Z"
   },
   {
    "duration": 33,
    "start_time": "2023-12-04T10:54:33.085Z"
   },
   {
    "duration": 10,
    "start_time": "2023-12-04T10:54:33.120Z"
   },
   {
    "duration": 11,
    "start_time": "2023-12-04T10:54:33.132Z"
   },
   {
    "duration": 7,
    "start_time": "2023-12-04T10:54:33.144Z"
   },
   {
    "duration": 5,
    "start_time": "2023-12-04T10:55:03.343Z"
   },
   {
    "duration": 68,
    "start_time": "2023-12-04T11:02:15.650Z"
   },
   {
    "duration": 7,
    "start_time": "2023-12-04T11:02:28.125Z"
   },
   {
    "duration": 26,
    "start_time": "2023-12-04T11:04:19.281Z"
   },
   {
    "duration": 5,
    "start_time": "2023-12-04T11:08:03.240Z"
   },
   {
    "duration": 5,
    "start_time": "2023-12-04T11:08:12.468Z"
   },
   {
    "duration": 28,
    "start_time": "2023-12-04T11:08:42.870Z"
   },
   {
    "duration": 25,
    "start_time": "2023-12-04T11:14:07.233Z"
   },
   {
    "duration": 27,
    "start_time": "2023-12-04T11:16:13.737Z"
   },
   {
    "duration": 24,
    "start_time": "2023-12-04T11:16:23.192Z"
   },
   {
    "duration": 88,
    "start_time": "2023-12-04T11:16:34.678Z"
   },
   {
    "duration": 24,
    "start_time": "2023-12-04T11:16:44.484Z"
   },
   {
    "duration": 11,
    "start_time": "2023-12-04T11:16:52.766Z"
   },
   {
    "duration": 10,
    "start_time": "2023-12-04T11:17:01.510Z"
   },
   {
    "duration": 10,
    "start_time": "2023-12-04T11:17:13.155Z"
   },
   {
    "duration": 26,
    "start_time": "2023-12-04T11:18:49.607Z"
   },
   {
    "duration": 5,
    "start_time": "2023-12-04T11:19:23.783Z"
   },
   {
    "duration": 11,
    "start_time": "2023-12-04T11:19:34.871Z"
   },
   {
    "duration": 20,
    "start_time": "2023-12-04T11:19:38.916Z"
   },
   {
    "duration": 22,
    "start_time": "2023-12-04T11:24:07.577Z"
   },
   {
    "duration": 26,
    "start_time": "2023-12-04T11:25:45.620Z"
   },
   {
    "duration": 26,
    "start_time": "2023-12-04T11:28:02.244Z"
   },
   {
    "duration": 13,
    "start_time": "2023-12-04T11:33:09.923Z"
   },
   {
    "duration": 529,
    "start_time": "2023-12-04T11:33:15.220Z"
   },
   {
    "duration": 18,
    "start_time": "2023-12-04T11:36:49.864Z"
   },
   {
    "duration": 12,
    "start_time": "2023-12-04T11:37:10.529Z"
   },
   {
    "duration": 18,
    "start_time": "2023-12-04T11:37:13.760Z"
   },
   {
    "duration": 108,
    "start_time": "2023-12-04T11:38:25.228Z"
   },
   {
    "duration": 1264,
    "start_time": "2023-12-04T11:38:31.100Z"
   },
   {
    "duration": 263,
    "start_time": "2023-12-04T11:38:58.037Z"
   },
   {
    "duration": 2960,
    "start_time": "2023-12-04T11:49:32.692Z"
   },
   {
    "duration": 132,
    "start_time": "2023-12-04T11:50:09.160Z"
   },
   {
    "duration": 3058,
    "start_time": "2023-12-04T11:50:23.629Z"
   },
   {
    "duration": 93,
    "start_time": "2023-12-04T11:51:01.225Z"
   },
   {
    "duration": 26,
    "start_time": "2023-12-04T12:03:52.861Z"
   },
   {
    "duration": 25,
    "start_time": "2023-12-04T12:13:04.217Z"
   },
   {
    "duration": 3,
    "start_time": "2023-12-04T12:13:13.842Z"
   },
   {
    "duration": 55,
    "start_time": "2023-12-04T12:13:13.996Z"
   },
   {
    "duration": 23,
    "start_time": "2023-12-04T12:13:14.147Z"
   },
   {
    "duration": 34,
    "start_time": "2023-12-04T12:13:14.451Z"
   },
   {
    "duration": 6,
    "start_time": "2023-12-04T12:13:14.889Z"
   },
   {
    "duration": 3,
    "start_time": "2023-12-04T12:13:15.039Z"
   },
   {
    "duration": 26,
    "start_time": "2023-12-04T12:13:15.182Z"
   },
   {
    "duration": 26,
    "start_time": "2023-12-04T12:13:33.453Z"
   },
   {
    "duration": 27,
    "start_time": "2023-12-04T12:38:03.623Z"
   },
   {
    "duration": 4,
    "start_time": "2023-12-04T12:41:47.053Z"
   },
   {
    "duration": 25,
    "start_time": "2023-12-04T12:41:49.269Z"
   },
   {
    "duration": 12,
    "start_time": "2023-12-04T12:41:59.156Z"
   },
   {
    "duration": 4,
    "start_time": "2023-12-04T12:42:09.552Z"
   },
   {
    "duration": 26,
    "start_time": "2023-12-04T12:42:09.873Z"
   },
   {
    "duration": 9,
    "start_time": "2023-12-04T12:42:12.469Z"
   },
   {
    "duration": 9,
    "start_time": "2023-12-04T12:44:52.295Z"
   },
   {
    "duration": 24,
    "start_time": "2023-12-04T12:44:55.228Z"
   },
   {
    "duration": 10,
    "start_time": "2023-12-04T12:44:57.476Z"
   },
   {
    "duration": 7,
    "start_time": "2023-12-04T12:46:06.091Z"
   },
   {
    "duration": 9,
    "start_time": "2023-12-04T12:46:14.564Z"
   },
   {
    "duration": 9,
    "start_time": "2023-12-04T13:03:34.743Z"
   },
   {
    "duration": 10,
    "start_time": "2023-12-04T13:03:54.799Z"
   },
   {
    "duration": 19,
    "start_time": "2023-12-04T13:06:09.808Z"
   },
   {
    "duration": 19,
    "start_time": "2023-12-04T13:06:18.201Z"
   },
   {
    "duration": 20,
    "start_time": "2023-12-04T13:07:59.833Z"
   },
   {
    "duration": 11,
    "start_time": "2023-12-04T13:08:35.782Z"
   },
   {
    "duration": 93,
    "start_time": "2023-12-04T13:10:57.108Z"
   },
   {
    "duration": 8,
    "start_time": "2023-12-04T13:11:19.815Z"
   },
   {
    "duration": 8,
    "start_time": "2023-12-04T13:11:28.467Z"
   },
   {
    "duration": 8,
    "start_time": "2023-12-04T13:11:49.569Z"
   },
   {
    "duration": 14,
    "start_time": "2023-12-04T13:12:09.072Z"
   },
   {
    "duration": 18,
    "start_time": "2023-12-04T13:12:21.426Z"
   },
   {
    "duration": 5,
    "start_time": "2023-12-04T13:12:32.920Z"
   },
   {
    "duration": 24,
    "start_time": "2023-12-04T13:12:33.514Z"
   },
   {
    "duration": 19,
    "start_time": "2023-12-04T13:12:36.746Z"
   },
   {
    "duration": 15,
    "start_time": "2023-12-04T13:12:37.059Z"
   },
   {
    "duration": 15,
    "start_time": "2023-12-04T13:23:40.053Z"
   },
   {
    "duration": 14,
    "start_time": "2023-12-04T13:23:48.616Z"
   },
   {
    "duration": 1234,
    "start_time": "2023-12-04T13:23:51.158Z"
   },
   {
    "duration": 35,
    "start_time": "2023-12-04T13:24:01.459Z"
   },
   {
    "duration": 3,
    "start_time": "2023-12-04T13:24:10.848Z"
   },
   {
    "duration": 26,
    "start_time": "2023-12-04T13:24:12.244Z"
   },
   {
    "duration": 21,
    "start_time": "2023-12-04T13:24:14.861Z"
   },
   {
    "duration": 5,
    "start_time": "2023-12-04T13:24:27.344Z"
   },
   {
    "duration": 35,
    "start_time": "2023-12-04T13:24:28.195Z"
   },
   {
    "duration": 20,
    "start_time": "2023-12-04T13:24:29.654Z"
   },
   {
    "duration": 409,
    "start_time": "2023-12-04T13:24:46.091Z"
   },
   {
    "duration": 69,
    "start_time": "2023-12-04T13:24:46.502Z"
   },
   {
    "duration": 26,
    "start_time": "2023-12-04T13:24:46.572Z"
   },
   {
    "duration": 37,
    "start_time": "2023-12-04T13:24:46.600Z"
   },
   {
    "duration": 11,
    "start_time": "2023-12-04T13:24:46.639Z"
   },
   {
    "duration": 32,
    "start_time": "2023-12-04T13:24:46.652Z"
   },
   {
    "duration": 42,
    "start_time": "2023-12-04T13:24:46.685Z"
   },
   {
    "duration": 21,
    "start_time": "2023-12-04T13:24:46.728Z"
   },
   {
    "duration": 89,
    "start_time": "2023-12-04T13:24:46.750Z"
   },
   {
    "duration": 33,
    "start_time": "2023-12-04T13:24:55.804Z"
   },
   {
    "duration": 48,
    "start_time": "2023-12-04T13:27:26.833Z"
   },
   {
    "duration": 29,
    "start_time": "2023-12-04T13:27:34.108Z"
   },
   {
    "duration": 391,
    "start_time": "2023-12-04T16:38:12.327Z"
   },
   {
    "duration": 117,
    "start_time": "2023-12-04T16:38:12.719Z"
   },
   {
    "duration": 21,
    "start_time": "2023-12-04T16:38:12.838Z"
   },
   {
    "duration": 32,
    "start_time": "2023-12-04T16:38:12.953Z"
   },
   {
    "duration": 11,
    "start_time": "2023-12-04T16:38:13.417Z"
   },
   {
    "duration": 4,
    "start_time": "2023-12-04T16:38:13.563Z"
   },
   {
    "duration": 29,
    "start_time": "2023-12-04T16:38:13.725Z"
   },
   {
    "duration": 22,
    "start_time": "2023-12-04T16:38:14.041Z"
   },
   {
    "duration": 31,
    "start_time": "2023-12-04T16:38:14.921Z"
   },
   {
    "duration": 36,
    "start_time": "2023-12-04T16:38:20.745Z"
   },
   {
    "duration": 30,
    "start_time": "2023-12-04T16:38:38.135Z"
   },
   {
    "duration": 13,
    "start_time": "2023-12-04T16:40:02.090Z"
   },
   {
    "duration": 1566,
    "start_time": "2023-12-04T16:42:28.420Z"
   },
   {
    "duration": 397,
    "start_time": "2023-12-04T16:42:44.774Z"
   },
   {
    "duration": 121,
    "start_time": "2023-12-04T16:42:56.461Z"
   },
   {
    "duration": 177,
    "start_time": "2023-12-04T16:43:09.121Z"
   },
   {
    "duration": 176,
    "start_time": "2023-12-04T16:43:15.763Z"
   },
   {
    "duration": 309,
    "start_time": "2023-12-04T16:43:23.031Z"
   },
   {
    "duration": 308,
    "start_time": "2023-12-04T16:59:32.988Z"
   },
   {
    "duration": 303,
    "start_time": "2023-12-04T16:59:46.676Z"
   },
   {
    "duration": 306,
    "start_time": "2023-12-04T17:00:14.818Z"
   },
   {
    "duration": 311,
    "start_time": "2023-12-04T17:04:16.980Z"
   },
   {
    "duration": 346,
    "start_time": "2023-12-04T17:04:25.658Z"
   },
   {
    "duration": 317,
    "start_time": "2023-12-04T17:04:36.205Z"
   },
   {
    "duration": 308,
    "start_time": "2023-12-04T17:04:44.146Z"
   },
   {
    "duration": 15,
    "start_time": "2023-12-04T17:06:29.851Z"
   },
   {
    "duration": 15,
    "start_time": "2023-12-04T17:06:44.279Z"
   },
   {
    "duration": 9,
    "start_time": "2023-12-04T17:07:13.263Z"
   },
   {
    "duration": 503,
    "start_time": "2023-12-04T17:07:43.246Z"
   },
   {
    "duration": 53,
    "start_time": "2023-12-04T17:07:44.244Z"
   },
   {
    "duration": 20,
    "start_time": "2023-12-04T17:07:44.746Z"
   },
   {
    "duration": 32,
    "start_time": "2023-12-04T17:07:44.912Z"
   },
   {
    "duration": 6,
    "start_time": "2023-12-04T17:07:45.167Z"
   },
   {
    "duration": 4,
    "start_time": "2023-12-04T17:07:45.248Z"
   },
   {
    "duration": 24,
    "start_time": "2023-12-04T17:07:45.333Z"
   },
   {
    "duration": 20,
    "start_time": "2023-12-04T17:07:45.498Z"
   },
   {
    "duration": 317,
    "start_time": "2023-12-04T17:07:45.667Z"
   },
   {
    "duration": 54,
    "start_time": "2023-12-04T17:07:45.986Z"
   },
   {
    "duration": 9,
    "start_time": "2023-12-04T17:07:53.859Z"
   },
   {
    "duration": 1320,
    "start_time": "2023-12-04T17:08:13.672Z"
   },
   {
    "duration": 148,
    "start_time": "2023-12-04T17:08:43.284Z"
   },
   {
    "duration": 70,
    "start_time": "2023-12-04T17:08:59.274Z"
   },
   {
    "duration": 1278,
    "start_time": "2023-12-04T17:09:02.659Z"
   },
   {
    "duration": 1307,
    "start_time": "2023-12-04T17:09:41.522Z"
   },
   {
    "duration": 1375,
    "start_time": "2023-12-04T17:09:46.121Z"
   },
   {
    "duration": 1279,
    "start_time": "2023-12-04T17:09:54.144Z"
   },
   {
    "duration": 1274,
    "start_time": "2023-12-04T17:10:39.963Z"
   },
   {
    "duration": 1712,
    "start_time": "2023-12-04T17:11:39.099Z"
   },
   {
    "duration": 11,
    "start_time": "2023-12-04T18:33:14.617Z"
   },
   {
    "duration": 8,
    "start_time": "2023-12-04T18:33:24.365Z"
   },
   {
    "duration": 16,
    "start_time": "2023-12-04T18:33:39.842Z"
   },
   {
    "duration": 63,
    "start_time": "2023-12-04T18:33:50.827Z"
   },
   {
    "duration": 1463,
    "start_time": "2023-12-04T18:34:53.074Z"
   },
   {
    "duration": 68,
    "start_time": "2023-12-04T18:35:14.618Z"
   },
   {
    "duration": 193,
    "start_time": "2023-12-04T18:36:07.433Z"
   },
   {
    "duration": 460,
    "start_time": "2023-12-04T18:37:59.432Z"
   },
   {
    "duration": 461,
    "start_time": "2023-12-04T18:39:18.196Z"
   },
   {
    "duration": 471,
    "start_time": "2023-12-04T18:39:27.049Z"
   },
   {
    "duration": 450,
    "start_time": "2023-12-04T18:39:31.011Z"
   },
   {
    "duration": 482,
    "start_time": "2023-12-04T18:39:46.767Z"
   },
   {
    "duration": 434,
    "start_time": "2023-12-04T18:40:05.504Z"
   },
   {
    "duration": 543,
    "start_time": "2023-12-04T18:42:09.263Z"
   },
   {
    "duration": 453,
    "start_time": "2023-12-04T18:48:52.190Z"
   },
   {
    "duration": 70,
    "start_time": "2023-12-04T18:49:03.822Z"
   },
   {
    "duration": 7,
    "start_time": "2023-12-04T18:49:12.026Z"
   },
   {
    "duration": 10,
    "start_time": "2023-12-04T18:49:18.823Z"
   },
   {
    "duration": 8,
    "start_time": "2023-12-04T18:49:36.579Z"
   },
   {
    "duration": 9,
    "start_time": "2023-12-04T18:49:48.214Z"
   },
   {
    "duration": 8,
    "start_time": "2023-12-04T19:00:24.010Z"
   },
   {
    "duration": 9,
    "start_time": "2023-12-04T19:00:39.616Z"
   },
   {
    "duration": 10,
    "start_time": "2023-12-04T19:05:12.064Z"
   },
   {
    "duration": 458,
    "start_time": "2023-12-04T19:05:23.544Z"
   },
   {
    "duration": 446,
    "start_time": "2023-12-04T19:05:43.703Z"
   },
   {
    "duration": 478,
    "start_time": "2023-12-04T19:09:23.855Z"
   },
   {
    "duration": 457,
    "start_time": "2023-12-04T19:09:40.411Z"
   },
   {
    "duration": 82,
    "start_time": "2023-12-04T19:14:57.198Z"
   },
   {
    "duration": 407,
    "start_time": "2023-12-04T19:15:20.064Z"
   },
   {
    "duration": 400,
    "start_time": "2023-12-04T19:41:18.930Z"
   },
   {
    "duration": 46,
    "start_time": "2023-12-05T13:04:37.819Z"
   },
   {
    "duration": 1291,
    "start_time": "2023-12-05T13:04:46.069Z"
   },
   {
    "duration": 180,
    "start_time": "2023-12-05T13:04:47.362Z"
   },
   {
    "duration": 20,
    "start_time": "2023-12-05T13:04:47.544Z"
   },
   {
    "duration": 43,
    "start_time": "2023-12-05T13:04:47.566Z"
   },
   {
    "duration": 15,
    "start_time": "2023-12-05T13:04:47.610Z"
   },
   {
    "duration": 36,
    "start_time": "2023-12-05T13:04:47.626Z"
   },
   {
    "duration": 38,
    "start_time": "2023-12-05T13:04:47.664Z"
   },
   {
    "duration": 29,
    "start_time": "2023-12-05T13:04:47.704Z"
   },
   {
    "duration": 94,
    "start_time": "2023-12-05T13:04:47.735Z"
   },
   {
    "duration": 0,
    "start_time": "2023-12-05T13:04:47.831Z"
   },
   {
    "duration": 8,
    "start_time": "2023-12-05T13:04:47.899Z"
   },
   {
    "duration": 2,
    "start_time": "2023-12-05T13:04:59.948Z"
   },
   {
    "duration": 50,
    "start_time": "2023-12-05T13:05:00.559Z"
   },
   {
    "duration": 18,
    "start_time": "2023-12-05T13:05:01.238Z"
   },
   {
    "duration": 40,
    "start_time": "2023-12-05T13:05:03.682Z"
   },
   {
    "duration": 6,
    "start_time": "2023-12-05T13:05:05.261Z"
   },
   {
    "duration": 5,
    "start_time": "2023-12-05T13:05:05.784Z"
   },
   {
    "duration": 25,
    "start_time": "2023-12-05T13:05:06.702Z"
   },
   {
    "duration": 19,
    "start_time": "2023-12-05T13:05:08.225Z"
   },
   {
    "duration": 16,
    "start_time": "2023-12-05T13:05:09.648Z"
   },
   {
    "duration": 319,
    "start_time": "2023-12-05T13:05:27.818Z"
   },
   {
    "duration": 468,
    "start_time": "2023-12-05T13:05:30.501Z"
   },
   {
    "duration": 22,
    "start_time": "2023-12-05T13:05:32.903Z"
   },
   {
    "duration": 1340,
    "start_time": "2023-12-06T10:08:12.684Z"
   },
   {
    "duration": 98,
    "start_time": "2023-12-06T10:08:14.026Z"
   },
   {
    "duration": 22,
    "start_time": "2023-12-06T10:08:14.125Z"
   },
   {
    "duration": 46,
    "start_time": "2023-12-06T10:08:14.149Z"
   },
   {
    "duration": 7,
    "start_time": "2023-12-06T10:08:14.845Z"
   },
   {
    "duration": 4,
    "start_time": "2023-12-06T10:08:15.257Z"
   },
   {
    "duration": 28,
    "start_time": "2023-12-06T10:08:15.877Z"
   },
   {
    "duration": 21,
    "start_time": "2023-12-06T10:08:20.639Z"
   },
   {
    "duration": 352,
    "start_time": "2023-12-06T10:08:22.812Z"
   },
   {
    "duration": 482,
    "start_time": "2023-12-06T10:08:24.512Z"
   },
   {
    "duration": 15,
    "start_time": "2023-12-06T10:12:41.851Z"
   },
   {
    "duration": 88,
    "start_time": "2023-12-06T10:13:15.597Z"
   },
   {
    "duration": 6,
    "start_time": "2023-12-06T10:13:30.001Z"
   },
   {
    "duration": 102,
    "start_time": "2023-12-06T10:14:59.230Z"
   },
   {
    "duration": 9,
    "start_time": "2023-12-06T10:15:17.220Z"
   },
   {
    "duration": 8,
    "start_time": "2023-12-06T10:15:44.124Z"
   },
   {
    "duration": 9,
    "start_time": "2023-12-06T10:16:16.294Z"
   },
   {
    "duration": 8,
    "start_time": "2023-12-06T10:17:09.862Z"
   },
   {
    "duration": 4,
    "start_time": "2023-12-06T10:17:31.082Z"
   },
   {
    "duration": 8,
    "start_time": "2023-12-06T10:17:38.476Z"
   },
   {
    "duration": 430,
    "start_time": "2023-12-06T10:17:41.102Z"
   },
   {
    "duration": 24,
    "start_time": "2023-12-06T10:17:44.766Z"
   },
   {
    "duration": 11,
    "start_time": "2023-12-06T10:17:51.002Z"
   },
   {
    "duration": 4,
    "start_time": "2023-12-06T10:18:03.782Z"
   },
   {
    "duration": 18,
    "start_time": "2023-12-06T10:18:26.336Z"
   },
   {
    "duration": 430,
    "start_time": "2023-12-06T10:18:56.668Z"
   },
   {
    "duration": 436,
    "start_time": "2023-12-06T10:19:14.641Z"
   },
   {
    "duration": 21,
    "start_time": "2023-12-06T10:19:22.825Z"
   },
   {
    "duration": 341,
    "start_time": "2023-12-06T10:19:23.484Z"
   },
   {
    "duration": 506,
    "start_time": "2023-12-06T10:19:24.057Z"
   },
   {
    "duration": 24,
    "start_time": "2023-12-06T10:19:24.854Z"
   },
   {
    "duration": 17,
    "start_time": "2023-12-06T10:21:10.368Z"
   },
   {
    "duration": 441,
    "start_time": "2023-12-06T10:21:35.057Z"
   },
   {
    "duration": 392,
    "start_time": "2023-12-06T10:24:08.677Z"
   },
   {
    "duration": 389,
    "start_time": "2023-12-06T10:24:17.779Z"
   },
   {
    "duration": 16,
    "start_time": "2023-12-06T10:25:51.736Z"
   },
   {
    "duration": 21,
    "start_time": "2023-12-06T10:26:20.529Z"
   },
   {
    "duration": 10,
    "start_time": "2023-12-06T10:35:50.839Z"
   },
   {
    "duration": 17,
    "start_time": "2023-12-06T10:36:00.095Z"
   },
   {
    "duration": 49,
    "start_time": "2023-12-06T11:09:48.119Z"
   },
   {
    "duration": 1240,
    "start_time": "2023-12-06T11:09:48.193Z"
   },
   {
    "duration": 56,
    "start_time": "2023-12-06T11:09:49.435Z"
   },
   {
    "duration": 35,
    "start_time": "2023-12-06T11:09:49.492Z"
   },
   {
    "duration": 51,
    "start_time": "2023-12-06T11:09:49.529Z"
   },
   {
    "duration": 7,
    "start_time": "2023-12-06T11:09:49.582Z"
   },
   {
    "duration": 9,
    "start_time": "2023-12-06T11:09:49.591Z"
   },
   {
    "duration": 30,
    "start_time": "2023-12-06T11:09:49.602Z"
   },
   {
    "duration": 39,
    "start_time": "2023-12-06T11:09:49.634Z"
   },
   {
    "duration": 386,
    "start_time": "2023-12-06T11:09:49.676Z"
   },
   {
    "duration": 440,
    "start_time": "2023-12-06T11:09:50.065Z"
   },
   {
    "duration": 25,
    "start_time": "2023-12-06T11:09:50.507Z"
   },
   {
    "duration": 434,
    "start_time": "2023-12-06T11:09:50.534Z"
   },
   {
    "duration": 22,
    "start_time": "2023-12-06T11:09:50.970Z"
   },
   {
    "duration": 29,
    "start_time": "2023-12-06T11:09:50.994Z"
   },
   {
    "duration": 9,
    "start_time": "2023-12-06T11:10:13.303Z"
   },
   {
    "duration": 72,
    "start_time": "2023-12-06T11:14:37.385Z"
   },
   {
    "duration": 13,
    "start_time": "2023-12-06T11:15:49.654Z"
   },
   {
    "duration": 12,
    "start_time": "2023-12-06T11:16:39.276Z"
   },
   {
    "duration": 12,
    "start_time": "2023-12-06T11:17:04.927Z"
   },
   {
    "duration": 11,
    "start_time": "2023-12-06T11:17:37.453Z"
   },
   {
    "duration": 1299,
    "start_time": "2023-12-06T11:18:28.228Z"
   },
   {
    "duration": 12,
    "start_time": "2023-12-06T11:18:42.828Z"
   },
   {
    "duration": 11,
    "start_time": "2023-12-06T11:21:12.183Z"
   },
   {
    "duration": 11,
    "start_time": "2023-12-06T11:22:26.974Z"
   },
   {
    "duration": 11,
    "start_time": "2023-12-06T11:22:58.917Z"
   },
   {
    "duration": 4,
    "start_time": "2023-12-06T11:23:09.457Z"
   },
   {
    "duration": 398,
    "start_time": "2023-12-06T11:23:13.167Z"
   },
   {
    "duration": 22,
    "start_time": "2023-12-06T11:23:16.912Z"
   },
   {
    "duration": 27,
    "start_time": "2023-12-06T11:23:18.800Z"
   },
   {
    "duration": 22,
    "start_time": "2023-12-06T11:24:52.397Z"
   },
   {
    "duration": 3,
    "start_time": "2023-12-06T11:25:16.013Z"
   },
   {
    "duration": 23,
    "start_time": "2023-12-06T11:25:18.633Z"
   },
   {
    "duration": 524,
    "start_time": "2023-12-06T11:25:34.968Z"
   },
   {
    "duration": 13,
    "start_time": "2023-12-06T11:27:32.776Z"
   },
   {
    "duration": 548,
    "start_time": "2023-12-06T11:27:52.079Z"
   },
   {
    "duration": 377,
    "start_time": "2023-12-06T11:30:27.487Z"
   },
   {
    "duration": 362,
    "start_time": "2023-12-06T11:31:29.051Z"
   },
   {
    "duration": 361,
    "start_time": "2023-12-06T12:11:36.897Z"
   },
   {
    "duration": 338,
    "start_time": "2023-12-06T12:12:01.790Z"
   },
   {
    "duration": 330,
    "start_time": "2023-12-06T12:12:12.613Z"
   },
   {
    "duration": 1197,
    "start_time": "2023-12-06T12:51:19.273Z"
   },
   {
    "duration": 56,
    "start_time": "2023-12-06T12:51:20.472Z"
   },
   {
    "duration": 22,
    "start_time": "2023-12-06T12:51:20.530Z"
   },
   {
    "duration": 36,
    "start_time": "2023-12-06T12:51:20.553Z"
   },
   {
    "duration": 20,
    "start_time": "2023-12-06T12:51:20.591Z"
   },
   {
    "duration": 53,
    "start_time": "2023-12-06T12:51:20.613Z"
   },
   {
    "duration": 49,
    "start_time": "2023-12-06T12:51:20.667Z"
   },
   {
    "duration": 26,
    "start_time": "2023-12-06T12:51:20.717Z"
   },
   {
    "duration": 379,
    "start_time": "2023-12-06T12:51:20.744Z"
   },
   {
    "duration": 445,
    "start_time": "2023-12-06T12:51:21.125Z"
   },
   {
    "duration": 23,
    "start_time": "2023-12-06T12:51:21.572Z"
   },
   {
    "duration": 472,
    "start_time": "2023-12-06T12:51:21.597Z"
   },
   {
    "duration": 15,
    "start_time": "2023-12-06T12:51:22.071Z"
   },
   {
    "duration": 459,
    "start_time": "2023-12-06T12:51:22.089Z"
   },
   {
    "duration": 6,
    "start_time": "2023-12-06T12:51:22.550Z"
   },
   {
    "duration": 25,
    "start_time": "2023-12-06T12:51:27.177Z"
   },
   {
    "duration": 7,
    "start_time": "2023-12-06T12:52:58.546Z"
   },
   {
    "duration": 7,
    "start_time": "2023-12-06T12:53:06.426Z"
   },
   {
    "duration": 24,
    "start_time": "2023-12-06T12:53:09.186Z"
   },
   {
    "duration": 7,
    "start_time": "2023-12-06T12:54:01.346Z"
   },
   {
    "duration": 368,
    "start_time": "2023-12-06T13:07:23.990Z"
   },
   {
    "duration": 16,
    "start_time": "2023-12-06T13:07:57.213Z"
   },
   {
    "duration": 367,
    "start_time": "2023-12-06T13:08:24.301Z"
   },
   {
    "duration": 317,
    "start_time": "2023-12-06T13:10:02.780Z"
   },
   {
    "duration": 389,
    "start_time": "2023-12-06T13:10:13.445Z"
   },
   {
    "duration": 318,
    "start_time": "2023-12-06T13:10:42.558Z"
   },
   {
    "duration": 358,
    "start_time": "2023-12-06T13:10:55.223Z"
   },
   {
    "duration": 294,
    "start_time": "2023-12-06T13:11:06.102Z"
   },
   {
    "duration": 97,
    "start_time": "2023-12-06T13:52:41.917Z"
   },
   {
    "duration": 9,
    "start_time": "2023-12-06T13:53:04.724Z"
   },
   {
    "duration": 14,
    "start_time": "2023-12-06T13:53:59.598Z"
   },
   {
    "duration": 284,
    "start_time": "2023-12-06T13:54:01.699Z"
   },
   {
    "duration": 15,
    "start_time": "2023-12-06T13:54:11.849Z"
   },
   {
    "duration": 34,
    "start_time": "2023-12-06T14:22:54.457Z"
   },
   {
    "duration": 15,
    "start_time": "2023-12-06T14:23:20.831Z"
   },
   {
    "duration": 13,
    "start_time": "2023-12-06T14:28:16.474Z"
   },
   {
    "duration": 81,
    "start_time": "2023-12-06T14:29:15.846Z"
   },
   {
    "duration": 77,
    "start_time": "2023-12-06T14:29:41.126Z"
   },
   {
    "duration": 27,
    "start_time": "2023-12-06T14:30:25.641Z"
   },
   {
    "duration": 50,
    "start_time": "2023-12-06T14:34:53.356Z"
   },
   {
    "duration": 35,
    "start_time": "2023-12-06T14:45:01.150Z"
   },
   {
    "duration": 46,
    "start_time": "2023-12-06T14:45:06.177Z"
   },
   {
    "duration": 18,
    "start_time": "2023-12-06T14:48:14.486Z"
   },
   {
    "duration": 1201,
    "start_time": "2023-12-06T14:48:23.160Z"
   },
   {
    "duration": 48,
    "start_time": "2023-12-06T14:48:30.679Z"
   },
   {
    "duration": 284,
    "start_time": "2023-12-06T15:04:47.507Z"
   },
   {
    "duration": 353,
    "start_time": "2023-12-06T15:47:37.660Z"
   },
   {
    "duration": 341,
    "start_time": "2023-12-06T15:48:15.566Z"
   },
   {
    "duration": 329,
    "start_time": "2023-12-06T16:03:45.179Z"
   },
   {
    "duration": 10,
    "start_time": "2023-12-06T17:28:40.448Z"
   },
   {
    "duration": 400,
    "start_time": "2023-12-06T17:30:25.776Z"
   },
   {
    "duration": 21,
    "start_time": "2023-12-06T17:30:44.193Z"
   },
   {
    "duration": 176,
    "start_time": "2023-12-06T17:33:37.783Z"
   },
   {
    "duration": 9,
    "start_time": "2023-12-06T17:34:35.482Z"
   },
   {
    "duration": 12,
    "start_time": "2023-12-06T17:34:54.203Z"
   },
   {
    "duration": 1158,
    "start_time": "2023-12-06T17:36:40.728Z"
   },
   {
    "duration": 54,
    "start_time": "2023-12-06T17:36:41.888Z"
   },
   {
    "duration": 22,
    "start_time": "2023-12-06T17:36:41.943Z"
   },
   {
    "duration": 35,
    "start_time": "2023-12-06T17:36:41.967Z"
   },
   {
    "duration": 8,
    "start_time": "2023-12-06T17:36:42.005Z"
   },
   {
    "duration": 4,
    "start_time": "2023-12-06T17:36:42.015Z"
   },
   {
    "duration": 53,
    "start_time": "2023-12-06T17:36:42.021Z"
   },
   {
    "duration": 21,
    "start_time": "2023-12-06T17:36:42.076Z"
   },
   {
    "duration": 363,
    "start_time": "2023-12-06T17:36:42.098Z"
   },
   {
    "duration": 388,
    "start_time": "2023-12-06T17:36:42.463Z"
   },
   {
    "duration": 26,
    "start_time": "2023-12-06T17:36:42.852Z"
   },
   {
    "duration": 374,
    "start_time": "2023-12-06T17:36:42.880Z"
   },
   {
    "duration": 12,
    "start_time": "2023-12-06T17:36:43.257Z"
   },
   {
    "duration": 304,
    "start_time": "2023-12-06T17:36:43.271Z"
   },
   {
    "duration": 346,
    "start_time": "2023-12-06T17:36:43.577Z"
   },
   {
    "duration": 514,
    "start_time": "2023-12-06T17:36:43.924Z"
   },
   {
    "duration": 585,
    "start_time": "2023-12-06T17:37:07.438Z"
   },
   {
    "duration": 483,
    "start_time": "2023-12-06T17:38:55.665Z"
   },
   {
    "duration": 501,
    "start_time": "2023-12-06T17:39:12.750Z"
   },
   {
    "duration": 498,
    "start_time": "2023-12-06T17:39:18.517Z"
   },
   {
    "duration": 465,
    "start_time": "2023-12-06T17:39:25.767Z"
   },
   {
    "duration": 587,
    "start_time": "2023-12-06T17:39:35.615Z"
   },
   {
    "duration": 95,
    "start_time": "2023-12-06T17:40:35.930Z"
   },
   {
    "duration": 12,
    "start_time": "2023-12-06T17:40:45.234Z"
   },
   {
    "duration": 15,
    "start_time": "2023-12-06T17:41:06.557Z"
   },
   {
    "duration": 1144,
    "start_time": "2023-12-06T18:03:23.769Z"
   },
   {
    "duration": 55,
    "start_time": "2023-12-06T18:03:24.915Z"
   },
   {
    "duration": 21,
    "start_time": "2023-12-06T18:03:24.971Z"
   },
   {
    "duration": 35,
    "start_time": "2023-12-06T18:03:24.993Z"
   },
   {
    "duration": 30,
    "start_time": "2023-12-06T18:03:25.030Z"
   },
   {
    "duration": 12,
    "start_time": "2023-12-06T18:03:25.061Z"
   },
   {
    "duration": 34,
    "start_time": "2023-12-06T18:03:25.075Z"
   },
   {
    "duration": 22,
    "start_time": "2023-12-06T18:03:25.110Z"
   },
   {
    "duration": 364,
    "start_time": "2023-12-06T18:03:25.134Z"
   },
   {
    "duration": 431,
    "start_time": "2023-12-06T18:03:25.500Z"
   },
   {
    "duration": 33,
    "start_time": "2023-12-06T18:03:25.933Z"
   },
   {
    "duration": 381,
    "start_time": "2023-12-06T18:03:25.967Z"
   },
   {
    "duration": 18,
    "start_time": "2023-12-06T18:03:26.349Z"
   },
   {
    "duration": 306,
    "start_time": "2023-12-06T18:03:26.369Z"
   },
   {
    "duration": 349,
    "start_time": "2023-12-06T18:03:26.677Z"
   },
   {
    "duration": 119,
    "start_time": "2023-12-06T18:03:27.028Z"
   },
   {
    "duration": 11,
    "start_time": "2023-12-06T18:05:23.879Z"
   },
   {
    "duration": 504,
    "start_time": "2023-12-06T18:06:24.335Z"
   },
   {
    "duration": 17,
    "start_time": "2023-12-06T18:24:50.825Z"
   },
   {
    "duration": 21,
    "start_time": "2023-12-06T18:25:09.804Z"
   },
   {
    "duration": 922,
    "start_time": "2023-12-06T18:25:39.386Z"
   },
   {
    "duration": 583,
    "start_time": "2023-12-06T18:25:55.432Z"
   },
   {
    "duration": 13,
    "start_time": "2023-12-06T18:28:17.651Z"
   },
   {
    "duration": 16,
    "start_time": "2023-12-06T18:28:27.717Z"
   },
   {
    "duration": 15,
    "start_time": "2023-12-06T18:46:10.390Z"
   },
   {
    "duration": 865,
    "start_time": "2023-12-06T18:48:26.920Z"
   },
   {
    "duration": 4,
    "start_time": "2023-12-06T18:58:55.521Z"
   },
   {
    "duration": 12,
    "start_time": "2023-12-06T18:59:00.011Z"
   },
   {
    "duration": 520,
    "start_time": "2023-12-06T19:00:56.928Z"
   },
   {
    "duration": 7,
    "start_time": "2023-12-06T19:12:33.774Z"
   },
   {
    "duration": 24,
    "start_time": "2023-12-06T19:15:59.336Z"
   },
   {
    "duration": 25,
    "start_time": "2023-12-06T19:26:30.766Z"
   },
   {
    "duration": 571,
    "start_time": "2023-12-06T19:26:45.818Z"
   },
   {
    "duration": 1788,
    "start_time": "2023-12-06T19:27:01.952Z"
   },
   {
    "duration": 806,
    "start_time": "2023-12-06T19:27:16.013Z"
   },
   {
    "duration": 757,
    "start_time": "2023-12-06T19:29:28.702Z"
   },
   {
    "duration": 845,
    "start_time": "2023-12-06T19:29:38.934Z"
   },
   {
    "duration": 823,
    "start_time": "2023-12-06T19:30:14.365Z"
   },
   {
    "duration": 791,
    "start_time": "2023-12-06T19:48:49.710Z"
   },
   {
    "duration": 181,
    "start_time": "2023-12-06T19:49:13.202Z"
   },
   {
    "duration": 677,
    "start_time": "2023-12-06T19:49:25.313Z"
   },
   {
    "duration": 14,
    "start_time": "2023-12-06T19:51:27.894Z"
   },
   {
    "duration": 694,
    "start_time": "2023-12-06T19:51:33.952Z"
   },
   {
    "duration": 664,
    "start_time": "2023-12-06T19:51:38.438Z"
   },
   {
    "duration": 678,
    "start_time": "2023-12-06T19:51:50.179Z"
   },
   {
    "duration": 272,
    "start_time": "2023-12-06T19:51:59.054Z"
   },
   {
    "duration": 214,
    "start_time": "2023-12-06T19:52:03.960Z"
   },
   {
    "duration": 361,
    "start_time": "2023-12-06T19:52:13.390Z"
   },
   {
    "duration": 450,
    "start_time": "2023-12-06T19:52:31.502Z"
   },
   {
    "duration": 243,
    "start_time": "2023-12-06T19:54:06.651Z"
   },
   {
    "duration": 12,
    "start_time": "2023-12-06T19:55:50.693Z"
   },
   {
    "duration": 421,
    "start_time": "2023-12-06T19:56:30.429Z"
   },
   {
    "duration": 423,
    "start_time": "2023-12-06T19:56:42.850Z"
   },
   {
    "duration": 421,
    "start_time": "2023-12-06T19:56:47.650Z"
   },
   {
    "duration": 492,
    "start_time": "2023-12-06T19:57:42.639Z"
   },
   {
    "duration": 242,
    "start_time": "2023-12-06T19:57:52.994Z"
   },
   {
    "duration": 732,
    "start_time": "2023-12-06T19:58:04.473Z"
   },
   {
    "duration": 733,
    "start_time": "2023-12-06T19:59:52.464Z"
   },
   {
    "duration": 739,
    "start_time": "2023-12-06T20:01:10.581Z"
   },
   {
    "duration": 719,
    "start_time": "2023-12-06T20:05:30.168Z"
   },
   {
    "duration": 833,
    "start_time": "2023-12-06T20:06:08.986Z"
   },
   {
    "duration": 719,
    "start_time": "2023-12-06T20:07:08.350Z"
   },
   {
    "duration": 730,
    "start_time": "2023-12-06T20:07:31.174Z"
   },
   {
    "duration": 761,
    "start_time": "2023-12-06T20:09:05.600Z"
   },
   {
    "duration": 730,
    "start_time": "2023-12-06T20:09:20.945Z"
   },
   {
    "duration": 737,
    "start_time": "2023-12-06T20:09:31.326Z"
   },
   {
    "duration": 49,
    "start_time": "2023-12-07T11:48:40.412Z"
   },
   {
    "duration": 1378,
    "start_time": "2023-12-07T11:48:52.781Z"
   },
   {
    "duration": 192,
    "start_time": "2023-12-07T11:48:54.161Z"
   },
   {
    "duration": 26,
    "start_time": "2023-12-07T11:48:54.355Z"
   },
   {
    "duration": 63,
    "start_time": "2023-12-07T11:48:54.384Z"
   },
   {
    "duration": 7,
    "start_time": "2023-12-07T11:48:54.449Z"
   },
   {
    "duration": 8,
    "start_time": "2023-12-07T11:48:54.457Z"
   },
   {
    "duration": 29,
    "start_time": "2023-12-07T11:48:54.467Z"
   },
   {
    "duration": 20,
    "start_time": "2023-12-07T11:48:54.498Z"
   },
   {
    "duration": 365,
    "start_time": "2023-12-07T11:48:54.519Z"
   },
   {
    "duration": 513,
    "start_time": "2023-12-07T11:48:54.886Z"
   },
   {
    "duration": 23,
    "start_time": "2023-12-07T11:48:55.400Z"
   },
   {
    "duration": 440,
    "start_time": "2023-12-07T11:48:55.424Z"
   },
   {
    "duration": 12,
    "start_time": "2023-12-07T11:48:55.868Z"
   },
   {
    "duration": 350,
    "start_time": "2023-12-07T11:48:55.882Z"
   },
   {
    "duration": 355,
    "start_time": "2023-12-07T11:48:56.234Z"
   },
   {
    "duration": 409,
    "start_time": "2023-12-07T11:48:56.591Z"
   },
   {
    "duration": 967,
    "start_time": "2023-12-07T11:48:57.002Z"
   },
   {
    "duration": 790,
    "start_time": "2023-12-07T11:49:15.682Z"
   },
   {
    "duration": 722,
    "start_time": "2023-12-07T11:54:10.307Z"
   },
   {
    "duration": 735,
    "start_time": "2023-12-07T11:54:16.979Z"
   },
   {
    "duration": 751,
    "start_time": "2023-12-07T11:55:55.304Z"
   },
   {
    "duration": 783,
    "start_time": "2023-12-07T11:56:08.379Z"
   },
   {
    "duration": 1024,
    "start_time": "2023-12-07T12:04:27.802Z"
   },
   {
    "duration": 74,
    "start_time": "2023-12-07T12:08:09.633Z"
   },
   {
    "duration": 51,
    "start_time": "2023-12-07T12:08:21.151Z"
   },
   {
    "duration": 749,
    "start_time": "2023-12-07T12:08:24.343Z"
   },
   {
    "duration": 755,
    "start_time": "2023-12-07T12:08:36.017Z"
   },
   {
    "duration": 774,
    "start_time": "2023-12-07T12:10:48.124Z"
   },
   {
    "duration": 715,
    "start_time": "2023-12-07T12:10:56.282Z"
   },
   {
    "duration": 756,
    "start_time": "2023-12-07T12:15:47.455Z"
   },
   {
    "duration": 930,
    "start_time": "2023-12-07T12:16:51.796Z"
   },
   {
    "duration": 740,
    "start_time": "2023-12-07T12:16:59.267Z"
   },
   {
    "duration": 270,
    "start_time": "2023-12-07T12:17:06.572Z"
   },
   {
    "duration": 218,
    "start_time": "2023-12-07T12:17:21.004Z"
   },
   {
    "duration": 213,
    "start_time": "2023-12-07T12:33:31.083Z"
   },
   {
    "duration": 196,
    "start_time": "2023-12-07T12:33:46.360Z"
   },
   {
    "duration": 783,
    "start_time": "2023-12-07T12:34:01.293Z"
   },
   {
    "duration": 206,
    "start_time": "2023-12-07T12:48:02.627Z"
   },
   {
    "duration": 679,
    "start_time": "2023-12-07T12:48:39.437Z"
   },
   {
    "duration": 16,
    "start_time": "2023-12-07T13:21:22.940Z"
   },
   {
    "duration": 15,
    "start_time": "2023-12-07T13:21:31.307Z"
   },
   {
    "duration": 50,
    "start_time": "2023-12-07T13:24:32.936Z"
   },
   {
    "duration": 62,
    "start_time": "2023-12-07T13:24:37.609Z"
   },
   {
    "duration": 194,
    "start_time": "2023-12-07T13:24:40.610Z"
   },
   {
    "duration": 55,
    "start_time": "2023-12-07T13:24:52.305Z"
   },
   {
    "duration": 211,
    "start_time": "2023-12-07T13:24:59.835Z"
   },
   {
    "duration": 197,
    "start_time": "2023-12-07T13:25:27.994Z"
   },
   {
    "duration": 58,
    "start_time": "2023-12-07T13:25:35.164Z"
   },
   {
    "duration": 296,
    "start_time": "2023-12-07T13:27:13.501Z"
   },
   {
    "duration": 201,
    "start_time": "2023-12-07T13:28:07.253Z"
   },
   {
    "duration": 772,
    "start_time": "2023-12-07T13:35:49.020Z"
   },
   {
    "duration": 769,
    "start_time": "2023-12-07T13:36:04.916Z"
   },
   {
    "duration": 209,
    "start_time": "2023-12-07T13:36:22.189Z"
   },
   {
    "duration": 695,
    "start_time": "2023-12-07T13:36:44.722Z"
   },
   {
    "duration": 213,
    "start_time": "2023-12-07T13:37:00.535Z"
   },
   {
    "duration": 5,
    "start_time": "2023-12-07T13:51:18.107Z"
   },
   {
    "duration": 13,
    "start_time": "2023-12-07T13:55:49.719Z"
   },
   {
    "duration": 10,
    "start_time": "2023-12-07T13:56:01.111Z"
   },
   {
    "duration": 12,
    "start_time": "2023-12-07T13:56:05.245Z"
   },
   {
    "duration": 11,
    "start_time": "2023-12-07T13:56:16.752Z"
   },
   {
    "duration": 12,
    "start_time": "2023-12-07T13:56:19.826Z"
   },
   {
    "duration": 5,
    "start_time": "2023-12-07T13:56:52.102Z"
   },
   {
    "duration": 9,
    "start_time": "2023-12-07T13:56:55.969Z"
   },
   {
    "duration": 7,
    "start_time": "2023-12-07T13:57:31.011Z"
   },
   {
    "duration": 5,
    "start_time": "2023-12-07T14:00:53.961Z"
   },
   {
    "duration": 46,
    "start_time": "2023-12-07T17:25:55.807Z"
   },
   {
    "duration": 1262,
    "start_time": "2023-12-07T17:26:02.710Z"
   },
   {
    "duration": 93,
    "start_time": "2023-12-07T17:26:03.974Z"
   },
   {
    "duration": 19,
    "start_time": "2023-12-07T17:26:04.069Z"
   },
   {
    "duration": 50,
    "start_time": "2023-12-07T17:26:04.089Z"
   },
   {
    "duration": 1503,
    "start_time": "2023-12-07T17:26:04.141Z"
   },
   {
    "duration": 0,
    "start_time": "2023-12-07T17:26:05.646Z"
   },
   {
    "duration": 0,
    "start_time": "2023-12-07T17:26:05.647Z"
   },
   {
    "duration": 0,
    "start_time": "2023-12-07T17:26:05.649Z"
   },
   {
    "duration": 0,
    "start_time": "2023-12-07T17:26:05.650Z"
   },
   {
    "duration": 0,
    "start_time": "2023-12-07T17:26:05.651Z"
   },
   {
    "duration": 0,
    "start_time": "2023-12-07T17:26:05.652Z"
   },
   {
    "duration": 0,
    "start_time": "2023-12-07T17:26:05.654Z"
   },
   {
    "duration": 0,
    "start_time": "2023-12-07T17:26:05.655Z"
   },
   {
    "duration": 0,
    "start_time": "2023-12-07T17:26:05.656Z"
   },
   {
    "duration": 0,
    "start_time": "2023-12-07T17:26:05.658Z"
   },
   {
    "duration": 0,
    "start_time": "2023-12-07T17:26:05.660Z"
   },
   {
    "duration": 0,
    "start_time": "2023-12-07T17:26:05.661Z"
   },
   {
    "duration": 0,
    "start_time": "2023-12-07T17:26:05.663Z"
   },
   {
    "duration": 0,
    "start_time": "2023-12-07T17:26:05.663Z"
   },
   {
    "duration": 0,
    "start_time": "2023-12-07T17:26:05.665Z"
   },
   {
    "duration": 0,
    "start_time": "2023-12-07T17:26:05.665Z"
   },
   {
    "duration": 0,
    "start_time": "2023-12-07T17:26:05.666Z"
   },
   {
    "duration": 0,
    "start_time": "2023-12-07T17:26:05.667Z"
   },
   {
    "duration": 0,
    "start_time": "2023-12-07T17:26:05.668Z"
   },
   {
    "duration": 0,
    "start_time": "2023-12-07T17:26:05.669Z"
   },
   {
    "duration": 1060,
    "start_time": "2023-12-07T17:26:43.415Z"
   },
   {
    "duration": 51,
    "start_time": "2023-12-07T17:26:44.477Z"
   },
   {
    "duration": 21,
    "start_time": "2023-12-07T17:26:44.531Z"
   },
   {
    "duration": 35,
    "start_time": "2023-12-07T17:26:44.554Z"
   },
   {
    "duration": 7,
    "start_time": "2023-12-07T17:26:44.590Z"
   },
   {
    "duration": 8,
    "start_time": "2023-12-07T17:26:44.599Z"
   },
   {
    "duration": 29,
    "start_time": "2023-12-07T17:26:44.608Z"
   },
   {
    "duration": 19,
    "start_time": "2023-12-07T17:26:44.639Z"
   },
   {
    "duration": 343,
    "start_time": "2023-12-07T17:26:44.660Z"
   },
   {
    "duration": 396,
    "start_time": "2023-12-07T17:26:45.005Z"
   },
   {
    "duration": 22,
    "start_time": "2023-12-07T17:26:45.403Z"
   },
   {
    "duration": 408,
    "start_time": "2023-12-07T17:26:45.426Z"
   },
   {
    "duration": 13,
    "start_time": "2023-12-07T17:26:45.837Z"
   },
   {
    "duration": 293,
    "start_time": "2023-12-07T17:26:45.851Z"
   },
   {
    "duration": 316,
    "start_time": "2023-12-07T17:26:46.146Z"
   },
   {
    "duration": 400,
    "start_time": "2023-12-07T17:26:46.464Z"
   },
   {
    "duration": 781,
    "start_time": "2023-12-07T17:26:46.866Z"
   },
   {
    "duration": 205,
    "start_time": "2023-12-07T17:26:47.649Z"
   },
   {
    "duration": 643,
    "start_time": "2023-12-07T17:26:47.856Z"
   },
   {
    "duration": 200,
    "start_time": "2023-12-07T17:26:48.501Z"
   },
   {
    "duration": 190,
    "start_time": "2023-12-07T17:26:48.703Z"
   },
   {
    "duration": 7,
    "start_time": "2023-12-07T17:26:48.894Z"
   },
   {
    "duration": 28,
    "start_time": "2023-12-07T17:26:48.903Z"
   },
   {
    "duration": 14,
    "start_time": "2023-12-07T17:26:48.932Z"
   },
   {
    "duration": 6,
    "start_time": "2023-12-07T17:27:00.670Z"
   },
   {
    "duration": 7,
    "start_time": "2023-12-07T17:27:05.228Z"
   },
   {
    "duration": 5,
    "start_time": "2023-12-07T17:28:16.215Z"
   },
   {
    "duration": 331,
    "start_time": "2023-12-07T17:48:36.896Z"
   },
   {
    "duration": 397,
    "start_time": "2023-12-07T17:48:40.970Z"
   },
   {
    "duration": 705,
    "start_time": "2023-12-07T17:48:44.014Z"
   },
   {
    "duration": 217,
    "start_time": "2023-12-07T17:48:47.599Z"
   },
   {
    "duration": 715,
    "start_time": "2023-12-07T17:48:56.730Z"
   },
   {
    "duration": 197,
    "start_time": "2023-12-07T17:48:59.275Z"
   },
   {
    "duration": 189,
    "start_time": "2023-12-07T17:49:02.580Z"
   },
   {
    "duration": 7,
    "start_time": "2023-12-07T17:49:07.275Z"
   },
   {
    "duration": 7,
    "start_time": "2023-12-07T17:49:08.936Z"
   },
   {
    "duration": 7,
    "start_time": "2023-12-07T17:56:36.661Z"
   },
   {
    "duration": 6,
    "start_time": "2023-12-07T17:56:38.824Z"
   },
   {
    "duration": 92,
    "start_time": "2023-12-07T17:58:47.362Z"
   },
   {
    "duration": 100,
    "start_time": "2023-12-07T18:31:21.141Z"
   },
   {
    "duration": 97,
    "start_time": "2023-12-07T18:31:34.370Z"
   },
   {
    "duration": 82,
    "start_time": "2023-12-07T18:31:39.426Z"
   },
   {
    "duration": 96,
    "start_time": "2023-12-07T18:32:01.829Z"
   },
   {
    "duration": 127,
    "start_time": "2023-12-07T18:32:07.824Z"
   },
   {
    "duration": 132,
    "start_time": "2023-12-07T18:32:28.278Z"
   },
   {
    "duration": 128,
    "start_time": "2023-12-07T18:32:40.408Z"
   },
   {
    "duration": 108,
    "start_time": "2023-12-07T18:32:48.390Z"
   },
   {
    "duration": 176,
    "start_time": "2023-12-07T18:32:58.087Z"
   },
   {
    "duration": 100,
    "start_time": "2023-12-07T18:33:17.468Z"
   },
   {
    "duration": 111,
    "start_time": "2023-12-07T18:33:19.806Z"
   },
   {
    "duration": 113,
    "start_time": "2023-12-07T18:41:41.883Z"
   },
   {
    "duration": 114,
    "start_time": "2023-12-07T18:42:01.536Z"
   },
   {
    "duration": 50,
    "start_time": "2023-12-08T08:16:56.431Z"
   },
   {
    "duration": 1306,
    "start_time": "2023-12-08T08:17:02.262Z"
   },
   {
    "duration": 89,
    "start_time": "2023-12-08T08:17:03.569Z"
   },
   {
    "duration": 18,
    "start_time": "2023-12-08T08:17:03.660Z"
   },
   {
    "duration": 40,
    "start_time": "2023-12-08T08:17:03.680Z"
   },
   {
    "duration": 19,
    "start_time": "2023-12-08T08:17:03.721Z"
   },
   {
    "duration": 33,
    "start_time": "2023-12-08T08:17:03.741Z"
   },
   {
    "duration": 37,
    "start_time": "2023-12-08T08:17:03.775Z"
   },
   {
    "duration": 23,
    "start_time": "2023-12-08T08:17:03.813Z"
   },
   {
    "duration": 306,
    "start_time": "2023-12-08T08:17:03.838Z"
   },
   {
    "duration": 418,
    "start_time": "2023-12-08T08:17:04.147Z"
   },
   {
    "duration": 19,
    "start_time": "2023-12-08T08:17:04.569Z"
   },
   {
    "duration": 362,
    "start_time": "2023-12-08T08:17:04.589Z"
   },
   {
    "duration": 21,
    "start_time": "2023-12-08T08:17:04.953Z"
   },
   {
    "duration": 270,
    "start_time": "2023-12-08T08:17:04.975Z"
   },
   {
    "duration": 117,
    "start_time": "2023-12-08T08:17:05.247Z"
   },
   {
    "duration": 0,
    "start_time": "2023-12-08T08:17:05.366Z"
   },
   {
    "duration": 0,
    "start_time": "2023-12-08T08:17:05.369Z"
   },
   {
    "duration": 0,
    "start_time": "2023-12-08T08:17:05.370Z"
   },
   {
    "duration": 0,
    "start_time": "2023-12-08T08:17:05.371Z"
   },
   {
    "duration": 0,
    "start_time": "2023-12-08T08:17:05.372Z"
   },
   {
    "duration": 0,
    "start_time": "2023-12-08T08:17:05.373Z"
   },
   {
    "duration": 0,
    "start_time": "2023-12-08T08:17:05.374Z"
   },
   {
    "duration": 0,
    "start_time": "2023-12-08T08:17:05.375Z"
   },
   {
    "duration": 0,
    "start_time": "2023-12-08T08:17:05.376Z"
   },
   {
    "duration": 20,
    "start_time": "2023-12-08T08:17:44.801Z"
   },
   {
    "duration": 304,
    "start_time": "2023-12-08T08:17:50.318Z"
   },
   {
    "duration": 397,
    "start_time": "2023-12-08T08:18:00.447Z"
   },
   {
    "duration": 719,
    "start_time": "2023-12-08T08:18:02.929Z"
   },
   {
    "duration": 203,
    "start_time": "2023-12-08T08:18:05.956Z"
   },
   {
    "duration": 595,
    "start_time": "2023-12-08T08:18:08.965Z"
   },
   {
    "duration": 192,
    "start_time": "2023-12-08T08:18:11.040Z"
   },
   {
    "duration": 177,
    "start_time": "2023-12-08T08:18:13.247Z"
   },
   {
    "duration": 101,
    "start_time": "2023-12-08T08:18:18.253Z"
   },
   {
    "duration": 99,
    "start_time": "2023-12-08T08:18:23.526Z"
   },
   {
    "duration": 96,
    "start_time": "2023-12-08T08:18:27.326Z"
   },
   {
    "duration": 108,
    "start_time": "2023-12-08T08:28:09.735Z"
   },
   {
    "duration": 102,
    "start_time": "2023-12-08T08:29:16.862Z"
   },
   {
    "duration": 154,
    "start_time": "2023-12-08T08:29:19.909Z"
   },
   {
    "duration": 101,
    "start_time": "2023-12-08T08:29:39.878Z"
   },
   {
    "duration": 101,
    "start_time": "2023-12-08T08:29:49.496Z"
   },
   {
    "duration": 105,
    "start_time": "2023-12-08T08:30:02.837Z"
   },
   {
    "duration": 103,
    "start_time": "2023-12-08T08:30:47.132Z"
   },
   {
    "duration": 102,
    "start_time": "2023-12-08T08:35:30.837Z"
   },
   {
    "duration": 100,
    "start_time": "2023-12-08T08:35:59.104Z"
   },
   {
    "duration": 91,
    "start_time": "2023-12-08T08:36:43.455Z"
   },
   {
    "duration": 3,
    "start_time": "2023-12-08T08:50:31.130Z"
   },
   {
    "duration": 8,
    "start_time": "2023-12-08T08:55:41.770Z"
   },
   {
    "duration": 21,
    "start_time": "2023-12-08T09:13:18.798Z"
   },
   {
    "duration": 18,
    "start_time": "2023-12-08T09:13:50.327Z"
   },
   {
    "duration": 1150,
    "start_time": "2023-12-08T09:14:59.254Z"
   },
   {
    "duration": 17,
    "start_time": "2023-12-08T09:15:11.539Z"
   },
   {
    "duration": 114,
    "start_time": "2023-12-08T09:15:41.296Z"
   },
   {
    "duration": 104,
    "start_time": "2023-12-08T09:15:49.863Z"
   },
   {
    "duration": 1062,
    "start_time": "2023-12-08T09:16:32.770Z"
   },
   {
    "duration": 131,
    "start_time": "2023-12-08T09:16:48.063Z"
   },
   {
    "duration": 8,
    "start_time": "2023-12-08T09:17:10.316Z"
   },
   {
    "duration": 9,
    "start_time": "2023-12-08T09:17:43.496Z"
   },
   {
    "duration": 101,
    "start_time": "2023-12-08T09:17:54.775Z"
   },
   {
    "duration": 12,
    "start_time": "2023-12-08T09:18:26.661Z"
   },
   {
    "duration": 10,
    "start_time": "2023-12-08T09:18:45.532Z"
   },
   {
    "duration": 102,
    "start_time": "2023-12-08T09:18:50.950Z"
   },
   {
    "duration": 100,
    "start_time": "2023-12-08T09:20:58.423Z"
   },
   {
    "duration": 13,
    "start_time": "2023-12-08T09:21:31.922Z"
   },
   {
    "duration": 12,
    "start_time": "2023-12-08T09:21:34.971Z"
   },
   {
    "duration": 13,
    "start_time": "2023-12-08T09:21:49.760Z"
   },
   {
    "duration": 21,
    "start_time": "2023-12-08T09:25:31.703Z"
   },
   {
    "duration": 20,
    "start_time": "2023-12-08T09:26:17.165Z"
   },
   {
    "duration": 19,
    "start_time": "2023-12-08T09:26:25.552Z"
   },
   {
    "duration": 15,
    "start_time": "2023-12-08T09:26:39.456Z"
   },
   {
    "duration": 102,
    "start_time": "2023-12-08T09:26:45.044Z"
   },
   {
    "duration": 103,
    "start_time": "2023-12-08T09:27:01.930Z"
   },
   {
    "duration": 18,
    "start_time": "2023-12-08T09:29:15.590Z"
   },
   {
    "duration": 11,
    "start_time": "2023-12-08T09:34:29.296Z"
   },
   {
    "duration": 20,
    "start_time": "2023-12-08T09:36:56.284Z"
   },
   {
    "duration": 1284,
    "start_time": "2023-12-08T09:42:10.935Z"
   },
   {
    "duration": 1135,
    "start_time": "2023-12-08T09:42:22.735Z"
   },
   {
    "duration": 52,
    "start_time": "2023-12-08T09:42:23.872Z"
   },
   {
    "duration": 18,
    "start_time": "2023-12-08T09:42:23.925Z"
   },
   {
    "duration": 131,
    "start_time": "2023-12-08T09:42:23.945Z"
   },
   {
    "duration": 0,
    "start_time": "2023-12-08T09:42:24.080Z"
   },
   {
    "duration": 0,
    "start_time": "2023-12-08T09:42:24.081Z"
   },
   {
    "duration": 0,
    "start_time": "2023-12-08T09:42:24.082Z"
   },
   {
    "duration": 0,
    "start_time": "2023-12-08T09:42:24.084Z"
   },
   {
    "duration": 0,
    "start_time": "2023-12-08T09:42:24.085Z"
   },
   {
    "duration": 0,
    "start_time": "2023-12-08T09:42:24.087Z"
   },
   {
    "duration": 0,
    "start_time": "2023-12-08T09:42:24.088Z"
   },
   {
    "duration": 0,
    "start_time": "2023-12-08T09:42:24.089Z"
   },
   {
    "duration": 0,
    "start_time": "2023-12-08T09:42:24.091Z"
   },
   {
    "duration": 1,
    "start_time": "2023-12-08T09:42:24.092Z"
   },
   {
    "duration": 0,
    "start_time": "2023-12-08T09:42:24.094Z"
   },
   {
    "duration": 0,
    "start_time": "2023-12-08T09:42:24.095Z"
   },
   {
    "duration": 0,
    "start_time": "2023-12-08T09:42:24.097Z"
   },
   {
    "duration": 0,
    "start_time": "2023-12-08T09:42:24.098Z"
   },
   {
    "duration": 0,
    "start_time": "2023-12-08T09:42:24.099Z"
   },
   {
    "duration": 0,
    "start_time": "2023-12-08T09:42:24.101Z"
   },
   {
    "duration": 0,
    "start_time": "2023-12-08T09:42:24.102Z"
   },
   {
    "duration": 0,
    "start_time": "2023-12-08T09:42:24.103Z"
   },
   {
    "duration": 0,
    "start_time": "2023-12-08T09:42:24.105Z"
   },
   {
    "duration": 0,
    "start_time": "2023-12-08T09:42:24.106Z"
   },
   {
    "duration": 0,
    "start_time": "2023-12-08T09:42:24.107Z"
   },
   {
    "duration": 0,
    "start_time": "2023-12-08T09:42:24.109Z"
   },
   {
    "duration": 0,
    "start_time": "2023-12-08T09:42:24.110Z"
   },
   {
    "duration": 0,
    "start_time": "2023-12-08T09:42:24.111Z"
   },
   {
    "duration": 0,
    "start_time": "2023-12-08T09:42:24.112Z"
   },
   {
    "duration": 0,
    "start_time": "2023-12-08T09:42:24.113Z"
   },
   {
    "duration": 0,
    "start_time": "2023-12-08T09:42:24.115Z"
   },
   {
    "duration": 0,
    "start_time": "2023-12-08T09:42:24.170Z"
   },
   {
    "duration": 10,
    "start_time": "2023-12-08T09:43:12.898Z"
   },
   {
    "duration": 1063,
    "start_time": "2023-12-08T09:43:23.924Z"
   },
   {
    "duration": 53,
    "start_time": "2023-12-08T09:43:24.991Z"
   },
   {
    "duration": 19,
    "start_time": "2023-12-08T09:43:25.045Z"
   },
   {
    "duration": 42,
    "start_time": "2023-12-08T09:43:25.066Z"
   },
   {
    "duration": 6,
    "start_time": "2023-12-08T09:43:25.109Z"
   },
   {
    "duration": 15,
    "start_time": "2023-12-08T09:43:25.117Z"
   },
   {
    "duration": 24,
    "start_time": "2023-12-08T09:43:25.134Z"
   },
   {
    "duration": 16,
    "start_time": "2023-12-08T09:43:25.160Z"
   },
   {
    "duration": 287,
    "start_time": "2023-12-08T09:43:25.178Z"
   },
   {
    "duration": 358,
    "start_time": "2023-12-08T09:43:25.470Z"
   },
   {
    "duration": 20,
    "start_time": "2023-12-08T09:43:25.829Z"
   },
   {
    "duration": 383,
    "start_time": "2023-12-08T09:43:25.850Z"
   },
   {
    "duration": 12,
    "start_time": "2023-12-08T09:43:26.234Z"
   },
   {
    "duration": 270,
    "start_time": "2023-12-08T09:43:26.247Z"
   },
   {
    "duration": 319,
    "start_time": "2023-12-08T09:43:26.518Z"
   },
   {
    "duration": 389,
    "start_time": "2023-12-08T09:43:26.839Z"
   },
   {
    "duration": 750,
    "start_time": "2023-12-08T09:43:27.230Z"
   },
   {
    "duration": 202,
    "start_time": "2023-12-08T09:43:27.982Z"
   },
   {
    "duration": 607,
    "start_time": "2023-12-08T09:43:28.186Z"
   },
   {
    "duration": 208,
    "start_time": "2023-12-08T09:43:28.795Z"
   },
   {
    "duration": 180,
    "start_time": "2023-12-08T09:43:29.005Z"
   },
   {
    "duration": 107,
    "start_time": "2023-12-08T09:43:29.187Z"
   },
   {
    "duration": 108,
    "start_time": "2023-12-08T09:43:29.296Z"
   },
   {
    "duration": 110,
    "start_time": "2023-12-08T09:43:29.406Z"
   },
   {
    "duration": 114,
    "start_time": "2023-12-08T09:43:29.517Z"
   },
   {
    "duration": 111,
    "start_time": "2023-12-08T09:43:29.633Z"
   },
   {
    "duration": 177,
    "start_time": "2023-12-08T09:43:29.745Z"
   },
   {
    "duration": 106,
    "start_time": "2023-12-08T09:43:29.926Z"
   },
   {
    "duration": 112,
    "start_time": "2023-12-08T09:43:30.033Z"
   },
   {
    "duration": 102,
    "start_time": "2023-12-08T09:43:30.146Z"
   },
   {
    "duration": 217,
    "start_time": "2023-12-08T09:43:30.250Z"
   },
   {
    "duration": 0,
    "start_time": "2023-12-08T09:43:30.468Z"
   },
   {
    "duration": 15,
    "start_time": "2023-12-08T09:43:54.615Z"
   },
   {
    "duration": 21,
    "start_time": "2023-12-08T09:44:30.662Z"
   },
   {
    "duration": 14,
    "start_time": "2023-12-08T09:44:47.746Z"
   },
   {
    "duration": 13,
    "start_time": "2023-12-08T09:47:02.870Z"
   },
   {
    "duration": 13,
    "start_time": "2023-12-08T09:47:18.862Z"
   },
   {
    "duration": 12,
    "start_time": "2023-12-08T09:49:38.230Z"
   },
   {
    "duration": 18,
    "start_time": "2023-12-08T09:50:40.135Z"
   },
   {
    "duration": 14,
    "start_time": "2023-12-08T09:51:10.798Z"
   },
   {
    "duration": 21,
    "start_time": "2023-12-08T09:51:42.654Z"
   },
   {
    "duration": 4,
    "start_time": "2023-12-08T09:53:15.713Z"
   },
   {
    "duration": 18,
    "start_time": "2023-12-08T10:03:51.279Z"
   },
   {
    "duration": 90,
    "start_time": "2023-12-08T10:04:47.467Z"
   },
   {
    "duration": 4,
    "start_time": "2023-12-08T10:05:16.447Z"
   },
   {
    "duration": 5,
    "start_time": "2023-12-08T10:05:38.738Z"
   },
   {
    "duration": 5,
    "start_time": "2023-12-08T10:05:43.697Z"
   },
   {
    "duration": 4,
    "start_time": "2023-12-08T10:13:45.764Z"
   },
   {
    "duration": 404,
    "start_time": "2023-12-08T10:33:31.245Z"
   },
   {
    "duration": 363,
    "start_time": "2023-12-08T10:33:48.261Z"
   },
   {
    "duration": 309,
    "start_time": "2023-12-08T10:35:16.692Z"
   },
   {
    "duration": 311,
    "start_time": "2023-12-08T10:35:24.154Z"
   },
   {
    "duration": 1287,
    "start_time": "2023-12-08T10:49:28.534Z"
   },
   {
    "duration": 99,
    "start_time": "2023-12-08T10:49:29.823Z"
   },
   {
    "duration": 22,
    "start_time": "2023-12-08T10:49:29.924Z"
   },
   {
    "duration": 50,
    "start_time": "2023-12-08T10:49:29.948Z"
   },
   {
    "duration": 8,
    "start_time": "2023-12-08T10:49:30.001Z"
   },
   {
    "duration": 108,
    "start_time": "2023-12-08T10:49:30.011Z"
   },
   {
    "duration": 150,
    "start_time": "2023-12-08T10:49:30.121Z"
   },
   {
    "duration": 87,
    "start_time": "2023-12-08T10:49:30.273Z"
   },
   {
    "duration": 426,
    "start_time": "2023-12-08T10:49:30.362Z"
   },
   {
    "duration": 449,
    "start_time": "2023-12-08T10:49:30.792Z"
   },
   {
    "duration": 25,
    "start_time": "2023-12-08T10:49:31.242Z"
   },
   {
    "duration": 455,
    "start_time": "2023-12-08T10:49:31.269Z"
   },
   {
    "duration": 13,
    "start_time": "2023-12-08T10:49:31.726Z"
   },
   {
    "duration": 331,
    "start_time": "2023-12-08T10:49:31.742Z"
   },
   {
    "duration": 376,
    "start_time": "2023-12-08T10:49:32.075Z"
   },
   {
    "duration": 411,
    "start_time": "2023-12-08T10:49:32.453Z"
   },
   {
    "duration": 937,
    "start_time": "2023-12-08T10:49:32.865Z"
   },
   {
    "duration": 251,
    "start_time": "2023-12-08T10:49:33.804Z"
   },
   {
    "duration": 834,
    "start_time": "2023-12-08T10:49:34.057Z"
   },
   {
    "duration": 253,
    "start_time": "2023-12-08T10:49:34.893Z"
   },
   {
    "duration": 222,
    "start_time": "2023-12-08T10:49:35.149Z"
   },
   {
    "duration": 130,
    "start_time": "2023-12-08T10:49:35.373Z"
   },
   {
    "duration": 152,
    "start_time": "2023-12-08T10:49:35.505Z"
   },
   {
    "duration": 137,
    "start_time": "2023-12-08T10:49:35.659Z"
   },
   {
    "duration": 145,
    "start_time": "2023-12-08T10:49:35.798Z"
   },
   {
    "duration": 133,
    "start_time": "2023-12-08T10:49:35.945Z"
   },
   {
    "duration": 204,
    "start_time": "2023-12-08T10:49:36.080Z"
   },
   {
    "duration": 129,
    "start_time": "2023-12-08T10:49:36.286Z"
   },
   {
    "duration": 126,
    "start_time": "2023-12-08T10:49:36.421Z"
   },
   {
    "duration": 124,
    "start_time": "2023-12-08T10:49:36.549Z"
   },
   {
    "duration": 15,
    "start_time": "2023-12-08T10:49:36.675Z"
   },
   {
    "duration": 11,
    "start_time": "2023-12-08T10:49:36.691Z"
   },
   {
    "duration": 37,
    "start_time": "2023-12-08T10:49:36.704Z"
   },
   {
    "duration": 26,
    "start_time": "2023-12-08T10:49:36.743Z"
   },
   {
    "duration": 223,
    "start_time": "2023-12-08T11:06:53.211Z"
   },
   {
    "duration": 1294,
    "start_time": "2023-12-08T11:13:42.156Z"
   },
   {
    "duration": 59,
    "start_time": "2023-12-08T11:13:43.452Z"
   },
   {
    "duration": 22,
    "start_time": "2023-12-08T11:13:43.513Z"
   },
   {
    "duration": 38,
    "start_time": "2023-12-08T11:13:43.537Z"
   },
   {
    "duration": 9,
    "start_time": "2023-12-08T11:13:43.576Z"
   },
   {
    "duration": 5,
    "start_time": "2023-12-08T11:13:43.587Z"
   },
   {
    "duration": 48,
    "start_time": "2023-12-08T11:13:43.594Z"
   },
   {
    "duration": 23,
    "start_time": "2023-12-08T11:13:43.643Z"
   },
   {
    "duration": 397,
    "start_time": "2023-12-08T11:13:43.668Z"
   },
   {
    "duration": 458,
    "start_time": "2023-12-08T11:13:44.068Z"
   },
   {
    "duration": 24,
    "start_time": "2023-12-08T11:13:44.529Z"
   },
   {
    "duration": 77,
    "start_time": "2023-12-08T11:13:44.555Z"
   },
   {
    "duration": 0,
    "start_time": "2023-12-08T11:13:44.633Z"
   },
   {
    "duration": 0,
    "start_time": "2023-12-08T11:13:44.635Z"
   },
   {
    "duration": 0,
    "start_time": "2023-12-08T11:13:44.635Z"
   },
   {
    "duration": 0,
    "start_time": "2023-12-08T11:13:44.637Z"
   },
   {
    "duration": 0,
    "start_time": "2023-12-08T11:13:44.638Z"
   },
   {
    "duration": 0,
    "start_time": "2023-12-08T11:13:44.638Z"
   },
   {
    "duration": 0,
    "start_time": "2023-12-08T11:13:44.640Z"
   },
   {
    "duration": 0,
    "start_time": "2023-12-08T11:13:44.641Z"
   },
   {
    "duration": 0,
    "start_time": "2023-12-08T11:13:44.642Z"
   },
   {
    "duration": 0,
    "start_time": "2023-12-08T11:13:44.644Z"
   },
   {
    "duration": 0,
    "start_time": "2023-12-08T11:13:44.645Z"
   },
   {
    "duration": 0,
    "start_time": "2023-12-08T11:13:44.646Z"
   },
   {
    "duration": 0,
    "start_time": "2023-12-08T11:13:44.648Z"
   },
   {
    "duration": 0,
    "start_time": "2023-12-08T11:13:44.649Z"
   },
   {
    "duration": 0,
    "start_time": "2023-12-08T11:13:44.650Z"
   },
   {
    "duration": 0,
    "start_time": "2023-12-08T11:13:44.651Z"
   },
   {
    "duration": 0,
    "start_time": "2023-12-08T11:13:44.652Z"
   },
   {
    "duration": 0,
    "start_time": "2023-12-08T11:13:44.653Z"
   },
   {
    "duration": 0,
    "start_time": "2023-12-08T11:13:44.654Z"
   },
   {
    "duration": 0,
    "start_time": "2023-12-08T11:13:44.656Z"
   },
   {
    "duration": 0,
    "start_time": "2023-12-08T11:13:44.656Z"
   },
   {
    "duration": 0,
    "start_time": "2023-12-08T11:13:44.658Z"
   },
   {
    "duration": 440,
    "start_time": "2023-12-08T11:14:05.149Z"
   },
   {
    "duration": 1242,
    "start_time": "2023-12-08T11:14:11.781Z"
   },
   {
    "duration": 60,
    "start_time": "2023-12-08T11:14:13.025Z"
   },
   {
    "duration": 21,
    "start_time": "2023-12-08T11:14:13.087Z"
   },
   {
    "duration": 39,
    "start_time": "2023-12-08T11:14:13.110Z"
   },
   {
    "duration": 8,
    "start_time": "2023-12-08T11:14:13.150Z"
   },
   {
    "duration": 10,
    "start_time": "2023-12-08T11:14:13.160Z"
   },
   {
    "duration": 33,
    "start_time": "2023-12-08T11:14:13.172Z"
   },
   {
    "duration": 34,
    "start_time": "2023-12-08T11:14:13.207Z"
   },
   {
    "duration": 395,
    "start_time": "2023-12-08T11:14:13.242Z"
   },
   {
    "duration": 479,
    "start_time": "2023-12-08T11:14:13.639Z"
   },
   {
    "duration": 24,
    "start_time": "2023-12-08T11:14:14.120Z"
   },
   {
    "duration": 476,
    "start_time": "2023-12-08T11:14:14.146Z"
   },
   {
    "duration": 13,
    "start_time": "2023-12-08T11:14:14.623Z"
   },
   {
    "duration": 364,
    "start_time": "2023-12-08T11:14:14.637Z"
   },
   {
    "duration": 376,
    "start_time": "2023-12-08T11:14:15.003Z"
   },
   {
    "duration": 455,
    "start_time": "2023-12-08T11:14:15.381Z"
   },
   {
    "duration": 928,
    "start_time": "2023-12-08T11:14:15.837Z"
   },
   {
    "duration": 247,
    "start_time": "2023-12-08T11:14:16.766Z"
   },
   {
    "duration": 779,
    "start_time": "2023-12-08T11:14:17.014Z"
   },
   {
    "duration": 243,
    "start_time": "2023-12-08T11:14:17.794Z"
   },
   {
    "duration": 229,
    "start_time": "2023-12-08T11:14:18.038Z"
   },
   {
    "duration": 129,
    "start_time": "2023-12-08T11:14:18.268Z"
   },
   {
    "duration": 143,
    "start_time": "2023-12-08T11:14:18.399Z"
   },
   {
    "duration": 131,
    "start_time": "2023-12-08T11:14:18.543Z"
   },
   {
    "duration": 132,
    "start_time": "2023-12-08T11:14:18.675Z"
   },
   {
    "duration": 136,
    "start_time": "2023-12-08T11:14:18.809Z"
   },
   {
    "duration": 128,
    "start_time": "2023-12-08T11:14:18.947Z"
   },
   {
    "duration": 129,
    "start_time": "2023-12-08T11:14:19.078Z"
   },
   {
    "duration": 213,
    "start_time": "2023-12-08T11:14:19.209Z"
   },
   {
    "duration": 138,
    "start_time": "2023-12-08T11:14:19.424Z"
   },
   {
    "duration": 14,
    "start_time": "2023-12-08T11:14:19.563Z"
   },
   {
    "duration": 11,
    "start_time": "2023-12-08T11:14:19.579Z"
   },
   {
    "duration": 37,
    "start_time": "2023-12-08T11:14:19.591Z"
   },
   {
    "duration": 5,
    "start_time": "2023-12-08T11:14:19.630Z"
   },
   {
    "duration": 55,
    "start_time": "2023-12-08T16:53:17.511Z"
   },
   {
    "duration": 1427,
    "start_time": "2023-12-08T16:53:23.370Z"
   },
   {
    "duration": 193,
    "start_time": "2023-12-08T16:53:24.799Z"
   },
   {
    "duration": 23,
    "start_time": "2023-12-08T16:53:24.993Z"
   },
   {
    "duration": 34,
    "start_time": "2023-12-08T16:53:25.018Z"
   },
   {
    "duration": 7,
    "start_time": "2023-12-08T16:53:25.054Z"
   },
   {
    "duration": 22,
    "start_time": "2023-12-08T16:53:25.063Z"
   },
   {
    "duration": 43,
    "start_time": "2023-12-08T16:53:25.086Z"
   },
   {
    "duration": 58,
    "start_time": "2023-12-08T16:53:25.131Z"
   },
   {
    "duration": 367,
    "start_time": "2023-12-08T16:53:25.191Z"
   },
   {
    "duration": 490,
    "start_time": "2023-12-08T16:53:25.561Z"
   },
   {
    "duration": 28,
    "start_time": "2023-12-08T16:53:26.054Z"
   },
   {
    "duration": 393,
    "start_time": "2023-12-08T16:53:26.083Z"
   },
   {
    "duration": 12,
    "start_time": "2023-12-08T16:53:26.477Z"
   },
   {
    "duration": 319,
    "start_time": "2023-12-08T16:53:26.491Z"
   },
   {
    "duration": 347,
    "start_time": "2023-12-08T16:53:26.812Z"
   },
   {
    "duration": 418,
    "start_time": "2023-12-08T16:53:27.161Z"
   },
   {
    "duration": 298,
    "start_time": "2023-12-08T16:53:27.580Z"
   },
   {
    "duration": 0,
    "start_time": "2023-12-08T16:53:27.880Z"
   },
   {
    "duration": 0,
    "start_time": "2023-12-08T16:53:27.882Z"
   },
   {
    "duration": 0,
    "start_time": "2023-12-08T16:53:27.883Z"
   },
   {
    "duration": 0,
    "start_time": "2023-12-08T16:53:27.884Z"
   },
   {
    "duration": 0,
    "start_time": "2023-12-08T16:53:27.885Z"
   },
   {
    "duration": 0,
    "start_time": "2023-12-08T16:53:27.887Z"
   },
   {
    "duration": 0,
    "start_time": "2023-12-08T16:53:27.888Z"
   },
   {
    "duration": 0,
    "start_time": "2023-12-08T16:53:27.889Z"
   },
   {
    "duration": 0,
    "start_time": "2023-12-08T16:53:27.890Z"
   },
   {
    "duration": 0,
    "start_time": "2023-12-08T16:53:27.891Z"
   },
   {
    "duration": 0,
    "start_time": "2023-12-08T16:53:27.892Z"
   },
   {
    "duration": 0,
    "start_time": "2023-12-08T16:53:27.893Z"
   },
   {
    "duration": 0,
    "start_time": "2023-12-08T16:53:27.895Z"
   },
   {
    "duration": 0,
    "start_time": "2023-12-08T16:53:27.897Z"
   },
   {
    "duration": 0,
    "start_time": "2023-12-08T16:53:27.898Z"
   },
   {
    "duration": 0,
    "start_time": "2023-12-08T16:53:27.901Z"
   },
   {
    "duration": 0,
    "start_time": "2023-12-08T16:53:27.902Z"
   },
   {
    "duration": 23,
    "start_time": "2023-12-08T16:54:38.553Z"
   },
   {
    "duration": 22,
    "start_time": "2023-12-08T17:04:13.970Z"
   },
   {
    "duration": 1188,
    "start_time": "2023-12-08T17:19:03.208Z"
   },
   {
    "duration": 67,
    "start_time": "2023-12-08T17:19:04.399Z"
   },
   {
    "duration": 24,
    "start_time": "2023-12-08T17:19:04.468Z"
   },
   {
    "duration": 40,
    "start_time": "2023-12-08T17:19:04.496Z"
   },
   {
    "duration": 9,
    "start_time": "2023-12-08T17:19:04.538Z"
   },
   {
    "duration": 9,
    "start_time": "2023-12-08T17:19:04.549Z"
   },
   {
    "duration": 31,
    "start_time": "2023-12-08T17:19:04.574Z"
   },
   {
    "duration": 18,
    "start_time": "2023-12-08T17:19:04.607Z"
   },
   {
    "duration": 395,
    "start_time": "2023-12-08T17:19:04.627Z"
   },
   {
    "duration": 443,
    "start_time": "2023-12-08T17:19:05.025Z"
   },
   {
    "duration": 25,
    "start_time": "2023-12-08T17:19:05.473Z"
   },
   {
    "duration": 446,
    "start_time": "2023-12-08T17:19:05.500Z"
   },
   {
    "duration": 14,
    "start_time": "2023-12-08T17:19:05.948Z"
   },
   {
    "duration": 331,
    "start_time": "2023-12-08T17:19:05.975Z"
   },
   {
    "duration": 379,
    "start_time": "2023-12-08T17:19:06.308Z"
   },
   {
    "duration": 395,
    "start_time": "2023-12-08T17:19:06.688Z"
   },
   {
    "duration": 125,
    "start_time": "2023-12-08T17:19:07.085Z"
   },
   {
    "duration": 0,
    "start_time": "2023-12-08T17:19:07.212Z"
   },
   {
    "duration": 0,
    "start_time": "2023-12-08T17:19:07.213Z"
   },
   {
    "duration": 0,
    "start_time": "2023-12-08T17:19:07.214Z"
   },
   {
    "duration": 0,
    "start_time": "2023-12-08T17:19:07.215Z"
   },
   {
    "duration": 0,
    "start_time": "2023-12-08T17:19:07.216Z"
   },
   {
    "duration": 0,
    "start_time": "2023-12-08T17:19:07.217Z"
   },
   {
    "duration": 0,
    "start_time": "2023-12-08T17:19:07.218Z"
   },
   {
    "duration": 0,
    "start_time": "2023-12-08T17:19:07.220Z"
   },
   {
    "duration": 0,
    "start_time": "2023-12-08T17:19:07.220Z"
   },
   {
    "duration": 0,
    "start_time": "2023-12-08T17:19:07.221Z"
   },
   {
    "duration": 0,
    "start_time": "2023-12-08T17:19:07.222Z"
   },
   {
    "duration": 0,
    "start_time": "2023-12-08T17:19:07.223Z"
   },
   {
    "duration": 0,
    "start_time": "2023-12-08T17:19:07.225Z"
   },
   {
    "duration": 0,
    "start_time": "2023-12-08T17:19:07.226Z"
   },
   {
    "duration": 0,
    "start_time": "2023-12-08T17:19:07.227Z"
   },
   {
    "duration": 0,
    "start_time": "2023-12-08T17:19:07.228Z"
   },
   {
    "duration": 0,
    "start_time": "2023-12-08T17:19:07.229Z"
   },
   {
    "duration": 16,
    "start_time": "2023-12-08T17:21:25.647Z"
   },
   {
    "duration": 16,
    "start_time": "2023-12-08T17:23:48.541Z"
   },
   {
    "duration": 390,
    "start_time": "2023-12-08T17:29:18.183Z"
   },
   {
    "duration": 567,
    "start_time": "2023-12-08T17:29:29.465Z"
   },
   {
    "duration": 13,
    "start_time": "2023-12-08T17:29:31.080Z"
   },
   {
    "duration": 300,
    "start_time": "2023-12-08T17:29:31.250Z"
   },
   {
    "duration": 359,
    "start_time": "2023-12-08T17:29:32.728Z"
   },
   {
    "duration": 410,
    "start_time": "2023-12-08T17:29:35.148Z"
   },
   {
    "duration": 17,
    "start_time": "2023-12-08T17:29:37.190Z"
   },
   {
    "duration": 16,
    "start_time": "2023-12-08T17:30:09.633Z"
   },
   {
    "duration": 14,
    "start_time": "2023-12-08T17:30:24.805Z"
   },
   {
    "duration": 14,
    "start_time": "2023-12-08T17:32:49.753Z"
   },
   {
    "duration": 17,
    "start_time": "2023-12-08T17:32:56.454Z"
   },
   {
    "duration": 16,
    "start_time": "2023-12-08T17:33:44.763Z"
   },
   {
    "duration": 14,
    "start_time": "2023-12-08T17:34:00.093Z"
   },
   {
    "duration": 14,
    "start_time": "2023-12-08T17:34:31.885Z"
   },
   {
    "duration": 387,
    "start_time": "2023-12-08T17:35:31.288Z"
   },
   {
    "duration": 15,
    "start_time": "2023-12-08T17:35:42.575Z"
   },
   {
    "duration": 16,
    "start_time": "2023-12-08T17:35:57.406Z"
   },
   {
    "duration": 15,
    "start_time": "2023-12-08T17:37:55.876Z"
   },
   {
    "duration": 16,
    "start_time": "2023-12-08T17:37:58.153Z"
   },
   {
    "duration": 17,
    "start_time": "2023-12-08T17:37:58.815Z"
   },
   {
    "duration": 339,
    "start_time": "2023-12-08T17:40:48.045Z"
   },
   {
    "duration": 392,
    "start_time": "2023-12-08T17:40:51.246Z"
   },
   {
    "duration": 16,
    "start_time": "2023-12-08T17:40:53.241Z"
   },
   {
    "duration": 16,
    "start_time": "2023-12-08T17:41:12.947Z"
   },
   {
    "duration": 21,
    "start_time": "2023-12-08T17:46:44.907Z"
   },
   {
    "duration": 21,
    "start_time": "2023-12-08T17:47:00.513Z"
   },
   {
    "duration": 25,
    "start_time": "2023-12-08T17:47:08.758Z"
   },
   {
    "duration": 268,
    "start_time": "2023-12-08T17:47:37.297Z"
   },
   {
    "duration": 406,
    "start_time": "2023-12-08T17:47:42.902Z"
   },
   {
    "duration": 23,
    "start_time": "2023-12-08T17:47:49.834Z"
   },
   {
    "duration": 387,
    "start_time": "2023-12-08T17:47:53.286Z"
   },
   {
    "duration": 14,
    "start_time": "2023-12-08T17:47:56.507Z"
   },
   {
    "duration": 309,
    "start_time": "2023-12-08T17:48:00.108Z"
   },
   {
    "duration": 443,
    "start_time": "2023-12-08T17:48:08.944Z"
   },
   {
    "duration": 400,
    "start_time": "2023-12-08T17:48:29.125Z"
   },
   {
    "duration": 779,
    "start_time": "2023-12-08T17:48:34.111Z"
   },
   {
    "duration": 765,
    "start_time": "2023-12-08T17:48:45.153Z"
   },
   {
    "duration": 786,
    "start_time": "2023-12-08T17:48:56.432Z"
   },
   {
    "duration": 15,
    "start_time": "2023-12-08T17:49:29.785Z"
   },
   {
    "duration": 762,
    "start_time": "2023-12-08T17:49:32.746Z"
   },
   {
    "duration": 218,
    "start_time": "2023-12-08T17:49:38.684Z"
   },
   {
    "duration": 547,
    "start_time": "2023-12-08T17:49:41.696Z"
   },
   {
    "duration": 210,
    "start_time": "2023-12-08T17:49:44.528Z"
   },
   {
    "duration": 207,
    "start_time": "2023-12-08T17:49:48.466Z"
   },
   {
    "duration": 119,
    "start_time": "2023-12-08T17:49:53.924Z"
   },
   {
    "duration": 126,
    "start_time": "2023-12-08T17:50:44.283Z"
   },
   {
    "duration": 101,
    "start_time": "2023-12-08T17:50:50.495Z"
   },
   {
    "duration": 1162,
    "start_time": "2023-12-08T17:51:10.864Z"
   },
   {
    "duration": 60,
    "start_time": "2023-12-08T17:51:12.028Z"
   },
   {
    "duration": 22,
    "start_time": "2023-12-08T17:51:12.089Z"
   },
   {
    "duration": 37,
    "start_time": "2023-12-08T17:51:12.113Z"
   },
   {
    "duration": 7,
    "start_time": "2023-12-08T17:51:12.152Z"
   },
   {
    "duration": 4,
    "start_time": "2023-12-08T17:51:12.174Z"
   },
   {
    "duration": 31,
    "start_time": "2023-12-08T17:51:12.180Z"
   },
   {
    "duration": 27,
    "start_time": "2023-12-08T17:51:12.212Z"
   },
   {
    "duration": 322,
    "start_time": "2023-12-08T17:51:12.241Z"
   },
   {
    "duration": 399,
    "start_time": "2023-12-08T17:51:12.565Z"
   },
   {
    "duration": 28,
    "start_time": "2023-12-08T17:51:12.966Z"
   },
   {
    "duration": 393,
    "start_time": "2023-12-08T17:51:12.995Z"
   },
   {
    "duration": 13,
    "start_time": "2023-12-08T17:51:13.390Z"
   },
   {
    "duration": 328,
    "start_time": "2023-12-08T17:51:13.404Z"
   },
   {
    "duration": 421,
    "start_time": "2023-12-08T17:51:13.733Z"
   },
   {
    "duration": 408,
    "start_time": "2023-12-08T17:51:14.156Z"
   },
   {
    "duration": 901,
    "start_time": "2023-12-08T17:51:14.573Z"
   },
   {
    "duration": 240,
    "start_time": "2023-12-08T17:51:15.476Z"
   },
   {
    "duration": 515,
    "start_time": "2023-12-08T17:51:15.718Z"
   },
   {
    "duration": 244,
    "start_time": "2023-12-08T17:51:16.235Z"
   },
   {
    "duration": 233,
    "start_time": "2023-12-08T17:51:16.481Z"
   },
   {
    "duration": 129,
    "start_time": "2023-12-08T17:51:16.716Z"
   },
   {
    "duration": 136,
    "start_time": "2023-12-08T17:51:16.847Z"
   },
   {
    "duration": 119,
    "start_time": "2023-12-08T17:51:16.985Z"
   },
   {
    "duration": 135,
    "start_time": "2023-12-08T17:51:17.106Z"
   },
   {
    "duration": 135,
    "start_time": "2023-12-08T17:51:17.243Z"
   },
   {
    "duration": 201,
    "start_time": "2023-12-08T17:51:17.380Z"
   },
   {
    "duration": 132,
    "start_time": "2023-12-08T17:51:17.585Z"
   },
   {
    "duration": 132,
    "start_time": "2023-12-08T17:51:17.719Z"
   },
   {
    "duration": 123,
    "start_time": "2023-12-08T17:51:17.853Z"
   },
   {
    "duration": 16,
    "start_time": "2023-12-08T17:51:17.977Z"
   },
   {
    "duration": 8,
    "start_time": "2023-12-08T17:51:17.995Z"
   },
   {
    "duration": 18,
    "start_time": "2023-12-08T17:51:18.005Z"
   },
   {
    "duration": 18,
    "start_time": "2023-12-08T17:51:18.025Z"
   },
   {
    "duration": 5,
    "start_time": "2023-12-08T17:53:41.856Z"
   },
   {
    "duration": 6,
    "start_time": "2023-12-08T17:53:46.803Z"
   },
   {
    "duration": 10,
    "start_time": "2023-12-08T17:58:28.158Z"
   },
   {
    "duration": 4,
    "start_time": "2023-12-08T18:09:19.451Z"
   },
   {
    "duration": 4,
    "start_time": "2023-12-08T18:09:24.850Z"
   },
   {
    "duration": 6,
    "start_time": "2023-12-08T18:09:27.657Z"
   },
   {
    "duration": 107,
    "start_time": "2023-12-08T18:09:44.043Z"
   },
   {
    "duration": 58,
    "start_time": "2023-12-09T10:20:59.585Z"
   },
   {
    "duration": 1501,
    "start_time": "2023-12-09T10:21:05.636Z"
   },
   {
    "duration": 103,
    "start_time": "2023-12-09T10:21:07.139Z"
   },
   {
    "duration": 24,
    "start_time": "2023-12-09T10:21:07.244Z"
   },
   {
    "duration": 63,
    "start_time": "2023-12-09T10:21:07.271Z"
   },
   {
    "duration": 8,
    "start_time": "2023-12-09T10:21:07.337Z"
   },
   {
    "duration": 6,
    "start_time": "2023-12-09T10:21:07.347Z"
   },
   {
    "duration": 34,
    "start_time": "2023-12-09T10:21:07.354Z"
   },
   {
    "duration": 44,
    "start_time": "2023-12-09T10:21:07.390Z"
   },
   {
    "duration": 11,
    "start_time": "2023-12-09T10:21:07.436Z"
   },
   {
    "duration": 7,
    "start_time": "2023-12-09T10:21:07.450Z"
   },
   {
    "duration": 363,
    "start_time": "2023-12-09T10:21:07.458Z"
   },
   {
    "duration": 516,
    "start_time": "2023-12-09T10:21:07.823Z"
   },
   {
    "duration": 24,
    "start_time": "2023-12-09T10:21:08.341Z"
   },
   {
    "duration": 488,
    "start_time": "2023-12-09T10:21:08.366Z"
   },
   {
    "duration": 14,
    "start_time": "2023-12-09T10:21:08.855Z"
   },
   {
    "duration": 360,
    "start_time": "2023-12-09T10:21:08.870Z"
   },
   {
    "duration": 409,
    "start_time": "2023-12-09T10:21:09.232Z"
   },
   {
    "duration": 407,
    "start_time": "2023-12-09T10:21:09.643Z"
   },
   {
    "duration": 958,
    "start_time": "2023-12-09T10:21:10.051Z"
   },
   {
    "duration": 254,
    "start_time": "2023-12-09T10:21:11.010Z"
   },
   {
    "duration": 542,
    "start_time": "2023-12-09T10:21:11.265Z"
   },
   {
    "duration": 265,
    "start_time": "2023-12-09T10:21:11.808Z"
   },
   {
    "duration": 266,
    "start_time": "2023-12-09T10:21:12.075Z"
   },
   {
    "duration": 136,
    "start_time": "2023-12-09T10:21:12.342Z"
   },
   {
    "duration": 139,
    "start_time": "2023-12-09T10:21:12.480Z"
   },
   {
    "duration": 128,
    "start_time": "2023-12-09T10:21:12.620Z"
   },
   {
    "duration": 140,
    "start_time": "2023-12-09T10:21:12.750Z"
   },
   {
    "duration": 147,
    "start_time": "2023-12-09T10:21:12.894Z"
   },
   {
    "duration": 219,
    "start_time": "2023-12-09T10:21:13.042Z"
   },
   {
    "duration": 138,
    "start_time": "2023-12-09T10:21:13.263Z"
   },
   {
    "duration": 170,
    "start_time": "2023-12-09T10:21:13.403Z"
   },
   {
    "duration": 124,
    "start_time": "2023-12-09T10:21:13.575Z"
   },
   {
    "duration": 33,
    "start_time": "2023-12-09T10:21:13.701Z"
   },
   {
    "duration": 8,
    "start_time": "2023-12-09T10:21:13.741Z"
   },
   {
    "duration": 22,
    "start_time": "2023-12-09T10:21:13.750Z"
   },
   {
    "duration": 11,
    "start_time": "2023-12-09T10:21:13.774Z"
   },
   {
    "duration": 16,
    "start_time": "2023-12-09T10:21:18.259Z"
   },
   {
    "duration": 11,
    "start_time": "2023-12-09T10:21:30.501Z"
   },
   {
    "duration": 22,
    "start_time": "2023-12-09T10:21:35.525Z"
   },
   {
    "duration": 20,
    "start_time": "2023-12-09T10:23:22.268Z"
   },
   {
    "duration": 44,
    "start_time": "2023-12-09T11:45:59.941Z"
   },
   {
    "duration": 1243,
    "start_time": "2023-12-09T11:46:06.087Z"
   },
   {
    "duration": 180,
    "start_time": "2023-12-09T11:46:07.332Z"
   },
   {
    "duration": 23,
    "start_time": "2023-12-09T11:46:07.514Z"
   },
   {
    "duration": 37,
    "start_time": "2023-12-09T11:46:07.540Z"
   },
   {
    "duration": 12,
    "start_time": "2023-12-09T11:46:07.580Z"
   },
   {
    "duration": 9,
    "start_time": "2023-12-09T11:46:07.594Z"
   },
   {
    "duration": 52,
    "start_time": "2023-12-09T11:46:07.605Z"
   },
   {
    "duration": 27,
    "start_time": "2023-12-09T11:46:07.658Z"
   },
   {
    "duration": 11,
    "start_time": "2023-12-09T11:46:07.686Z"
   },
   {
    "duration": 45,
    "start_time": "2023-12-09T11:46:07.700Z"
   },
   {
    "duration": 7,
    "start_time": "2023-12-09T11:46:07.746Z"
   },
   {
    "duration": 918,
    "start_time": "2023-12-09T11:46:07.755Z"
   },
   {
    "duration": 0,
    "start_time": "2023-12-09T11:46:08.675Z"
   },
   {
    "duration": 0,
    "start_time": "2023-12-09T11:46:08.676Z"
   },
   {
    "duration": 0,
    "start_time": "2023-12-09T11:46:08.677Z"
   },
   {
    "duration": 0,
    "start_time": "2023-12-09T11:46:08.679Z"
   },
   {
    "duration": 0,
    "start_time": "2023-12-09T11:46:08.680Z"
   },
   {
    "duration": 0,
    "start_time": "2023-12-09T11:46:08.681Z"
   },
   {
    "duration": 0,
    "start_time": "2023-12-09T11:46:08.682Z"
   },
   {
    "duration": 0,
    "start_time": "2023-12-09T11:46:08.683Z"
   },
   {
    "duration": 0,
    "start_time": "2023-12-09T11:46:08.684Z"
   },
   {
    "duration": 0,
    "start_time": "2023-12-09T11:46:08.685Z"
   },
   {
    "duration": 0,
    "start_time": "2023-12-09T11:46:08.686Z"
   },
   {
    "duration": 0,
    "start_time": "2023-12-09T11:46:08.687Z"
   },
   {
    "duration": 0,
    "start_time": "2023-12-09T11:46:08.688Z"
   },
   {
    "duration": 0,
    "start_time": "2023-12-09T11:46:08.689Z"
   },
   {
    "duration": 0,
    "start_time": "2023-12-09T11:46:08.691Z"
   },
   {
    "duration": 0,
    "start_time": "2023-12-09T11:46:08.692Z"
   },
   {
    "duration": 0,
    "start_time": "2023-12-09T11:46:08.693Z"
   },
   {
    "duration": 0,
    "start_time": "2023-12-09T11:46:08.694Z"
   },
   {
    "duration": 0,
    "start_time": "2023-12-09T11:46:08.695Z"
   },
   {
    "duration": 0,
    "start_time": "2023-12-09T11:46:08.697Z"
   },
   {
    "duration": 0,
    "start_time": "2023-12-09T11:46:08.698Z"
   },
   {
    "duration": 0,
    "start_time": "2023-12-09T11:46:08.699Z"
   },
   {
    "duration": 0,
    "start_time": "2023-12-09T11:46:08.700Z"
   },
   {
    "duration": 0,
    "start_time": "2023-12-09T11:46:08.701Z"
   },
   {
    "duration": 0,
    "start_time": "2023-12-09T11:46:08.703Z"
   },
   {
    "duration": 10,
    "start_time": "2023-12-09T11:46:53.904Z"
   },
   {
    "duration": 1300,
    "start_time": "2023-12-09T11:50:07.281Z"
   },
   {
    "duration": 57,
    "start_time": "2023-12-09T11:50:08.583Z"
   },
   {
    "duration": 24,
    "start_time": "2023-12-09T11:50:08.642Z"
   },
   {
    "duration": 38,
    "start_time": "2023-12-09T11:50:08.668Z"
   },
   {
    "duration": 24,
    "start_time": "2023-12-09T11:50:08.708Z"
   },
   {
    "duration": 16,
    "start_time": "2023-12-09T11:50:08.734Z"
   },
   {
    "duration": 34,
    "start_time": "2023-12-09T11:50:08.752Z"
   },
   {
    "duration": 30,
    "start_time": "2023-12-09T11:50:08.787Z"
   },
   {
    "duration": 13,
    "start_time": "2023-12-09T11:50:08.830Z"
   },
   {
    "duration": 24,
    "start_time": "2023-12-09T11:50:08.845Z"
   },
   {
    "duration": 17,
    "start_time": "2023-12-09T11:50:08.871Z"
   },
   {
    "duration": 328,
    "start_time": "2023-12-09T11:50:08.890Z"
   },
   {
    "duration": 388,
    "start_time": "2023-12-09T11:50:09.221Z"
   },
   {
    "duration": 26,
    "start_time": "2023-12-09T11:50:09.613Z"
   },
   {
    "duration": 367,
    "start_time": "2023-12-09T11:50:09.641Z"
   },
   {
    "duration": 12,
    "start_time": "2023-12-09T11:50:10.010Z"
   },
   {
    "duration": 277,
    "start_time": "2023-12-09T11:50:10.031Z"
   },
   {
    "duration": 347,
    "start_time": "2023-12-09T11:50:10.309Z"
   },
   {
    "duration": 341,
    "start_time": "2023-12-09T11:50:10.658Z"
   },
   {
    "duration": 795,
    "start_time": "2023-12-09T11:50:11.000Z"
   },
   {
    "duration": 216,
    "start_time": "2023-12-09T11:50:11.797Z"
   },
   {
    "duration": 429,
    "start_time": "2023-12-09T11:50:12.015Z"
   },
   {
    "duration": 212,
    "start_time": "2023-12-09T11:50:12.446Z"
   },
   {
    "duration": 233,
    "start_time": "2023-12-09T11:50:12.659Z"
   },
   {
    "duration": 119,
    "start_time": "2023-12-09T11:50:12.893Z"
   },
   {
    "duration": 123,
    "start_time": "2023-12-09T11:50:13.014Z"
   },
   {
    "duration": 117,
    "start_time": "2023-12-09T11:50:13.139Z"
   },
   {
    "duration": 116,
    "start_time": "2023-12-09T11:50:13.259Z"
   },
   {
    "duration": 119,
    "start_time": "2023-12-09T11:50:13.376Z"
   },
   {
    "duration": 199,
    "start_time": "2023-12-09T11:50:13.496Z"
   },
   {
    "duration": 114,
    "start_time": "2023-12-09T11:50:13.696Z"
   },
   {
    "duration": 132,
    "start_time": "2023-12-09T11:50:13.812Z"
   },
   {
    "duration": 113,
    "start_time": "2023-12-09T11:50:13.947Z"
   },
   {
    "duration": 15,
    "start_time": "2023-12-09T11:50:14.062Z"
   },
   {
    "duration": 6,
    "start_time": "2023-12-09T11:50:14.079Z"
   },
   {
    "duration": 13,
    "start_time": "2023-12-09T11:50:14.087Z"
   },
   {
    "duration": 30,
    "start_time": "2023-12-09T11:50:14.102Z"
   },
   {
    "duration": 287,
    "start_time": "2023-12-09T12:06:04.580Z"
   },
   {
    "duration": 399,
    "start_time": "2023-12-09T12:07:35.341Z"
   },
   {
    "duration": 389,
    "start_time": "2023-12-09T12:08:05.426Z"
   },
   {
    "duration": 433,
    "start_time": "2023-12-09T12:08:21.511Z"
   },
   {
    "duration": 463,
    "start_time": "2023-12-09T12:09:28.973Z"
   },
   {
    "duration": 501,
    "start_time": "2023-12-09T12:10:59.440Z"
   },
   {
    "duration": 382,
    "start_time": "2023-12-09T12:11:31.869Z"
   },
   {
    "duration": 444,
    "start_time": "2023-12-09T12:11:59.160Z"
   },
   {
    "duration": 724,
    "start_time": "2023-12-09T12:13:54.778Z"
   },
   {
    "duration": 211,
    "start_time": "2023-12-09T12:14:05.484Z"
   },
   {
    "duration": 429,
    "start_time": "2023-12-09T12:14:13.503Z"
   },
   {
    "duration": 204,
    "start_time": "2023-12-09T12:14:23.007Z"
   },
   {
    "duration": 905,
    "start_time": "2023-12-09T12:19:54.267Z"
   },
   {
    "duration": 298,
    "start_time": "2023-12-09T12:22:38.740Z"
   },
   {
    "duration": 34,
    "start_time": "2023-12-09T12:31:50.169Z"
   },
   {
    "duration": 31,
    "start_time": "2023-12-09T12:32:41.289Z"
   },
   {
    "duration": 33,
    "start_time": "2023-12-09T12:33:04.166Z"
   },
   {
    "duration": 21,
    "start_time": "2023-12-09T12:38:15.968Z"
   },
   {
    "duration": 16,
    "start_time": "2023-12-09T12:38:49.529Z"
   },
   {
    "duration": 25,
    "start_time": "2023-12-09T12:39:15.161Z"
   },
   {
    "duration": 24,
    "start_time": "2023-12-09T12:41:00.270Z"
   },
   {
    "duration": 47,
    "start_time": "2023-12-09T12:41:25.228Z"
   },
   {
    "duration": 47,
    "start_time": "2023-12-09T12:41:30.625Z"
   },
   {
    "duration": 2020,
    "start_time": "2023-12-09T12:41:38.263Z"
   },
   {
    "duration": 1940,
    "start_time": "2023-12-09T12:42:24.745Z"
   },
   {
    "duration": 1878,
    "start_time": "2023-12-09T12:43:01.397Z"
   },
   {
    "duration": 11,
    "start_time": "2023-12-09T12:44:00.701Z"
   },
   {
    "duration": 12,
    "start_time": "2023-12-09T12:44:13.228Z"
   },
   {
    "duration": 12,
    "start_time": "2023-12-09T12:44:54.005Z"
   },
   {
    "duration": 935,
    "start_time": "2023-12-09T12:45:20.536Z"
   },
   {
    "duration": 188,
    "start_time": "2023-12-09T12:45:40.904Z"
   },
   {
    "duration": 185,
    "start_time": "2023-12-09T12:48:40.255Z"
   },
   {
    "duration": 29,
    "start_time": "2023-12-09T12:54:35.058Z"
   },
   {
    "duration": 193,
    "start_time": "2023-12-09T12:56:00.524Z"
   },
   {
    "duration": 30,
    "start_time": "2023-12-09T12:56:34.458Z"
   },
   {
    "duration": 202,
    "start_time": "2023-12-09T12:56:50.871Z"
   },
   {
    "duration": 12,
    "start_time": "2023-12-09T12:57:23.771Z"
   },
   {
    "duration": 17,
    "start_time": "2023-12-09T13:15:19.514Z"
   },
   {
    "duration": 769,
    "start_time": "2023-12-09T13:15:53.244Z"
   },
   {
    "duration": 15,
    "start_time": "2023-12-09T13:16:25.962Z"
   },
   {
    "duration": 1106,
    "start_time": "2023-12-09T13:16:46.791Z"
   },
   {
    "duration": 55,
    "start_time": "2023-12-09T13:16:47.899Z"
   },
   {
    "duration": 21,
    "start_time": "2023-12-09T13:16:47.956Z"
   },
   {
    "duration": 35,
    "start_time": "2023-12-09T13:16:47.979Z"
   },
   {
    "duration": 20,
    "start_time": "2023-12-09T13:16:48.015Z"
   },
   {
    "duration": 13,
    "start_time": "2023-12-09T13:16:48.037Z"
   },
   {
    "duration": 28,
    "start_time": "2023-12-09T13:16:48.052Z"
   },
   {
    "duration": 26,
    "start_time": "2023-12-09T13:16:48.082Z"
   },
   {
    "duration": 12,
    "start_time": "2023-12-09T13:16:48.130Z"
   },
   {
    "duration": 20,
    "start_time": "2023-12-09T13:16:48.146Z"
   },
   {
    "duration": 17,
    "start_time": "2023-12-09T13:16:48.168Z"
   },
   {
    "duration": 300,
    "start_time": "2023-12-09T13:16:48.187Z"
   },
   {
    "duration": 408,
    "start_time": "2023-12-09T13:16:48.489Z"
   },
   {
    "duration": 22,
    "start_time": "2023-12-09T13:16:48.898Z"
   },
   {
    "duration": 381,
    "start_time": "2023-12-09T13:16:48.930Z"
   },
   {
    "duration": 20,
    "start_time": "2023-12-09T13:16:49.313Z"
   },
   {
    "duration": 301,
    "start_time": "2023-12-09T13:16:49.335Z"
   },
   {
    "duration": 359,
    "start_time": "2023-12-09T13:16:49.637Z"
   },
   {
    "duration": 505,
    "start_time": "2023-12-09T13:16:49.998Z"
   },
   {
    "duration": 474,
    "start_time": "2023-12-09T13:16:50.505Z"
   },
   {
    "duration": 742,
    "start_time": "2023-12-09T13:16:50.980Z"
   },
   {
    "duration": 221,
    "start_time": "2023-12-09T13:16:51.723Z"
   },
   {
    "duration": 454,
    "start_time": "2023-12-09T13:16:51.946Z"
   },
   {
    "duration": 215,
    "start_time": "2023-12-09T13:16:52.401Z"
   },
   {
    "duration": 294,
    "start_time": "2023-12-09T13:16:52.618Z"
   },
   {
    "duration": 0,
    "start_time": "2023-12-09T13:16:52.915Z"
   },
   {
    "duration": 0,
    "start_time": "2023-12-09T13:16:52.916Z"
   },
   {
    "duration": 0,
    "start_time": "2023-12-09T13:16:52.918Z"
   },
   {
    "duration": 0,
    "start_time": "2023-12-09T13:16:52.919Z"
   },
   {
    "duration": 0,
    "start_time": "2023-12-09T13:16:52.920Z"
   },
   {
    "duration": 0,
    "start_time": "2023-12-09T13:16:52.922Z"
   },
   {
    "duration": 0,
    "start_time": "2023-12-09T13:16:52.923Z"
   },
   {
    "duration": 0,
    "start_time": "2023-12-09T13:16:52.925Z"
   },
   {
    "duration": 0,
    "start_time": "2023-12-09T13:16:52.926Z"
   },
   {
    "duration": 0,
    "start_time": "2023-12-09T13:16:52.928Z"
   },
   {
    "duration": 0,
    "start_time": "2023-12-09T13:16:52.929Z"
   },
   {
    "duration": 0,
    "start_time": "2023-12-09T13:16:52.931Z"
   },
   {
    "duration": 0,
    "start_time": "2023-12-09T13:16:52.932Z"
   },
   {
    "duration": 0,
    "start_time": "2023-12-09T13:16:52.933Z"
   },
   {
    "duration": 18,
    "start_time": "2023-12-09T13:17:15.283Z"
   },
   {
    "duration": 6,
    "start_time": "2023-12-09T13:17:41.162Z"
   },
   {
    "duration": 35,
    "start_time": "2023-12-09T13:19:00.683Z"
   },
   {
    "duration": 1082,
    "start_time": "2023-12-09T13:19:08.482Z"
   },
   {
    "duration": 56,
    "start_time": "2023-12-09T13:19:09.566Z"
   },
   {
    "duration": 20,
    "start_time": "2023-12-09T13:19:09.623Z"
   },
   {
    "duration": 37,
    "start_time": "2023-12-09T13:19:09.645Z"
   },
   {
    "duration": 7,
    "start_time": "2023-12-09T13:19:09.684Z"
   },
   {
    "duration": 18,
    "start_time": "2023-12-09T13:19:09.692Z"
   },
   {
    "duration": 32,
    "start_time": "2023-12-09T13:19:09.712Z"
   },
   {
    "duration": 30,
    "start_time": "2023-12-09T13:19:09.746Z"
   },
   {
    "duration": 14,
    "start_time": "2023-12-09T13:19:09.778Z"
   },
   {
    "duration": 50,
    "start_time": "2023-12-09T13:19:09.796Z"
   },
   {
    "duration": 18,
    "start_time": "2023-12-09T13:19:09.848Z"
   },
   {
    "duration": 348,
    "start_time": "2023-12-09T13:19:09.867Z"
   },
   {
    "duration": 407,
    "start_time": "2023-12-09T13:19:10.217Z"
   },
   {
    "duration": 27,
    "start_time": "2023-12-09T13:19:10.625Z"
   },
   {
    "duration": 401,
    "start_time": "2023-12-09T13:19:10.654Z"
   },
   {
    "duration": 13,
    "start_time": "2023-12-09T13:19:11.057Z"
   },
   {
    "duration": 360,
    "start_time": "2023-12-09T13:19:11.072Z"
   },
   {
    "duration": 361,
    "start_time": "2023-12-09T13:19:11.434Z"
   },
   {
    "duration": 448,
    "start_time": "2023-12-09T13:19:11.796Z"
   },
   {
    "duration": 563,
    "start_time": "2023-12-09T13:19:12.246Z"
   },
   {
    "duration": 285,
    "start_time": "2023-12-09T13:19:12.811Z"
   },
   {
    "duration": 0,
    "start_time": "2023-12-09T13:19:13.098Z"
   },
   {
    "duration": 0,
    "start_time": "2023-12-09T13:19:13.100Z"
   },
   {
    "duration": 0,
    "start_time": "2023-12-09T13:19:13.101Z"
   },
   {
    "duration": 0,
    "start_time": "2023-12-09T13:19:13.103Z"
   },
   {
    "duration": 0,
    "start_time": "2023-12-09T13:19:13.104Z"
   },
   {
    "duration": 0,
    "start_time": "2023-12-09T13:19:13.106Z"
   },
   {
    "duration": 0,
    "start_time": "2023-12-09T13:19:13.108Z"
   },
   {
    "duration": 0,
    "start_time": "2023-12-09T13:19:13.109Z"
   },
   {
    "duration": 0,
    "start_time": "2023-12-09T13:19:13.111Z"
   },
   {
    "duration": 0,
    "start_time": "2023-12-09T13:19:13.131Z"
   },
   {
    "duration": 0,
    "start_time": "2023-12-09T13:19:13.132Z"
   },
   {
    "duration": 0,
    "start_time": "2023-12-09T13:19:13.134Z"
   },
   {
    "duration": 0,
    "start_time": "2023-12-09T13:19:13.136Z"
   },
   {
    "duration": 0,
    "start_time": "2023-12-09T13:19:13.137Z"
   },
   {
    "duration": 0,
    "start_time": "2023-12-09T13:19:13.139Z"
   },
   {
    "duration": 0,
    "start_time": "2023-12-09T13:19:13.140Z"
   },
   {
    "duration": 0,
    "start_time": "2023-12-09T13:19:13.142Z"
   },
   {
    "duration": 0,
    "start_time": "2023-12-09T13:19:13.143Z"
   },
   {
    "duration": 184,
    "start_time": "2023-12-09T13:19:54.770Z"
   },
   {
    "duration": 177,
    "start_time": "2023-12-09T13:19:58.082Z"
   },
   {
    "duration": 11,
    "start_time": "2023-12-09T13:20:45.396Z"
   },
   {
    "duration": 170,
    "start_time": "2023-12-09T13:21:14.074Z"
   },
   {
    "duration": 171,
    "start_time": "2023-12-09T13:21:36.961Z"
   },
   {
    "duration": 215,
    "start_time": "2023-12-09T13:21:39.209Z"
   },
   {
    "duration": 230,
    "start_time": "2023-12-09T13:22:03.503Z"
   },
   {
    "duration": 163,
    "start_time": "2023-12-09T13:22:27.999Z"
   },
   {
    "duration": 28,
    "start_time": "2023-12-09T13:22:55.075Z"
   },
   {
    "duration": 1215,
    "start_time": "2023-12-09T13:23:38.517Z"
   },
   {
    "duration": 55,
    "start_time": "2023-12-09T13:23:39.734Z"
   },
   {
    "duration": 22,
    "start_time": "2023-12-09T13:23:39.791Z"
   },
   {
    "duration": 36,
    "start_time": "2023-12-09T13:23:39.816Z"
   },
   {
    "duration": 7,
    "start_time": "2023-12-09T13:23:39.855Z"
   },
   {
    "duration": 6,
    "start_time": "2023-12-09T13:23:39.864Z"
   },
   {
    "duration": 28,
    "start_time": "2023-12-09T13:23:39.871Z"
   },
   {
    "duration": 34,
    "start_time": "2023-12-09T13:23:39.901Z"
   },
   {
    "duration": 17,
    "start_time": "2023-12-09T13:23:39.936Z"
   },
   {
    "duration": 21,
    "start_time": "2023-12-09T13:23:39.956Z"
   },
   {
    "duration": 18,
    "start_time": "2023-12-09T13:23:39.978Z"
   },
   {
    "duration": 356,
    "start_time": "2023-12-09T13:23:39.997Z"
   },
   {
    "duration": 401,
    "start_time": "2023-12-09T13:23:40.355Z"
   },
   {
    "duration": 21,
    "start_time": "2023-12-09T13:23:40.758Z"
   },
   {
    "duration": 452,
    "start_time": "2023-12-09T13:23:40.781Z"
   },
   {
    "duration": 12,
    "start_time": "2023-12-09T13:23:41.235Z"
   },
   {
    "duration": 300,
    "start_time": "2023-12-09T13:23:41.248Z"
   },
   {
    "duration": 334,
    "start_time": "2023-12-09T13:23:41.550Z"
   },
   {
    "duration": 427,
    "start_time": "2023-12-09T13:23:41.886Z"
   },
   {
    "duration": 530,
    "start_time": "2023-12-09T13:23:42.315Z"
   },
   {
    "duration": 270,
    "start_time": "2023-12-09T13:23:42.847Z"
   },
   {
    "duration": 0,
    "start_time": "2023-12-09T13:23:43.119Z"
   },
   {
    "duration": 0,
    "start_time": "2023-12-09T13:23:43.131Z"
   },
   {
    "duration": 0,
    "start_time": "2023-12-09T13:23:43.132Z"
   },
   {
    "duration": 0,
    "start_time": "2023-12-09T13:23:43.134Z"
   },
   {
    "duration": 0,
    "start_time": "2023-12-09T13:23:43.135Z"
   },
   {
    "duration": 0,
    "start_time": "2023-12-09T13:23:43.136Z"
   },
   {
    "duration": 0,
    "start_time": "2023-12-09T13:23:43.137Z"
   },
   {
    "duration": 0,
    "start_time": "2023-12-09T13:23:43.138Z"
   },
   {
    "duration": 0,
    "start_time": "2023-12-09T13:23:43.139Z"
   },
   {
    "duration": 0,
    "start_time": "2023-12-09T13:23:43.140Z"
   },
   {
    "duration": 0,
    "start_time": "2023-12-09T13:23:43.140Z"
   },
   {
    "duration": 0,
    "start_time": "2023-12-09T13:23:43.142Z"
   },
   {
    "duration": 0,
    "start_time": "2023-12-09T13:23:43.143Z"
   },
   {
    "duration": 0,
    "start_time": "2023-12-09T13:23:43.144Z"
   },
   {
    "duration": 0,
    "start_time": "2023-12-09T13:23:43.145Z"
   },
   {
    "duration": 0,
    "start_time": "2023-12-09T13:23:43.146Z"
   },
   {
    "duration": 0,
    "start_time": "2023-12-09T13:23:43.147Z"
   },
   {
    "duration": 0,
    "start_time": "2023-12-09T13:23:43.148Z"
   },
   {
    "duration": 17,
    "start_time": "2023-12-09T13:23:55.333Z"
   },
   {
    "duration": 18,
    "start_time": "2023-12-09T13:24:04.663Z"
   },
   {
    "duration": 24,
    "start_time": "2023-12-09T13:24:09.324Z"
   },
   {
    "duration": 21,
    "start_time": "2023-12-09T13:24:13.037Z"
   },
   {
    "duration": 3,
    "start_time": "2023-12-09T13:24:17.312Z"
   },
   {
    "duration": 50,
    "start_time": "2023-12-09T13:24:18.343Z"
   },
   {
    "duration": 19,
    "start_time": "2023-12-09T13:24:19.721Z"
   },
   {
    "duration": 39,
    "start_time": "2023-12-09T13:24:28.127Z"
   },
   {
    "duration": 6,
    "start_time": "2023-12-09T13:24:32.257Z"
   },
   {
    "duration": 4,
    "start_time": "2023-12-09T13:24:32.718Z"
   },
   {
    "duration": 24,
    "start_time": "2023-12-09T13:24:35.105Z"
   },
   {
    "duration": 32,
    "start_time": "2023-12-09T13:24:45.084Z"
   },
   {
    "duration": 28,
    "start_time": "2023-12-09T13:24:58.925Z"
   },
   {
    "duration": 34,
    "start_time": "2023-12-09T13:25:08.749Z"
   },
   {
    "duration": 205,
    "start_time": "2023-12-09T13:26:02.591Z"
   },
   {
    "duration": 12,
    "start_time": "2023-12-09T13:26:22.094Z"
   },
   {
    "duration": 6,
    "start_time": "2023-12-09T13:26:53.498Z"
   },
   {
    "duration": 6,
    "start_time": "2023-12-09T13:27:10.463Z"
   },
   {
    "duration": 187,
    "start_time": "2023-12-09T13:27:21.449Z"
   },
   {
    "duration": 181,
    "start_time": "2023-12-09T13:29:20.283Z"
   },
   {
    "duration": 4568,
    "start_time": "2023-12-09T13:30:00.065Z"
   },
   {
    "duration": 163,
    "start_time": "2023-12-09T13:30:12.108Z"
   },
   {
    "duration": 249,
    "start_time": "2023-12-09T13:30:20.039Z"
   },
   {
    "duration": 29,
    "start_time": "2023-12-09T13:31:02.886Z"
   },
   {
    "duration": 14,
    "start_time": "2023-12-09T13:31:05.670Z"
   },
   {
    "duration": 21,
    "start_time": "2023-12-09T13:31:06.160Z"
   },
   {
    "duration": 19,
    "start_time": "2023-12-09T13:31:07.347Z"
   },
   {
    "duration": 353,
    "start_time": "2023-12-09T13:31:09.228Z"
   },
   {
    "duration": 378,
    "start_time": "2023-12-09T13:31:13.029Z"
   },
   {
    "duration": 24,
    "start_time": "2023-12-09T13:31:15.084Z"
   },
   {
    "duration": 556,
    "start_time": "2023-12-09T13:31:17.861Z"
   },
   {
    "duration": 13,
    "start_time": "2023-12-09T13:31:20.475Z"
   },
   {
    "duration": 262,
    "start_time": "2023-12-09T13:31:23.683Z"
   },
   {
    "duration": 343,
    "start_time": "2023-12-09T13:31:31.576Z"
   },
   {
    "duration": 472,
    "start_time": "2023-12-09T13:31:52.805Z"
   },
   {
    "duration": 460,
    "start_time": "2023-12-09T13:31:54.160Z"
   },
   {
    "duration": 6,
    "start_time": "2023-12-09T13:31:55.679Z"
   },
   {
    "duration": 217,
    "start_time": "2023-12-09T13:31:55.848Z"
   },
   {
    "duration": 201,
    "start_time": "2023-12-09T13:31:56.335Z"
   },
   {
    "duration": 163,
    "start_time": "2023-12-09T13:31:59.301Z"
   },
   {
    "duration": 10,
    "start_time": "2023-12-09T13:32:47.971Z"
   },
   {
    "duration": 5,
    "start_time": "2023-12-09T13:32:53.837Z"
   },
   {
    "duration": 7,
    "start_time": "2023-12-09T13:33:12.971Z"
   },
   {
    "duration": 4,
    "start_time": "2023-12-09T13:34:07.989Z"
   },
   {
    "duration": 7,
    "start_time": "2023-12-09T13:34:27.202Z"
   },
   {
    "duration": 4705,
    "start_time": "2023-12-09T13:35:13.035Z"
   },
   {
    "duration": 1243,
    "start_time": "2023-12-09T13:35:57.469Z"
   },
   {
    "duration": 2083,
    "start_time": "2023-12-09T13:36:09.997Z"
   },
   {
    "duration": 4736,
    "start_time": "2023-12-09T13:36:17.453Z"
   },
   {
    "duration": 4557,
    "start_time": "2023-12-09T13:36:28.183Z"
   },
   {
    "duration": 4522,
    "start_time": "2023-12-09T13:36:38.087Z"
   },
   {
    "duration": 175,
    "start_time": "2023-12-09T13:37:46.707Z"
   },
   {
    "duration": 1188,
    "start_time": "2023-12-09T13:43:55.193Z"
   },
   {
    "duration": 68,
    "start_time": "2023-12-09T13:43:56.384Z"
   },
   {
    "duration": 21,
    "start_time": "2023-12-09T13:43:56.454Z"
   },
   {
    "duration": 38,
    "start_time": "2023-12-09T13:43:56.476Z"
   },
   {
    "duration": 16,
    "start_time": "2023-12-09T13:43:56.516Z"
   },
   {
    "duration": 11,
    "start_time": "2023-12-09T13:43:56.533Z"
   },
   {
    "duration": 30,
    "start_time": "2023-12-09T13:43:56.546Z"
   },
   {
    "duration": 3,
    "start_time": "2023-12-09T13:43:56.578Z"
   },
   {
    "duration": 23,
    "start_time": "2023-12-09T13:43:56.582Z"
   },
   {
    "duration": 31,
    "start_time": "2023-12-09T13:43:56.607Z"
   },
   {
    "duration": 17,
    "start_time": "2023-12-09T13:43:56.640Z"
   },
   {
    "duration": 335,
    "start_time": "2023-12-09T13:43:56.659Z"
   },
   {
    "duration": 406,
    "start_time": "2023-12-09T13:43:56.995Z"
   },
   {
    "duration": 30,
    "start_time": "2023-12-09T13:43:57.404Z"
   },
   {
    "duration": 425,
    "start_time": "2023-12-09T13:43:57.435Z"
   },
   {
    "duration": 17,
    "start_time": "2023-12-09T13:43:57.861Z"
   },
   {
    "duration": 308,
    "start_time": "2023-12-09T13:43:57.880Z"
   },
   {
    "duration": 336,
    "start_time": "2023-12-09T13:43:58.190Z"
   },
   {
    "duration": 453,
    "start_time": "2023-12-09T13:43:58.530Z"
   },
   {
    "duration": 522,
    "start_time": "2023-12-09T13:43:58.985Z"
   },
   {
    "duration": 114,
    "start_time": "2023-12-09T13:43:59.508Z"
   },
   {
    "duration": 0,
    "start_time": "2023-12-09T13:43:59.624Z"
   },
   {
    "duration": 0,
    "start_time": "2023-12-09T13:43:59.625Z"
   },
   {
    "duration": 0,
    "start_time": "2023-12-09T13:43:59.631Z"
   },
   {
    "duration": 0,
    "start_time": "2023-12-09T13:43:59.633Z"
   },
   {
    "duration": 0,
    "start_time": "2023-12-09T13:43:59.634Z"
   },
   {
    "duration": 0,
    "start_time": "2023-12-09T13:43:59.636Z"
   },
   {
    "duration": 0,
    "start_time": "2023-12-09T13:43:59.637Z"
   },
   {
    "duration": 0,
    "start_time": "2023-12-09T13:43:59.638Z"
   },
   {
    "duration": 0,
    "start_time": "2023-12-09T13:43:59.639Z"
   },
   {
    "duration": 0,
    "start_time": "2023-12-09T13:43:59.641Z"
   },
   {
    "duration": 0,
    "start_time": "2023-12-09T13:43:59.642Z"
   },
   {
    "duration": 0,
    "start_time": "2023-12-09T13:43:59.644Z"
   },
   {
    "duration": 0,
    "start_time": "2023-12-09T13:43:59.645Z"
   },
   {
    "duration": 0,
    "start_time": "2023-12-09T13:43:59.647Z"
   },
   {
    "duration": 0,
    "start_time": "2023-12-09T13:43:59.649Z"
   },
   {
    "duration": 0,
    "start_time": "2023-12-09T13:43:59.651Z"
   },
   {
    "duration": 0,
    "start_time": "2023-12-09T13:43:59.652Z"
   },
   {
    "duration": 0,
    "start_time": "2023-12-09T13:43:59.653Z"
   },
   {
    "duration": 0,
    "start_time": "2023-12-09T13:43:59.655Z"
   },
   {
    "duration": 4,
    "start_time": "2023-12-09T13:44:13.613Z"
   },
   {
    "duration": 17,
    "start_time": "2023-12-09T13:44:15.893Z"
   },
   {
    "duration": 771,
    "start_time": "2023-12-09T13:46:37.319Z"
   },
   {
    "duration": 3,
    "start_time": "2023-12-09T13:46:43.925Z"
   },
   {
    "duration": 49,
    "start_time": "2023-12-09T13:46:45.118Z"
   },
   {
    "duration": 25,
    "start_time": "2023-12-09T13:46:45.524Z"
   },
   {
    "duration": 33,
    "start_time": "2023-12-09T13:46:50.640Z"
   },
   {
    "duration": 6,
    "start_time": "2023-12-09T13:46:52.700Z"
   },
   {
    "duration": 4,
    "start_time": "2023-12-09T13:46:55.599Z"
   },
   {
    "duration": 27,
    "start_time": "2023-12-09T13:46:55.980Z"
   },
   {
    "duration": 16,
    "start_time": "2023-12-09T13:47:00.192Z"
   },
   {
    "duration": 27,
    "start_time": "2023-12-09T13:47:24.992Z"
   },
   {
    "duration": 3,
    "start_time": "2023-12-09T13:47:34.205Z"
   },
   {
    "duration": 51,
    "start_time": "2023-12-09T13:47:34.699Z"
   },
   {
    "duration": 21,
    "start_time": "2023-12-09T13:47:34.877Z"
   },
   {
    "duration": 35,
    "start_time": "2023-12-09T13:47:36.598Z"
   },
   {
    "duration": 6,
    "start_time": "2023-12-09T13:47:38.405Z"
   },
   {
    "duration": 5,
    "start_time": "2023-12-09T13:47:39.543Z"
   },
   {
    "duration": 25,
    "start_time": "2023-12-09T13:47:39.857Z"
   },
   {
    "duration": 24,
    "start_time": "2023-12-09T13:47:48.257Z"
   },
   {
    "duration": 28,
    "start_time": "2023-12-09T13:48:15.660Z"
   },
   {
    "duration": 28,
    "start_time": "2023-12-09T13:49:19.408Z"
   },
   {
    "duration": 28,
    "start_time": "2023-12-09T13:49:37.760Z"
   },
   {
    "duration": 37,
    "start_time": "2023-12-09T13:49:47.195Z"
   },
   {
    "duration": 21,
    "start_time": "2023-12-09T13:49:54.010Z"
   },
   {
    "duration": 13,
    "start_time": "2023-12-09T13:50:05.542Z"
   },
   {
    "duration": 20,
    "start_time": "2023-12-09T13:50:06.134Z"
   },
   {
    "duration": 17,
    "start_time": "2023-12-09T13:50:07.760Z"
   },
   {
    "duration": 258,
    "start_time": "2023-12-09T13:50:10.435Z"
   },
   {
    "duration": 373,
    "start_time": "2023-12-09T13:50:12.822Z"
   },
   {
    "duration": 28,
    "start_time": "2023-12-09T13:50:15.550Z"
   },
   {
    "duration": 402,
    "start_time": "2023-12-09T13:50:16.944Z"
   },
   {
    "duration": 14,
    "start_time": "2023-12-09T13:50:20.532Z"
   },
   {
    "duration": 306,
    "start_time": "2023-12-09T13:50:21.075Z"
   },
   {
    "duration": 327,
    "start_time": "2023-12-09T13:50:24.558Z"
   },
   {
    "duration": 411,
    "start_time": "2023-12-09T13:50:29.827Z"
   },
   {
    "duration": 523,
    "start_time": "2023-12-09T13:50:33.240Z"
   },
   {
    "duration": 9,
    "start_time": "2023-12-09T13:50:44.877Z"
   },
   {
    "duration": 732,
    "start_time": "2023-12-09T13:50:54.575Z"
   },
   {
    "duration": 230,
    "start_time": "2023-12-09T13:50:59.734Z"
   },
   {
    "duration": 470,
    "start_time": "2023-12-09T13:51:02.055Z"
   },
   {
    "duration": 215,
    "start_time": "2023-12-09T13:51:03.817Z"
   },
   {
    "duration": 48,
    "start_time": "2023-12-09T13:51:11.980Z"
   },
   {
    "duration": 47,
    "start_time": "2023-12-09T13:51:22.545Z"
   },
   {
    "duration": 47,
    "start_time": "2023-12-09T13:51:30.847Z"
   },
   {
    "duration": 61,
    "start_time": "2023-12-09T13:51:42.314Z"
   },
   {
    "duration": 205,
    "start_time": "2023-12-09T13:51:48.923Z"
   },
   {
    "duration": 205,
    "start_time": "2023-12-09T13:51:55.325Z"
   },
   {
    "duration": 49,
    "start_time": "2023-12-09T13:53:12.253Z"
   },
   {
    "duration": 46,
    "start_time": "2023-12-09T13:53:14.619Z"
   },
   {
    "duration": 47,
    "start_time": "2023-12-09T13:53:28.720Z"
   },
   {
    "duration": 198,
    "start_time": "2023-12-09T13:58:36.464Z"
   },
   {
    "duration": 848,
    "start_time": "2023-12-09T14:02:05.334Z"
   },
   {
    "duration": 201,
    "start_time": "2023-12-09T14:02:16.618Z"
   },
   {
    "duration": 233,
    "start_time": "2023-12-09T14:02:20.674Z"
   },
   {
    "duration": 281,
    "start_time": "2023-12-09T14:02:46.856Z"
   },
   {
    "duration": 177,
    "start_time": "2023-12-09T14:03:29.376Z"
   },
   {
    "duration": 16,
    "start_time": "2023-12-09T14:03:48.271Z"
   },
   {
    "duration": 884,
    "start_time": "2023-12-09T14:04:13.312Z"
   },
   {
    "duration": 14,
    "start_time": "2023-12-09T14:04:27.599Z"
   },
   {
    "duration": 19,
    "start_time": "2023-12-09T14:04:52.462Z"
   },
   {
    "duration": 8,
    "start_time": "2023-12-09T14:05:34.906Z"
   },
   {
    "duration": 16,
    "start_time": "2023-12-09T14:06:37.066Z"
   },
   {
    "duration": 13,
    "start_time": "2023-12-09T14:06:58.983Z"
   },
   {
    "duration": 199,
    "start_time": "2023-12-09T14:07:07.026Z"
   },
   {
    "duration": 192,
    "start_time": "2023-12-09T14:07:14.334Z"
   },
   {
    "duration": 12,
    "start_time": "2023-12-09T14:08:52.641Z"
   },
   {
    "duration": 193,
    "start_time": "2023-12-09T14:09:02.476Z"
   },
   {
    "duration": 195,
    "start_time": "2023-12-09T14:09:12.376Z"
   },
   {
    "duration": 7,
    "start_time": "2023-12-09T14:09:35.632Z"
   },
   {
    "duration": 7,
    "start_time": "2023-12-09T14:09:40.169Z"
   },
   {
    "duration": 8,
    "start_time": "2023-12-09T14:09:53.769Z"
   },
   {
    "duration": 7,
    "start_time": "2023-12-09T14:10:03.618Z"
   },
   {
    "duration": 173,
    "start_time": "2023-12-09T14:10:33.675Z"
   },
   {
    "duration": 167,
    "start_time": "2023-12-09T14:12:37.827Z"
   },
   {
    "duration": 167,
    "start_time": "2023-12-09T14:12:43.651Z"
   },
   {
    "duration": 87,
    "start_time": "2023-12-09T14:13:59.998Z"
   },
   {
    "duration": 54,
    "start_time": "2023-12-09T14:14:10.654Z"
   },
   {
    "duration": 70,
    "start_time": "2023-12-09T14:14:39.405Z"
   },
   {
    "duration": 46,
    "start_time": "2023-12-09T14:14:47.920Z"
   },
   {
    "duration": 15,
    "start_time": "2023-12-09T14:14:52.633Z"
   },
   {
    "duration": 183,
    "start_time": "2023-12-09T14:15:14.200Z"
   },
   {
    "duration": 9,
    "start_time": "2023-12-09T14:16:15.132Z"
   },
   {
    "duration": 10,
    "start_time": "2023-12-09T14:16:25.333Z"
   },
   {
    "duration": 10,
    "start_time": "2023-12-09T14:16:30.667Z"
   },
   {
    "duration": 170,
    "start_time": "2023-12-09T14:17:18.358Z"
   },
   {
    "duration": 327,
    "start_time": "2023-12-09T14:20:00.984Z"
   },
   {
    "duration": 207,
    "start_time": "2023-12-09T14:20:19.581Z"
   },
   {
    "duration": 1122,
    "start_time": "2023-12-09T14:55:30.282Z"
   },
   {
    "duration": 54,
    "start_time": "2023-12-09T14:55:31.406Z"
   },
   {
    "duration": 47,
    "start_time": "2023-12-09T14:55:31.462Z"
   },
   {
    "duration": 83,
    "start_time": "2023-12-09T14:55:31.511Z"
   },
   {
    "duration": 39,
    "start_time": "2023-12-09T14:55:31.596Z"
   },
   {
    "duration": 108,
    "start_time": "2023-12-09T14:55:31.637Z"
   },
   {
    "duration": 106,
    "start_time": "2023-12-09T14:55:31.747Z"
   },
   {
    "duration": 144,
    "start_time": "2023-12-09T14:55:31.855Z"
   },
   {
    "duration": 69,
    "start_time": "2023-12-09T14:55:32.002Z"
   },
   {
    "duration": 45,
    "start_time": "2023-12-09T14:55:32.074Z"
   },
   {
    "duration": 17,
    "start_time": "2023-12-09T14:55:32.121Z"
   },
   {
    "duration": 260,
    "start_time": "2023-12-09T14:55:32.140Z"
   },
   {
    "duration": 401,
    "start_time": "2023-12-09T14:55:32.402Z"
   },
   {
    "duration": 28,
    "start_time": "2023-12-09T14:55:32.805Z"
   },
   {
    "duration": 395,
    "start_time": "2023-12-09T14:55:32.835Z"
   },
   {
    "duration": 13,
    "start_time": "2023-12-09T14:55:33.232Z"
   },
   {
    "duration": 324,
    "start_time": "2023-12-09T14:55:33.246Z"
   },
   {
    "duration": 360,
    "start_time": "2023-12-09T14:55:33.572Z"
   },
   {
    "duration": 496,
    "start_time": "2023-12-09T14:55:33.934Z"
   },
   {
    "duration": 432,
    "start_time": "2023-12-09T14:55:34.432Z"
   },
   {
    "duration": 758,
    "start_time": "2023-12-09T14:55:34.866Z"
   },
   {
    "duration": 219,
    "start_time": "2023-12-09T14:55:35.626Z"
   },
   {
    "duration": 653,
    "start_time": "2023-12-09T14:55:35.847Z"
   },
   {
    "duration": 208,
    "start_time": "2023-12-09T14:55:36.502Z"
   },
   {
    "duration": 68,
    "start_time": "2023-12-09T14:55:36.711Z"
   },
   {
    "duration": 225,
    "start_time": "2023-12-09T14:55:36.781Z"
   },
   {
    "duration": 112,
    "start_time": "2023-12-09T14:55:37.007Z"
   },
   {
    "duration": 110,
    "start_time": "2023-12-09T14:55:37.130Z"
   },
   {
    "duration": 207,
    "start_time": "2023-12-09T14:55:37.241Z"
   },
   {
    "duration": 131,
    "start_time": "2023-12-09T14:55:37.450Z"
   },
   {
    "duration": 122,
    "start_time": "2023-12-09T14:55:37.583Z"
   },
   {
    "duration": 117,
    "start_time": "2023-12-09T14:55:37.707Z"
   },
   {
    "duration": 116,
    "start_time": "2023-12-09T14:55:37.826Z"
   },
   {
    "duration": 122,
    "start_time": "2023-12-09T14:55:37.943Z"
   },
   {
    "duration": 108,
    "start_time": "2023-12-09T14:55:38.066Z"
   },
   {
    "duration": 14,
    "start_time": "2023-12-09T14:55:38.176Z"
   },
   {
    "duration": 7,
    "start_time": "2023-12-09T14:55:38.192Z"
   },
   {
    "duration": 35,
    "start_time": "2023-12-09T14:55:38.200Z"
   },
   {
    "duration": 6,
    "start_time": "2023-12-09T14:55:38.237Z"
   },
   {
    "duration": 10,
    "start_time": "2023-12-09T14:56:26.746Z"
   },
   {
    "duration": 5,
    "start_time": "2023-12-09T14:56:37.025Z"
   },
   {
    "duration": 4,
    "start_time": "2023-12-09T14:58:05.052Z"
   },
   {
    "duration": 5,
    "start_time": "2023-12-09T15:00:50.656Z"
   },
   {
    "duration": 5,
    "start_time": "2023-12-09T15:02:11.652Z"
   },
   {
    "duration": 4,
    "start_time": "2023-12-09T15:02:30.304Z"
   },
   {
    "duration": 6,
    "start_time": "2023-12-09T15:02:59.301Z"
   },
   {
    "duration": 10,
    "start_time": "2023-12-09T15:03:03.637Z"
   },
   {
    "duration": 11,
    "start_time": "2023-12-09T15:07:45.840Z"
   },
   {
    "duration": 5,
    "start_time": "2023-12-09T15:07:48.136Z"
   },
   {
    "duration": 12,
    "start_time": "2023-12-09T15:08:08.341Z"
   },
   {
    "duration": 13,
    "start_time": "2023-12-09T15:10:20.446Z"
   },
   {
    "duration": 5,
    "start_time": "2023-12-09T15:10:22.668Z"
   },
   {
    "duration": 16,
    "start_time": "2023-12-09T15:11:13.587Z"
   },
   {
    "duration": 17,
    "start_time": "2023-12-09T15:11:23.091Z"
   },
   {
    "duration": 29,
    "start_time": "2023-12-09T15:11:30.669Z"
   },
   {
    "duration": 50,
    "start_time": "2023-12-09T15:11:55.673Z"
   },
   {
    "duration": 55,
    "start_time": "2023-12-09T15:11:59.252Z"
   },
   {
    "duration": 16,
    "start_time": "2023-12-09T15:12:16.421Z"
   },
   {
    "duration": 13,
    "start_time": "2023-12-09T15:12:28.398Z"
   },
   {
    "duration": 12,
    "start_time": "2023-12-09T15:12:46.387Z"
   },
   {
    "duration": 5,
    "start_time": "2023-12-09T15:12:50.154Z"
   },
   {
    "duration": 12,
    "start_time": "2023-12-09T15:13:02.655Z"
   },
   {
    "duration": 5,
    "start_time": "2023-12-09T15:13:05.177Z"
   },
   {
    "duration": 1342,
    "start_time": "2023-12-10T07:42:39.709Z"
   },
   {
    "duration": 108,
    "start_time": "2023-12-10T07:42:41.053Z"
   },
   {
    "duration": 22,
    "start_time": "2023-12-10T07:42:41.163Z"
   },
   {
    "duration": 37,
    "start_time": "2023-12-10T07:42:41.187Z"
   },
   {
    "duration": 7,
    "start_time": "2023-12-10T07:42:41.226Z"
   },
   {
    "duration": 3,
    "start_time": "2023-12-10T07:42:41.243Z"
   },
   {
    "duration": 37,
    "start_time": "2023-12-10T07:42:41.247Z"
   },
   {
    "duration": 25,
    "start_time": "2023-12-10T07:42:41.285Z"
   },
   {
    "duration": 9,
    "start_time": "2023-12-10T07:42:41.312Z"
   },
   {
    "duration": 30,
    "start_time": "2023-12-10T07:42:41.323Z"
   },
   {
    "duration": 16,
    "start_time": "2023-12-10T07:42:41.355Z"
   },
   {
    "duration": 277,
    "start_time": "2023-12-10T07:42:41.372Z"
   },
   {
    "duration": 422,
    "start_time": "2023-12-10T07:42:41.651Z"
   },
   {
    "duration": 22,
    "start_time": "2023-12-10T07:42:42.075Z"
   },
   {
    "duration": 436,
    "start_time": "2023-12-10T07:42:42.099Z"
   },
   {
    "duration": 14,
    "start_time": "2023-12-10T07:42:42.541Z"
   },
   {
    "duration": 306,
    "start_time": "2023-12-10T07:42:42.557Z"
   },
   {
    "duration": 370,
    "start_time": "2023-12-10T07:42:42.864Z"
   },
   {
    "duration": 508,
    "start_time": "2023-12-10T07:42:43.237Z"
   },
   {
    "duration": 430,
    "start_time": "2023-12-10T07:42:43.748Z"
   },
   {
    "duration": 762,
    "start_time": "2023-12-10T07:42:44.180Z"
   },
   {
    "duration": 213,
    "start_time": "2023-12-10T07:42:44.945Z"
   },
   {
    "duration": 710,
    "start_time": "2023-12-10T07:42:45.160Z"
   },
   {
    "duration": 211,
    "start_time": "2023-12-10T07:42:45.872Z"
   },
   {
    "duration": 57,
    "start_time": "2023-12-10T07:42:46.085Z"
   },
   {
    "duration": 206,
    "start_time": "2023-12-10T07:42:46.144Z"
   },
   {
    "duration": 114,
    "start_time": "2023-12-10T07:42:46.352Z"
   },
   {
    "duration": 117,
    "start_time": "2023-12-10T07:42:46.469Z"
   },
   {
    "duration": 193,
    "start_time": "2023-12-10T07:42:46.587Z"
   },
   {
    "duration": 139,
    "start_time": "2023-12-10T07:42:46.782Z"
   },
   {
    "duration": 127,
    "start_time": "2023-12-10T07:42:46.923Z"
   },
   {
    "duration": 106,
    "start_time": "2023-12-10T07:42:47.051Z"
   },
   {
    "duration": 122,
    "start_time": "2023-12-10T07:42:47.159Z"
   },
   {
    "duration": 119,
    "start_time": "2023-12-10T07:42:47.282Z"
   },
   {
    "duration": 110,
    "start_time": "2023-12-10T07:42:47.403Z"
   },
   {
    "duration": 13,
    "start_time": "2023-12-10T07:42:47.515Z"
   },
   {
    "duration": 15,
    "start_time": "2023-12-10T07:42:47.529Z"
   },
   {
    "duration": 11,
    "start_time": "2023-12-10T07:42:47.545Z"
   },
   {
    "duration": 5,
    "start_time": "2023-12-10T07:42:47.557Z"
   },
   {
    "duration": 5,
    "start_time": "2023-12-10T07:52:21.655Z"
   },
   {
    "duration": 5,
    "start_time": "2023-12-10T07:52:26.283Z"
   },
   {
    "duration": 106,
    "start_time": "2023-12-10T07:52:31.214Z"
   },
   {
    "duration": 4,
    "start_time": "2023-12-10T07:52:40.047Z"
   },
   {
    "duration": 1144,
    "start_time": "2023-12-10T07:53:35.647Z"
   },
   {
    "duration": 55,
    "start_time": "2023-12-10T07:53:36.793Z"
   },
   {
    "duration": 22,
    "start_time": "2023-12-10T07:53:36.849Z"
   },
   {
    "duration": 34,
    "start_time": "2023-12-10T07:53:36.873Z"
   },
   {
    "duration": 8,
    "start_time": "2023-12-10T07:53:36.909Z"
   },
   {
    "duration": 25,
    "start_time": "2023-12-10T07:53:36.918Z"
   },
   {
    "duration": 28,
    "start_time": "2023-12-10T07:53:36.944Z"
   },
   {
    "duration": 24,
    "start_time": "2023-12-10T07:53:36.974Z"
   },
   {
    "duration": 9,
    "start_time": "2023-12-10T07:53:37.000Z"
   },
   {
    "duration": 39,
    "start_time": "2023-12-10T07:53:37.012Z"
   },
   {
    "duration": 15,
    "start_time": "2023-12-10T07:53:37.053Z"
   },
   {
    "duration": 290,
    "start_time": "2023-12-10T07:53:37.070Z"
   },
   {
    "duration": 425,
    "start_time": "2023-12-10T07:53:37.361Z"
   },
   {
    "duration": 22,
    "start_time": "2023-12-10T07:53:37.788Z"
   },
   {
    "duration": 435,
    "start_time": "2023-12-10T07:53:37.812Z"
   },
   {
    "duration": 11,
    "start_time": "2023-12-10T07:53:38.249Z"
   },
   {
    "duration": 309,
    "start_time": "2023-12-10T07:53:38.262Z"
   },
   {
    "duration": 361,
    "start_time": "2023-12-10T07:53:38.573Z"
   },
   {
    "duration": 487,
    "start_time": "2023-12-10T07:53:38.936Z"
   },
   {
    "duration": 469,
    "start_time": "2023-12-10T07:53:39.425Z"
   },
   {
    "duration": 774,
    "start_time": "2023-12-10T07:53:39.896Z"
   },
   {
    "duration": 224,
    "start_time": "2023-12-10T07:53:40.671Z"
   },
   {
    "duration": 718,
    "start_time": "2023-12-10T07:53:40.897Z"
   },
   {
    "duration": 228,
    "start_time": "2023-12-10T07:53:41.616Z"
   },
   {
    "duration": 53,
    "start_time": "2023-12-10T07:53:41.845Z"
   },
   {
    "duration": 219,
    "start_time": "2023-12-10T07:53:41.900Z"
   },
   {
    "duration": 115,
    "start_time": "2023-12-10T07:53:42.121Z"
   },
   {
    "duration": 115,
    "start_time": "2023-12-10T07:53:42.243Z"
   },
   {
    "duration": 199,
    "start_time": "2023-12-10T07:53:42.359Z"
   },
   {
    "duration": 122,
    "start_time": "2023-12-10T07:53:42.560Z"
   },
   {
    "duration": 128,
    "start_time": "2023-12-10T07:53:42.683Z"
   },
   {
    "duration": 152,
    "start_time": "2023-12-10T07:53:42.813Z"
   },
   {
    "duration": 122,
    "start_time": "2023-12-10T07:53:42.966Z"
   },
   {
    "duration": 128,
    "start_time": "2023-12-10T07:53:43.090Z"
   },
   {
    "duration": 104,
    "start_time": "2023-12-10T07:53:43.219Z"
   },
   {
    "duration": 21,
    "start_time": "2023-12-10T07:53:43.324Z"
   },
   {
    "duration": 5,
    "start_time": "2023-12-10T07:53:43.346Z"
   },
   {
    "duration": 42,
    "start_time": "2023-12-10T07:53:43.352Z"
   },
   {
    "duration": 5,
    "start_time": "2023-12-10T07:53:43.396Z"
   },
   {
    "duration": 47,
    "start_time": "2023-12-10T08:17:33.753Z"
   },
   {
    "duration": 1346,
    "start_time": "2023-12-10T09:24:30.129Z"
   },
   {
    "duration": 181,
    "start_time": "2023-12-10T09:24:33.000Z"
   },
   {
    "duration": 22,
    "start_time": "2023-12-10T09:24:33.540Z"
   },
   {
    "duration": 34,
    "start_time": "2023-12-10T09:24:34.810Z"
   },
   {
    "duration": 7,
    "start_time": "2023-12-10T09:24:35.601Z"
   },
   {
    "duration": 4,
    "start_time": "2023-12-10T09:24:36.080Z"
   },
   {
    "duration": 26,
    "start_time": "2023-12-10T09:24:37.158Z"
   },
   {
    "duration": 15,
    "start_time": "2023-12-10T09:24:39.254Z"
   },
   {
    "duration": 15,
    "start_time": "2023-12-10T09:26:10.960Z"
   },
   {
    "duration": 18,
    "start_time": "2023-12-10T09:27:00.131Z"
   },
   {
    "duration": 20,
    "start_time": "2023-12-10T09:27:20.996Z"
   },
   {
    "duration": 18,
    "start_time": "2023-12-10T09:27:40.800Z"
   },
   {
    "duration": 15,
    "start_time": "2023-12-10T09:27:59.157Z"
   },
   {
    "duration": 17,
    "start_time": "2023-12-10T09:32:20.272Z"
   },
   {
    "duration": 18,
    "start_time": "2023-12-10T09:32:40.310Z"
   },
   {
    "duration": 1128,
    "start_time": "2023-12-10T09:33:11.520Z"
   },
   {
    "duration": 53,
    "start_time": "2023-12-10T09:33:12.650Z"
   },
   {
    "duration": 21,
    "start_time": "2023-12-10T09:33:12.704Z"
   },
   {
    "duration": 34,
    "start_time": "2023-12-10T09:33:12.727Z"
   },
   {
    "duration": 7,
    "start_time": "2023-12-10T09:33:12.762Z"
   },
   {
    "duration": 5,
    "start_time": "2023-12-10T09:33:12.770Z"
   },
   {
    "duration": 35,
    "start_time": "2023-12-10T09:33:12.776Z"
   },
   {
    "duration": 13,
    "start_time": "2023-12-10T09:33:12.831Z"
   },
   {
    "duration": 14,
    "start_time": "2023-12-10T09:33:12.846Z"
   },
   {
    "duration": 19,
    "start_time": "2023-12-10T09:33:12.862Z"
   },
   {
    "duration": 17,
    "start_time": "2023-12-10T09:33:12.882Z"
   },
   {
    "duration": 346,
    "start_time": "2023-12-10T09:33:12.900Z"
   },
   {
    "duration": 386,
    "start_time": "2023-12-10T09:33:13.247Z"
   },
   {
    "duration": 21,
    "start_time": "2023-12-10T09:33:13.634Z"
   },
   {
    "duration": 394,
    "start_time": "2023-12-10T09:33:13.657Z"
   },
   {
    "duration": 12,
    "start_time": "2023-12-10T09:33:14.053Z"
   },
   {
    "duration": 298,
    "start_time": "2023-12-10T09:33:14.066Z"
   },
   {
    "duration": 328,
    "start_time": "2023-12-10T09:33:14.366Z"
   },
   {
    "duration": 468,
    "start_time": "2023-12-10T09:33:14.696Z"
   },
   {
    "duration": 518,
    "start_time": "2023-12-10T09:33:15.166Z"
   },
   {
    "duration": 264,
    "start_time": "2023-12-10T09:33:15.685Z"
   },
   {
    "duration": 0,
    "start_time": "2023-12-10T09:33:15.952Z"
   },
   {
    "duration": 0,
    "start_time": "2023-12-10T09:33:15.953Z"
   },
   {
    "duration": 0,
    "start_time": "2023-12-10T09:33:15.954Z"
   },
   {
    "duration": 0,
    "start_time": "2023-12-10T09:33:15.955Z"
   },
   {
    "duration": 0,
    "start_time": "2023-12-10T09:33:15.956Z"
   },
   {
    "duration": 0,
    "start_time": "2023-12-10T09:33:15.957Z"
   },
   {
    "duration": 0,
    "start_time": "2023-12-10T09:33:15.958Z"
   },
   {
    "duration": 0,
    "start_time": "2023-12-10T09:33:15.959Z"
   },
   {
    "duration": 0,
    "start_time": "2023-12-10T09:33:15.960Z"
   },
   {
    "duration": 0,
    "start_time": "2023-12-10T09:33:15.962Z"
   },
   {
    "duration": 0,
    "start_time": "2023-12-10T09:33:15.963Z"
   },
   {
    "duration": 0,
    "start_time": "2023-12-10T09:33:15.964Z"
   },
   {
    "duration": 0,
    "start_time": "2023-12-10T09:33:15.965Z"
   },
   {
    "duration": 0,
    "start_time": "2023-12-10T09:33:15.966Z"
   },
   {
    "duration": 0,
    "start_time": "2023-12-10T09:33:15.968Z"
   },
   {
    "duration": 0,
    "start_time": "2023-12-10T09:33:15.969Z"
   },
   {
    "duration": 0,
    "start_time": "2023-12-10T09:33:15.970Z"
   },
   {
    "duration": 0,
    "start_time": "2023-12-10T09:33:15.971Z"
   },
   {
    "duration": 17,
    "start_time": "2023-12-10T09:35:44.627Z"
   },
   {
    "duration": 27,
    "start_time": "2023-12-10T09:36:17.133Z"
   },
   {
    "duration": 19,
    "start_time": "2023-12-10T09:37:04.415Z"
   },
   {
    "duration": 25,
    "start_time": "2023-12-10T09:37:14.900Z"
   },
   {
    "duration": 20,
    "start_time": "2023-12-10T09:39:28.403Z"
   },
   {
    "duration": 27,
    "start_time": "2023-12-10T09:39:34.076Z"
   },
   {
    "duration": 26,
    "start_time": "2023-12-10T09:40:09.285Z"
   },
   {
    "duration": 1241,
    "start_time": "2023-12-10T09:40:19.012Z"
   },
   {
    "duration": 57,
    "start_time": "2023-12-10T09:40:20.255Z"
   },
   {
    "duration": 22,
    "start_time": "2023-12-10T09:40:20.314Z"
   },
   {
    "duration": 56,
    "start_time": "2023-12-10T09:40:20.339Z"
   },
   {
    "duration": 10,
    "start_time": "2023-12-10T09:40:20.397Z"
   },
   {
    "duration": 6,
    "start_time": "2023-12-10T09:40:20.408Z"
   },
   {
    "duration": 31,
    "start_time": "2023-12-10T09:40:20.415Z"
   },
   {
    "duration": 21,
    "start_time": "2023-12-10T09:40:20.448Z"
   },
   {
    "duration": 15,
    "start_time": "2023-12-10T09:40:20.471Z"
   },
   {
    "duration": 43,
    "start_time": "2023-12-10T09:40:20.489Z"
   },
   {
    "duration": 19,
    "start_time": "2023-12-10T09:40:20.534Z"
   },
   {
    "duration": 343,
    "start_time": "2023-12-10T09:40:20.555Z"
   },
   {
    "duration": 436,
    "start_time": "2023-12-10T09:40:20.900Z"
   },
   {
    "duration": 25,
    "start_time": "2023-12-10T09:40:21.337Z"
   },
   {
    "duration": 473,
    "start_time": "2023-12-10T09:40:21.364Z"
   },
   {
    "duration": 14,
    "start_time": "2023-12-10T09:40:21.839Z"
   },
   {
    "duration": 333,
    "start_time": "2023-12-10T09:40:21.855Z"
   },
   {
    "duration": 355,
    "start_time": "2023-12-10T09:40:22.190Z"
   },
   {
    "duration": 428,
    "start_time": "2023-12-10T09:40:22.546Z"
   },
   {
    "duration": 527,
    "start_time": "2023-12-10T09:40:22.975Z"
   },
   {
    "duration": 289,
    "start_time": "2023-12-10T09:40:23.503Z"
   },
   {
    "duration": 0,
    "start_time": "2023-12-10T09:40:23.796Z"
   },
   {
    "duration": 0,
    "start_time": "2023-12-10T09:40:23.798Z"
   },
   {
    "duration": 0,
    "start_time": "2023-12-10T09:40:23.800Z"
   },
   {
    "duration": 0,
    "start_time": "2023-12-10T09:40:23.802Z"
   },
   {
    "duration": 0,
    "start_time": "2023-12-10T09:40:23.803Z"
   },
   {
    "duration": 0,
    "start_time": "2023-12-10T09:40:23.805Z"
   },
   {
    "duration": 0,
    "start_time": "2023-12-10T09:40:23.806Z"
   },
   {
    "duration": 0,
    "start_time": "2023-12-10T09:40:23.807Z"
   },
   {
    "duration": 0,
    "start_time": "2023-12-10T09:40:23.831Z"
   },
   {
    "duration": 0,
    "start_time": "2023-12-10T09:40:23.832Z"
   },
   {
    "duration": 0,
    "start_time": "2023-12-10T09:40:23.834Z"
   },
   {
    "duration": 0,
    "start_time": "2023-12-10T09:40:23.835Z"
   },
   {
    "duration": 0,
    "start_time": "2023-12-10T09:40:23.836Z"
   },
   {
    "duration": 0,
    "start_time": "2023-12-10T09:40:23.837Z"
   },
   {
    "duration": 0,
    "start_time": "2023-12-10T09:40:23.838Z"
   },
   {
    "duration": 0,
    "start_time": "2023-12-10T09:40:23.839Z"
   },
   {
    "duration": 1,
    "start_time": "2023-12-10T09:40:23.840Z"
   },
   {
    "duration": 0,
    "start_time": "2023-12-10T09:40:23.841Z"
   },
   {
    "duration": 25,
    "start_time": "2023-12-10T09:41:01.702Z"
   },
   {
    "duration": 25,
    "start_time": "2023-12-10T09:41:37.776Z"
   },
   {
    "duration": 24,
    "start_time": "2023-12-10T09:41:44.865Z"
   },
   {
    "duration": 1200,
    "start_time": "2023-12-10T09:41:54.392Z"
   },
   {
    "duration": 54,
    "start_time": "2023-12-10T09:41:55.594Z"
   },
   {
    "duration": 21,
    "start_time": "2023-12-10T09:41:55.649Z"
   },
   {
    "duration": 35,
    "start_time": "2023-12-10T09:41:55.673Z"
   },
   {
    "duration": 23,
    "start_time": "2023-12-10T09:41:55.709Z"
   },
   {
    "duration": 18,
    "start_time": "2023-12-10T09:41:55.734Z"
   },
   {
    "duration": 32,
    "start_time": "2023-12-10T09:41:55.753Z"
   },
   {
    "duration": 22,
    "start_time": "2023-12-10T09:41:55.787Z"
   },
   {
    "duration": 22,
    "start_time": "2023-12-10T09:41:55.811Z"
   },
   {
    "duration": 21,
    "start_time": "2023-12-10T09:41:55.836Z"
   },
   {
    "duration": 17,
    "start_time": "2023-12-10T09:41:55.858Z"
   },
   {
    "duration": 345,
    "start_time": "2023-12-10T09:41:55.876Z"
   },
   {
    "duration": 384,
    "start_time": "2023-12-10T09:41:56.224Z"
   },
   {
    "duration": 31,
    "start_time": "2023-12-10T09:41:56.610Z"
   },
   {
    "duration": 372,
    "start_time": "2023-12-10T09:41:56.643Z"
   },
   {
    "duration": 15,
    "start_time": "2023-12-10T09:41:57.017Z"
   },
   {
    "duration": 319,
    "start_time": "2023-12-10T09:41:57.033Z"
   },
   {
    "duration": 330,
    "start_time": "2023-12-10T09:41:57.354Z"
   },
   {
    "duration": 435,
    "start_time": "2023-12-10T09:41:57.686Z"
   },
   {
    "duration": 532,
    "start_time": "2023-12-10T09:41:58.122Z"
   },
   {
    "duration": 263,
    "start_time": "2023-12-10T09:41:58.656Z"
   },
   {
    "duration": 0,
    "start_time": "2023-12-10T09:41:58.921Z"
   },
   {
    "duration": 0,
    "start_time": "2023-12-10T09:41:58.922Z"
   },
   {
    "duration": 0,
    "start_time": "2023-12-10T09:41:58.923Z"
   },
   {
    "duration": 0,
    "start_time": "2023-12-10T09:41:58.930Z"
   },
   {
    "duration": 0,
    "start_time": "2023-12-10T09:41:58.931Z"
   },
   {
    "duration": 0,
    "start_time": "2023-12-10T09:41:58.932Z"
   },
   {
    "duration": 0,
    "start_time": "2023-12-10T09:41:58.933Z"
   },
   {
    "duration": 0,
    "start_time": "2023-12-10T09:41:58.934Z"
   },
   {
    "duration": 0,
    "start_time": "2023-12-10T09:41:58.935Z"
   },
   {
    "duration": 0,
    "start_time": "2023-12-10T09:41:58.935Z"
   },
   {
    "duration": 0,
    "start_time": "2023-12-10T09:41:58.936Z"
   },
   {
    "duration": 0,
    "start_time": "2023-12-10T09:41:58.937Z"
   },
   {
    "duration": 0,
    "start_time": "2023-12-10T09:41:58.938Z"
   },
   {
    "duration": 0,
    "start_time": "2023-12-10T09:41:58.939Z"
   },
   {
    "duration": 0,
    "start_time": "2023-12-10T09:41:58.940Z"
   },
   {
    "duration": 0,
    "start_time": "2023-12-10T09:41:58.941Z"
   },
   {
    "duration": 0,
    "start_time": "2023-12-10T09:41:58.942Z"
   },
   {
    "duration": 0,
    "start_time": "2023-12-10T09:41:58.943Z"
   },
   {
    "duration": 179,
    "start_time": "2023-12-10T09:42:47.233Z"
   },
   {
    "duration": 166,
    "start_time": "2023-12-10T09:44:05.771Z"
   },
   {
    "duration": 11,
    "start_time": "2023-12-10T09:44:33.708Z"
   },
   {
    "duration": 12,
    "start_time": "2023-12-10T09:44:51.596Z"
   },
   {
    "duration": 759,
    "start_time": "2023-12-10T09:45:03.434Z"
   },
   {
    "duration": 228,
    "start_time": "2023-12-10T09:45:11.404Z"
   },
   {
    "duration": 193,
    "start_time": "2023-12-10T09:45:14.225Z"
   },
   {
    "duration": 728,
    "start_time": "2023-12-10T09:45:44.790Z"
   },
   {
    "duration": 745,
    "start_time": "2023-12-10T09:46:25.371Z"
   },
   {
    "duration": 192,
    "start_time": "2023-12-10T09:46:34.303Z"
   },
   {
    "duration": 195,
    "start_time": "2023-12-10T09:46:43.810Z"
   },
   {
    "duration": 54,
    "start_time": "2023-12-10T09:46:49.697Z"
   },
   {
    "duration": 191,
    "start_time": "2023-12-10T09:46:54.745Z"
   },
   {
    "duration": 185,
    "start_time": "2023-12-10T09:46:59.520Z"
   },
   {
    "duration": 119,
    "start_time": "2023-12-10T09:47:15.357Z"
   },
   {
    "duration": 124,
    "start_time": "2023-12-10T09:47:20.050Z"
   },
   {
    "duration": 110,
    "start_time": "2023-12-10T09:47:24.181Z"
   },
   {
    "duration": 94,
    "start_time": "2023-12-10T09:47:32.356Z"
   },
   {
    "duration": 101,
    "start_time": "2023-12-10T09:47:37.002Z"
   },
   {
    "duration": 11,
    "start_time": "2023-12-10T09:49:18.107Z"
   },
   {
    "duration": 5,
    "start_time": "2023-12-10T09:49:28.815Z"
   },
   {
    "duration": 18,
    "start_time": "2023-12-10T09:51:16.321Z"
   },
   {
    "duration": 5,
    "start_time": "2023-12-10T09:51:25.286Z"
   },
   {
    "duration": 28,
    "start_time": "2023-12-10T09:51:54.124Z"
   },
   {
    "duration": 43,
    "start_time": "2023-12-10T09:52:05.937Z"
   },
   {
    "duration": 50,
    "start_time": "2023-12-10T09:52:12.508Z"
   },
   {
    "duration": 21,
    "start_time": "2023-12-10T09:52:44.882Z"
   },
   {
    "duration": 47,
    "start_time": "2023-12-10T09:52:47.069Z"
   },
   {
    "duration": 5,
    "start_time": "2023-12-10T09:52:53.227Z"
   },
   {
    "duration": 19,
    "start_time": "2023-12-10T09:54:39.081Z"
   },
   {
    "duration": 5,
    "start_time": "2023-12-10T09:54:45.322Z"
   },
   {
    "duration": 20,
    "start_time": "2023-12-10T09:55:26.481Z"
   },
   {
    "duration": 36,
    "start_time": "2023-12-10T09:55:27.904Z"
   },
   {
    "duration": 5,
    "start_time": "2023-12-10T09:55:31.493Z"
   },
   {
    "duration": 6,
    "start_time": "2023-12-10T09:55:47.741Z"
   },
   {
    "duration": 6,
    "start_time": "2023-12-10T09:55:56.847Z"
   },
   {
    "duration": 6,
    "start_time": "2023-12-10T09:55:59.870Z"
   },
   {
    "duration": 6,
    "start_time": "2023-12-10T09:56:06.573Z"
   },
   {
    "duration": 5,
    "start_time": "2023-12-10T09:56:13.291Z"
   },
   {
    "duration": 5,
    "start_time": "2023-12-10T09:56:21.246Z"
   },
   {
    "duration": 1094,
    "start_time": "2023-12-10T09:57:35.875Z"
   },
   {
    "duration": 54,
    "start_time": "2023-12-10T09:57:36.971Z"
   },
   {
    "duration": 20,
    "start_time": "2023-12-10T09:57:37.026Z"
   },
   {
    "duration": 33,
    "start_time": "2023-12-10T09:57:37.048Z"
   },
   {
    "duration": 7,
    "start_time": "2023-12-10T09:57:37.083Z"
   },
   {
    "duration": 7,
    "start_time": "2023-12-10T09:57:37.091Z"
   },
   {
    "duration": 49,
    "start_time": "2023-12-10T09:57:37.099Z"
   },
   {
    "duration": 22,
    "start_time": "2023-12-10T09:57:37.150Z"
   },
   {
    "duration": 19,
    "start_time": "2023-12-10T09:57:37.173Z"
   },
   {
    "duration": 37,
    "start_time": "2023-12-10T09:57:37.194Z"
   },
   {
    "duration": 17,
    "start_time": "2023-12-10T09:57:37.233Z"
   },
   {
    "duration": 352,
    "start_time": "2023-12-10T09:57:37.252Z"
   },
   {
    "duration": 401,
    "start_time": "2023-12-10T09:57:37.606Z"
   },
   {
    "duration": 29,
    "start_time": "2023-12-10T09:57:38.009Z"
   },
   {
    "duration": 386,
    "start_time": "2023-12-10T09:57:38.041Z"
   },
   {
    "duration": 11,
    "start_time": "2023-12-10T09:57:38.431Z"
   },
   {
    "duration": 284,
    "start_time": "2023-12-10T09:57:38.444Z"
   },
   {
    "duration": 340,
    "start_time": "2023-12-10T09:57:38.730Z"
   },
   {
    "duration": 392,
    "start_time": "2023-12-10T09:57:39.072Z"
   },
   {
    "duration": 489,
    "start_time": "2023-12-10T09:57:39.466Z"
   },
   {
    "duration": 723,
    "start_time": "2023-12-10T09:57:39.957Z"
   },
   {
    "duration": 200,
    "start_time": "2023-12-10T09:57:40.681Z"
   },
   {
    "duration": 705,
    "start_time": "2023-12-10T09:57:40.883Z"
   },
   {
    "duration": 210,
    "start_time": "2023-12-10T09:57:41.589Z"
   },
   {
    "duration": 65,
    "start_time": "2023-12-10T09:57:41.801Z"
   },
   {
    "duration": 205,
    "start_time": "2023-12-10T09:57:41.868Z"
   },
   {
    "duration": 119,
    "start_time": "2023-12-10T09:57:42.075Z"
   },
   {
    "duration": 122,
    "start_time": "2023-12-10T09:57:42.199Z"
   },
   {
    "duration": 119,
    "start_time": "2023-12-10T09:57:42.323Z"
   },
   {
    "duration": 217,
    "start_time": "2023-12-10T09:57:42.444Z"
   },
   {
    "duration": 122,
    "start_time": "2023-12-10T09:57:42.663Z"
   },
   {
    "duration": 104,
    "start_time": "2023-12-10T09:57:42.787Z"
   },
   {
    "duration": 112,
    "start_time": "2023-12-10T09:57:42.892Z"
   },
   {
    "duration": 119,
    "start_time": "2023-12-10T09:57:43.006Z"
   },
   {
    "duration": 108,
    "start_time": "2023-12-10T09:57:43.126Z"
   },
   {
    "duration": 19,
    "start_time": "2023-12-10T09:57:43.236Z"
   },
   {
    "duration": 4,
    "start_time": "2023-12-10T09:57:43.257Z"
   },
   {
    "duration": 25,
    "start_time": "2023-12-10T09:57:43.262Z"
   },
   {
    "duration": 26,
    "start_time": "2023-12-10T09:57:43.288Z"
   },
   {
    "duration": 336,
    "start_time": "2023-12-10T09:59:29.332Z"
   },
   {
    "duration": 1153,
    "start_time": "2023-12-10T11:38:19.232Z"
   },
   {
    "duration": 60,
    "start_time": "2023-12-10T11:38:20.387Z"
   },
   {
    "duration": 21,
    "start_time": "2023-12-10T11:38:20.449Z"
   },
   {
    "duration": 40,
    "start_time": "2023-12-10T11:38:20.472Z"
   },
   {
    "duration": 7,
    "start_time": "2023-12-10T11:38:20.513Z"
   },
   {
    "duration": 6,
    "start_time": "2023-12-10T11:38:20.522Z"
   },
   {
    "duration": 45,
    "start_time": "2023-12-10T11:38:20.530Z"
   },
   {
    "duration": 24,
    "start_time": "2023-12-10T11:38:20.577Z"
   },
   {
    "duration": 16,
    "start_time": "2023-12-10T11:38:20.602Z"
   },
   {
    "duration": 44,
    "start_time": "2023-12-10T11:38:20.620Z"
   },
   {
    "duration": 16,
    "start_time": "2023-12-10T11:38:20.666Z"
   },
   {
    "duration": 328,
    "start_time": "2023-12-10T11:38:20.684Z"
   },
   {
    "duration": 410,
    "start_time": "2023-12-10T11:38:21.014Z"
   },
   {
    "duration": 27,
    "start_time": "2023-12-10T11:38:21.425Z"
   },
   {
    "duration": 381,
    "start_time": "2023-12-10T11:38:21.453Z"
   },
   {
    "duration": 17,
    "start_time": "2023-12-10T11:38:21.836Z"
   },
   {
    "duration": 291,
    "start_time": "2023-12-10T11:38:21.855Z"
   },
   {
    "duration": 334,
    "start_time": "2023-12-10T11:38:22.147Z"
   },
   {
    "duration": 407,
    "start_time": "2023-12-10T11:38:22.482Z"
   },
   {
    "duration": 494,
    "start_time": "2023-12-10T11:38:22.891Z"
   },
   {
    "duration": 740,
    "start_time": "2023-12-10T11:38:23.387Z"
   },
   {
    "duration": 210,
    "start_time": "2023-12-10T11:38:24.129Z"
   },
   {
    "duration": 669,
    "start_time": "2023-12-10T11:38:24.340Z"
   },
   {
    "duration": 236,
    "start_time": "2023-12-10T11:38:25.010Z"
   },
   {
    "duration": 52,
    "start_time": "2023-12-10T11:38:25.247Z"
   },
   {
    "duration": 205,
    "start_time": "2023-12-10T11:38:25.300Z"
   },
   {
    "duration": 116,
    "start_time": "2023-12-10T11:38:25.506Z"
   },
   {
    "duration": 115,
    "start_time": "2023-12-10T11:38:25.626Z"
   },
   {
    "duration": 112,
    "start_time": "2023-12-10T11:38:25.742Z"
   },
   {
    "duration": 189,
    "start_time": "2023-12-10T11:38:25.856Z"
   },
   {
    "duration": 119,
    "start_time": "2023-12-10T11:38:26.051Z"
   },
   {
    "duration": 114,
    "start_time": "2023-12-10T11:38:26.171Z"
   },
   {
    "duration": 122,
    "start_time": "2023-12-10T11:38:26.286Z"
   },
   {
    "duration": 126,
    "start_time": "2023-12-10T11:38:26.410Z"
   },
   {
    "duration": 103,
    "start_time": "2023-12-10T11:38:26.537Z"
   },
   {
    "duration": 24,
    "start_time": "2023-12-10T11:38:26.641Z"
   },
   {
    "duration": 11,
    "start_time": "2023-12-10T11:38:26.667Z"
   },
   {
    "duration": 19,
    "start_time": "2023-12-10T11:38:26.679Z"
   },
   {
    "duration": 4,
    "start_time": "2023-12-10T11:38:26.699Z"
   },
   {
    "duration": 1127,
    "start_time": "2023-12-10T11:42:12.789Z"
   },
   {
    "duration": 56,
    "start_time": "2023-12-10T11:42:13.918Z"
   },
   {
    "duration": 21,
    "start_time": "2023-12-10T11:42:13.975Z"
   },
   {
    "duration": 34,
    "start_time": "2023-12-10T11:42:13.998Z"
   },
   {
    "duration": 21,
    "start_time": "2023-12-10T11:42:14.034Z"
   },
   {
    "duration": 6,
    "start_time": "2023-12-10T11:42:14.057Z"
   },
   {
    "duration": 31,
    "start_time": "2023-12-10T11:42:14.064Z"
   },
   {
    "duration": 24,
    "start_time": "2023-12-10T11:42:14.096Z"
   },
   {
    "duration": 38,
    "start_time": "2023-12-10T11:42:14.122Z"
   },
   {
    "duration": 20,
    "start_time": "2023-12-10T11:42:14.162Z"
   },
   {
    "duration": 16,
    "start_time": "2023-12-10T11:42:14.184Z"
   },
   {
    "duration": 355,
    "start_time": "2023-12-10T11:42:14.202Z"
   },
   {
    "duration": 388,
    "start_time": "2023-12-10T11:42:14.558Z"
   },
   {
    "duration": 22,
    "start_time": "2023-12-10T11:42:14.951Z"
   },
   {
    "duration": 414,
    "start_time": "2023-12-10T11:42:14.975Z"
   },
   {
    "duration": 12,
    "start_time": "2023-12-10T11:42:15.390Z"
   },
   {
    "duration": 323,
    "start_time": "2023-12-10T11:42:15.403Z"
   },
   {
    "duration": 328,
    "start_time": "2023-12-10T11:42:15.728Z"
   },
   {
    "duration": 417,
    "start_time": "2023-12-10T11:42:16.057Z"
   },
   {
    "duration": 529,
    "start_time": "2023-12-10T11:42:16.476Z"
   },
   {
    "duration": 771,
    "start_time": "2023-12-10T11:42:17.007Z"
   },
   {
    "duration": 217,
    "start_time": "2023-12-10T11:42:17.780Z"
   },
   {
    "duration": 684,
    "start_time": "2023-12-10T11:42:17.998Z"
   },
   {
    "duration": 226,
    "start_time": "2023-12-10T11:42:18.684Z"
   },
   {
    "duration": 74,
    "start_time": "2023-12-10T11:42:18.913Z"
   },
   {
    "duration": 229,
    "start_time": "2023-12-10T11:42:18.989Z"
   },
   {
    "duration": 120,
    "start_time": "2023-12-10T11:42:19.220Z"
   },
   {
    "duration": 121,
    "start_time": "2023-12-10T11:42:19.351Z"
   },
   {
    "duration": 110,
    "start_time": "2023-12-10T11:42:19.473Z"
   },
   {
    "duration": 202,
    "start_time": "2023-12-10T11:42:19.585Z"
   },
   {
    "duration": 122,
    "start_time": "2023-12-10T11:42:19.788Z"
   },
   {
    "duration": 110,
    "start_time": "2023-12-10T11:42:19.912Z"
   },
   {
    "duration": 124,
    "start_time": "2023-12-10T11:42:20.024Z"
   },
   {
    "duration": 117,
    "start_time": "2023-12-10T11:42:20.152Z"
   },
   {
    "duration": 123,
    "start_time": "2023-12-10T11:42:20.271Z"
   },
   {
    "duration": 20,
    "start_time": "2023-12-10T11:42:20.396Z"
   },
   {
    "duration": 5,
    "start_time": "2023-12-10T11:42:20.418Z"
   },
   {
    "duration": 46,
    "start_time": "2023-12-10T11:42:20.425Z"
   },
   {
    "duration": 12,
    "start_time": "2023-12-10T11:42:20.473Z"
   },
   {
    "duration": 47,
    "start_time": "2023-12-10T12:22:52.042Z"
   },
   {
    "duration": 1295,
    "start_time": "2023-12-10T12:22:57.224Z"
   },
   {
    "duration": 179,
    "start_time": "2023-12-10T12:22:58.521Z"
   },
   {
    "duration": 32,
    "start_time": "2023-12-10T12:22:58.701Z"
   },
   {
    "duration": 34,
    "start_time": "2023-12-10T12:22:58.735Z"
   },
   {
    "duration": 7,
    "start_time": "2023-12-10T12:22:58.771Z"
   },
   {
    "duration": 9,
    "start_time": "2023-12-10T12:22:58.779Z"
   },
   {
    "duration": 33,
    "start_time": "2023-12-10T12:22:58.789Z"
   },
   {
    "duration": 19,
    "start_time": "2023-12-10T12:22:58.824Z"
   },
   {
    "duration": 40,
    "start_time": "2023-12-10T12:22:58.844Z"
   },
   {
    "duration": 20,
    "start_time": "2023-12-10T12:22:58.887Z"
   },
   {
    "duration": 19,
    "start_time": "2023-12-10T12:22:58.909Z"
   },
   {
    "duration": 370,
    "start_time": "2023-12-10T12:22:58.929Z"
   },
   {
    "duration": 497,
    "start_time": "2023-12-10T12:22:59.300Z"
   },
   {
    "duration": 23,
    "start_time": "2023-12-10T12:22:59.799Z"
   },
   {
    "duration": 446,
    "start_time": "2023-12-10T12:22:59.823Z"
   },
   {
    "duration": 13,
    "start_time": "2023-12-10T12:23:00.271Z"
   },
   {
    "duration": 377,
    "start_time": "2023-12-10T12:23:00.285Z"
   },
   {
    "duration": 353,
    "start_time": "2023-12-10T12:23:00.664Z"
   },
   {
    "duration": 473,
    "start_time": "2023-12-10T12:23:01.019Z"
   },
   {
    "duration": 521,
    "start_time": "2023-12-10T12:23:01.494Z"
   },
   {
    "duration": 915,
    "start_time": "2023-12-10T12:23:02.018Z"
   },
   {
    "duration": 0,
    "start_time": "2023-12-10T12:23:02.935Z"
   },
   {
    "duration": 0,
    "start_time": "2023-12-10T12:23:02.937Z"
   },
   {
    "duration": 0,
    "start_time": "2023-12-10T12:23:02.938Z"
   },
   {
    "duration": 0,
    "start_time": "2023-12-10T12:23:02.939Z"
   },
   {
    "duration": 0,
    "start_time": "2023-12-10T12:23:02.940Z"
   },
   {
    "duration": 0,
    "start_time": "2023-12-10T12:23:02.941Z"
   },
   {
    "duration": 0,
    "start_time": "2023-12-10T12:23:02.942Z"
   },
   {
    "duration": 0,
    "start_time": "2023-12-10T12:23:02.943Z"
   },
   {
    "duration": 0,
    "start_time": "2023-12-10T12:23:02.944Z"
   },
   {
    "duration": 0,
    "start_time": "2023-12-10T12:23:02.945Z"
   },
   {
    "duration": 0,
    "start_time": "2023-12-10T12:23:02.946Z"
   },
   {
    "duration": 0,
    "start_time": "2023-12-10T12:23:02.947Z"
   },
   {
    "duration": 0,
    "start_time": "2023-12-10T12:23:02.948Z"
   },
   {
    "duration": 0,
    "start_time": "2023-12-10T12:23:02.949Z"
   },
   {
    "duration": 0,
    "start_time": "2023-12-10T12:23:02.974Z"
   },
   {
    "duration": 0,
    "start_time": "2023-12-10T12:23:02.975Z"
   },
   {
    "duration": 0,
    "start_time": "2023-12-10T12:23:02.976Z"
   },
   {
    "duration": 0,
    "start_time": "2023-12-10T12:23:02.977Z"
   },
   {
    "duration": 25,
    "start_time": "2023-12-10T12:23:17.970Z"
   },
   {
    "duration": 27,
    "start_time": "2023-12-10T12:24:22.514Z"
   },
   {
    "duration": 27,
    "start_time": "2023-12-10T12:24:27.205Z"
   },
   {
    "duration": 29,
    "start_time": "2023-12-10T12:24:44.992Z"
   },
   {
    "duration": 25,
    "start_time": "2023-12-10T12:24:59.995Z"
   },
   {
    "duration": 18,
    "start_time": "2023-12-10T12:26:12.033Z"
   },
   {
    "duration": 18,
    "start_time": "2023-12-10T12:26:18.226Z"
   },
   {
    "duration": 20,
    "start_time": "2023-12-10T12:26:29.852Z"
   },
   {
    "duration": 17,
    "start_time": "2023-12-10T12:26:48.443Z"
   },
   {
    "duration": 19,
    "start_time": "2023-12-10T12:27:14.506Z"
   },
   {
    "duration": 20,
    "start_time": "2023-12-10T12:27:42.174Z"
   },
   {
    "duration": 20,
    "start_time": "2023-12-10T12:27:47.589Z"
   },
   {
    "duration": 20,
    "start_time": "2023-12-10T12:27:58.367Z"
   },
   {
    "duration": 1210,
    "start_time": "2023-12-10T12:28:06.057Z"
   },
   {
    "duration": 56,
    "start_time": "2023-12-10T12:28:07.270Z"
   },
   {
    "duration": 21,
    "start_time": "2023-12-10T12:28:07.327Z"
   },
   {
    "duration": 50,
    "start_time": "2023-12-10T12:28:07.351Z"
   },
   {
    "duration": 13,
    "start_time": "2023-12-10T12:28:07.403Z"
   },
   {
    "duration": 34,
    "start_time": "2023-12-10T12:28:07.418Z"
   },
   {
    "duration": 57,
    "start_time": "2023-12-10T12:28:07.454Z"
   },
   {
    "duration": 20,
    "start_time": "2023-12-10T12:28:07.513Z"
   },
   {
    "duration": 44,
    "start_time": "2023-12-10T12:28:07.535Z"
   },
   {
    "duration": 49,
    "start_time": "2023-12-10T12:28:07.581Z"
   },
   {
    "duration": 17,
    "start_time": "2023-12-10T12:28:07.632Z"
   },
   {
    "duration": 363,
    "start_time": "2023-12-10T12:28:07.651Z"
   },
   {
    "duration": 469,
    "start_time": "2023-12-10T12:28:08.015Z"
   },
   {
    "duration": 24,
    "start_time": "2023-12-10T12:28:08.486Z"
   },
   {
    "duration": 466,
    "start_time": "2023-12-10T12:28:08.512Z"
   },
   {
    "duration": 14,
    "start_time": "2023-12-10T12:28:08.980Z"
   },
   {
    "duration": 350,
    "start_time": "2023-12-10T12:28:08.996Z"
   },
   {
    "duration": 378,
    "start_time": "2023-12-10T12:28:09.349Z"
   },
   {
    "duration": 466,
    "start_time": "2023-12-10T12:28:09.729Z"
   },
   {
    "duration": 529,
    "start_time": "2023-12-10T12:28:10.197Z"
   },
   {
    "duration": 823,
    "start_time": "2023-12-10T12:28:10.728Z"
   },
   {
    "duration": 228,
    "start_time": "2023-12-10T12:28:11.552Z"
   },
   {
    "duration": 759,
    "start_time": "2023-12-10T12:28:11.781Z"
   },
   {
    "duration": 229,
    "start_time": "2023-12-10T12:28:12.542Z"
   },
   {
    "duration": 58,
    "start_time": "2023-12-10T12:28:12.774Z"
   },
   {
    "duration": 229,
    "start_time": "2023-12-10T12:28:12.834Z"
   },
   {
    "duration": 121,
    "start_time": "2023-12-10T12:28:13.066Z"
   },
   {
    "duration": 129,
    "start_time": "2023-12-10T12:28:13.192Z"
   },
   {
    "duration": 123,
    "start_time": "2023-12-10T12:28:13.322Z"
   },
   {
    "duration": 215,
    "start_time": "2023-12-10T12:28:13.447Z"
   },
   {
    "duration": 133,
    "start_time": "2023-12-10T12:28:13.664Z"
   },
   {
    "duration": 126,
    "start_time": "2023-12-10T12:28:13.800Z"
   },
   {
    "duration": 138,
    "start_time": "2023-12-10T12:28:13.928Z"
   },
   {
    "duration": 127,
    "start_time": "2023-12-10T12:28:14.068Z"
   },
   {
    "duration": 120,
    "start_time": "2023-12-10T12:28:14.198Z"
   },
   {
    "duration": 18,
    "start_time": "2023-12-10T12:28:14.321Z"
   },
   {
    "duration": 15,
    "start_time": "2023-12-10T12:28:14.341Z"
   },
   {
    "duration": 52,
    "start_time": "2023-12-10T12:28:14.357Z"
   },
   {
    "duration": 26,
    "start_time": "2023-12-10T12:28:14.411Z"
   },
   {
    "duration": 440,
    "start_time": "2023-12-10T12:28:42.255Z"
   },
   {
    "duration": 1296,
    "start_time": "2023-12-10T13:51:33.055Z"
   },
   {
    "duration": 93,
    "start_time": "2023-12-10T13:51:34.356Z"
   },
   {
    "duration": 21,
    "start_time": "2023-12-10T13:51:34.451Z"
   },
   {
    "duration": 36,
    "start_time": "2023-12-10T13:51:34.474Z"
   },
   {
    "duration": 6,
    "start_time": "2023-12-10T13:51:34.512Z"
   },
   {
    "duration": 11,
    "start_time": "2023-12-10T13:51:34.519Z"
   },
   {
    "duration": 44,
    "start_time": "2023-12-10T13:51:34.531Z"
   },
   {
    "duration": 20,
    "start_time": "2023-12-10T13:51:34.576Z"
   },
   {
    "duration": 15,
    "start_time": "2023-12-10T13:51:34.597Z"
   },
   {
    "duration": 42,
    "start_time": "2023-12-10T13:51:34.614Z"
   },
   {
    "duration": 17,
    "start_time": "2023-12-10T13:51:34.658Z"
   },
   {
    "duration": 325,
    "start_time": "2023-12-10T13:51:34.676Z"
   },
   {
    "duration": 458,
    "start_time": "2023-12-10T13:51:35.002Z"
   },
   {
    "duration": 23,
    "start_time": "2023-12-10T13:51:35.462Z"
   },
   {
    "duration": 414,
    "start_time": "2023-12-10T13:51:35.486Z"
   },
   {
    "duration": 11,
    "start_time": "2023-12-10T13:51:35.902Z"
   },
   {
    "duration": 295,
    "start_time": "2023-12-10T13:51:35.915Z"
   },
   {
    "duration": 352,
    "start_time": "2023-12-10T13:51:36.212Z"
   },
   {
    "duration": 414,
    "start_time": "2023-12-10T13:51:36.565Z"
   },
   {
    "duration": 520,
    "start_time": "2023-12-10T13:51:36.980Z"
   },
   {
    "duration": 732,
    "start_time": "2023-12-10T13:51:37.502Z"
   },
   {
    "duration": 208,
    "start_time": "2023-12-10T13:51:38.236Z"
   },
   {
    "duration": 660,
    "start_time": "2023-12-10T13:51:38.445Z"
   },
   {
    "duration": 215,
    "start_time": "2023-12-10T13:51:39.107Z"
   },
   {
    "duration": 67,
    "start_time": "2023-12-10T13:51:39.324Z"
   },
   {
    "duration": 200,
    "start_time": "2023-12-10T13:51:39.393Z"
   },
   {
    "duration": 106,
    "start_time": "2023-12-10T13:51:39.594Z"
   },
   {
    "duration": 117,
    "start_time": "2023-12-10T13:51:39.703Z"
   },
   {
    "duration": 105,
    "start_time": "2023-12-10T13:51:39.822Z"
   },
   {
    "duration": 192,
    "start_time": "2023-12-10T13:51:39.929Z"
   },
   {
    "duration": 140,
    "start_time": "2023-12-10T13:51:40.123Z"
   },
   {
    "duration": 115,
    "start_time": "2023-12-10T13:51:40.264Z"
   },
   {
    "duration": 121,
    "start_time": "2023-12-10T13:51:40.380Z"
   },
   {
    "duration": 118,
    "start_time": "2023-12-10T13:51:40.502Z"
   },
   {
    "duration": 109,
    "start_time": "2023-12-10T13:51:40.622Z"
   },
   {
    "duration": 25,
    "start_time": "2023-12-10T13:51:40.733Z"
   },
   {
    "duration": 5,
    "start_time": "2023-12-10T13:51:40.760Z"
   },
   {
    "duration": 26,
    "start_time": "2023-12-10T13:51:40.766Z"
   },
   {
    "duration": 4,
    "start_time": "2023-12-10T13:51:40.793Z"
   }
  ],
  "kernelspec": {
   "display_name": "Python 3 (ipykernel)",
   "language": "python",
   "name": "python3"
  },
  "language_info": {
   "codemirror_mode": {
    "name": "ipython",
    "version": 3
   },
   "file_extension": ".py",
   "mimetype": "text/x-python",
   "name": "python",
   "nbconvert_exporter": "python",
   "pygments_lexer": "ipython3",
   "version": "3.9.5"
  },
  "toc": {
   "base_numbering": 1,
   "nav_menu": {},
   "number_sections": true,
   "sideBar": true,
   "skip_h1_title": true,
   "title_cell": "Table of Contents",
   "title_sidebar": "Contents",
   "toc_cell": false,
   "toc_position": {},
   "toc_section_display": true,
   "toc_window_display": false
  }
 },
 "nbformat": 4,
 "nbformat_minor": 2
}
